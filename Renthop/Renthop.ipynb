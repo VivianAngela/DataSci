{
 "cells": [
  {
   "cell_type": "code",
   "execution_count": 1,
   "metadata": {
    "collapsed": true
   },
   "outputs": [],
   "source": [
    "%matplotlib inline\n",
    "import numpy as np\n",
    "import pandas as pd\n",
    "import matplotlib.pyplot as plt\n",
    "\n",
    "rent_db = pd.read_json('./train.json')"
   ]
  },
  {
   "cell_type": "code",
   "execution_count": 2,
   "metadata": {
    "collapsed": false
   },
   "outputs": [
    {
     "data": {
      "text/html": [
       "<div>\n",
       "<table border=\"1\" class=\"dataframe\">\n",
       "  <thead>\n",
       "    <tr style=\"text-align: right;\">\n",
       "      <th></th>\n",
       "      <th>bathrooms</th>\n",
       "      <th>bedrooms</th>\n",
       "      <th>building_id</th>\n",
       "      <th>created</th>\n",
       "      <th>description</th>\n",
       "      <th>display_address</th>\n",
       "      <th>features</th>\n",
       "      <th>interest_level</th>\n",
       "      <th>latitude</th>\n",
       "      <th>listing_id</th>\n",
       "      <th>longitude</th>\n",
       "      <th>manager_id</th>\n",
       "      <th>photos</th>\n",
       "      <th>price</th>\n",
       "      <th>street_address</th>\n",
       "    </tr>\n",
       "  </thead>\n",
       "  <tbody>\n",
       "    <tr>\n",
       "      <th>10</th>\n",
       "      <td>1.5</td>\n",
       "      <td>3</td>\n",
       "      <td>53a5b119ba8f7b61d4e010512e0dfc85</td>\n",
       "      <td>2016-06-24 07:54:24</td>\n",
       "      <td>A Brand New 3 Bedroom 1.5 bath ApartmentEnjoy ...</td>\n",
       "      <td>Metropolitan Avenue</td>\n",
       "      <td>[]</td>\n",
       "      <td>medium</td>\n",
       "      <td>40.7145</td>\n",
       "      <td>7211212</td>\n",
       "      <td>-73.9425</td>\n",
       "      <td>5ba989232d0489da1b5f2c45f6688adc</td>\n",
       "      <td>[https://photos.renthop.com/2/7211212_1ed4542e...</td>\n",
       "      <td>3000</td>\n",
       "      <td>792 Metropolitan Avenue</td>\n",
       "    </tr>\n",
       "    <tr>\n",
       "      <th>10000</th>\n",
       "      <td>1.0</td>\n",
       "      <td>2</td>\n",
       "      <td>c5c8a357cba207596b04d1afd1e4f130</td>\n",
       "      <td>2016-06-12 12:19:27</td>\n",
       "      <td></td>\n",
       "      <td>Columbus Avenue</td>\n",
       "      <td>[Doorman, Elevator, Fitness Center, Cats Allow...</td>\n",
       "      <td>low</td>\n",
       "      <td>40.7947</td>\n",
       "      <td>7150865</td>\n",
       "      <td>-73.9667</td>\n",
       "      <td>7533621a882f71e25173b27e3139d83d</td>\n",
       "      <td>[https://photos.renthop.com/2/7150865_be3306c5...</td>\n",
       "      <td>5465</td>\n",
       "      <td>808 Columbus Avenue</td>\n",
       "    </tr>\n",
       "    <tr>\n",
       "      <th>100004</th>\n",
       "      <td>1.0</td>\n",
       "      <td>1</td>\n",
       "      <td>c3ba40552e2120b0acfc3cb5730bb2aa</td>\n",
       "      <td>2016-04-17 03:26:41</td>\n",
       "      <td>Top Top West Village location, beautiful Pre-w...</td>\n",
       "      <td>W 13 Street</td>\n",
       "      <td>[Laundry In Building, Dishwasher, Hardwood Flo...</td>\n",
       "      <td>high</td>\n",
       "      <td>40.7388</td>\n",
       "      <td>6887163</td>\n",
       "      <td>-74.0018</td>\n",
       "      <td>d9039c43983f6e564b1482b273bd7b01</td>\n",
       "      <td>[https://photos.renthop.com/2/6887163_de85c427...</td>\n",
       "      <td>2850</td>\n",
       "      <td>241 W 13 Street</td>\n",
       "    </tr>\n",
       "    <tr>\n",
       "      <th>100007</th>\n",
       "      <td>1.0</td>\n",
       "      <td>1</td>\n",
       "      <td>28d9ad350afeaab8027513a3e52ac8d5</td>\n",
       "      <td>2016-04-18 02:22:02</td>\n",
       "      <td>Building Amenities - Garage - Garden - fitness...</td>\n",
       "      <td>East 49th Street</td>\n",
       "      <td>[Hardwood Floors, No Fee]</td>\n",
       "      <td>low</td>\n",
       "      <td>40.7539</td>\n",
       "      <td>6888711</td>\n",
       "      <td>-73.9677</td>\n",
       "      <td>1067e078446a7897d2da493d2f741316</td>\n",
       "      <td>[https://photos.renthop.com/2/6888711_6e660cee...</td>\n",
       "      <td>3275</td>\n",
       "      <td>333 East 49th Street</td>\n",
       "    </tr>\n",
       "    <tr>\n",
       "      <th>100013</th>\n",
       "      <td>1.0</td>\n",
       "      <td>4</td>\n",
       "      <td>0</td>\n",
       "      <td>2016-04-28 01:32:41</td>\n",
       "      <td>Beautifully renovated 3 bedroom flex 4 bedroom...</td>\n",
       "      <td>West 143rd Street</td>\n",
       "      <td>[Pre-War]</td>\n",
       "      <td>low</td>\n",
       "      <td>40.8241</td>\n",
       "      <td>6934781</td>\n",
       "      <td>-73.9493</td>\n",
       "      <td>98e13ad4b495b9613cef886d79a6291f</td>\n",
       "      <td>[https://photos.renthop.com/2/6934781_1fa4b41a...</td>\n",
       "      <td>3350</td>\n",
       "      <td>500 West 143rd Street</td>\n",
       "    </tr>\n",
       "  </tbody>\n",
       "</table>\n",
       "</div>"
      ],
      "text/plain": [
       "        bathrooms  bedrooms                       building_id  \\\n",
       "10            1.5         3  53a5b119ba8f7b61d4e010512e0dfc85   \n",
       "10000         1.0         2  c5c8a357cba207596b04d1afd1e4f130   \n",
       "100004        1.0         1  c3ba40552e2120b0acfc3cb5730bb2aa   \n",
       "100007        1.0         1  28d9ad350afeaab8027513a3e52ac8d5   \n",
       "100013        1.0         4                                 0   \n",
       "\n",
       "                    created  \\\n",
       "10      2016-06-24 07:54:24   \n",
       "10000   2016-06-12 12:19:27   \n",
       "100004  2016-04-17 03:26:41   \n",
       "100007  2016-04-18 02:22:02   \n",
       "100013  2016-04-28 01:32:41   \n",
       "\n",
       "                                              description  \\\n",
       "10      A Brand New 3 Bedroom 1.5 bath ApartmentEnjoy ...   \n",
       "10000                                                       \n",
       "100004  Top Top West Village location, beautiful Pre-w...   \n",
       "100007  Building Amenities - Garage - Garden - fitness...   \n",
       "100013  Beautifully renovated 3 bedroom flex 4 bedroom...   \n",
       "\n",
       "            display_address  \\\n",
       "10      Metropolitan Avenue   \n",
       "10000       Columbus Avenue   \n",
       "100004          W 13 Street   \n",
       "100007     East 49th Street   \n",
       "100013    West 143rd Street   \n",
       "\n",
       "                                                 features interest_level  \\\n",
       "10                                                     []         medium   \n",
       "10000   [Doorman, Elevator, Fitness Center, Cats Allow...            low   \n",
       "100004  [Laundry In Building, Dishwasher, Hardwood Flo...           high   \n",
       "100007                          [Hardwood Floors, No Fee]            low   \n",
       "100013                                          [Pre-War]            low   \n",
       "\n",
       "        latitude  listing_id  longitude                        manager_id  \\\n",
       "10       40.7145     7211212   -73.9425  5ba989232d0489da1b5f2c45f6688adc   \n",
       "10000    40.7947     7150865   -73.9667  7533621a882f71e25173b27e3139d83d   \n",
       "100004   40.7388     6887163   -74.0018  d9039c43983f6e564b1482b273bd7b01   \n",
       "100007   40.7539     6888711   -73.9677  1067e078446a7897d2da493d2f741316   \n",
       "100013   40.8241     6934781   -73.9493  98e13ad4b495b9613cef886d79a6291f   \n",
       "\n",
       "                                                   photos  price  \\\n",
       "10      [https://photos.renthop.com/2/7211212_1ed4542e...   3000   \n",
       "10000   [https://photos.renthop.com/2/7150865_be3306c5...   5465   \n",
       "100004  [https://photos.renthop.com/2/6887163_de85c427...   2850   \n",
       "100007  [https://photos.renthop.com/2/6888711_6e660cee...   3275   \n",
       "100013  [https://photos.renthop.com/2/6934781_1fa4b41a...   3350   \n",
       "\n",
       "                 street_address  \n",
       "10      792 Metropolitan Avenue  \n",
       "10000       808 Columbus Avenue  \n",
       "100004          241 W 13 Street  \n",
       "100007     333 East 49th Street  \n",
       "100013    500 West 143rd Street  "
      ]
     },
     "execution_count": 2,
     "metadata": {},
     "output_type": "execute_result"
    }
   ],
   "source": [
    "rent_db.head(5)"
   ]
  },
  {
   "cell_type": "code",
   "execution_count": 3,
   "metadata": {
    "collapsed": false
   },
   "outputs": [
    {
     "data": {
      "text/html": [
       "<div>\n",
       "<table border=\"1\" class=\"dataframe\">\n",
       "  <thead>\n",
       "    <tr style=\"text-align: right;\">\n",
       "      <th></th>\n",
       "      <th>bathrooms</th>\n",
       "      <th>bedrooms</th>\n",
       "      <th>latitude</th>\n",
       "      <th>listing_id</th>\n",
       "      <th>longitude</th>\n",
       "      <th>price</th>\n",
       "    </tr>\n",
       "  </thead>\n",
       "  <tbody>\n",
       "    <tr>\n",
       "      <th>count</th>\n",
       "      <td>49352.00000</td>\n",
       "      <td>49352.000000</td>\n",
       "      <td>49352.000000</td>\n",
       "      <td>4.935200e+04</td>\n",
       "      <td>49352.000000</td>\n",
       "      <td>4.935200e+04</td>\n",
       "    </tr>\n",
       "    <tr>\n",
       "      <th>mean</th>\n",
       "      <td>1.21218</td>\n",
       "      <td>1.541640</td>\n",
       "      <td>40.741545</td>\n",
       "      <td>7.024055e+06</td>\n",
       "      <td>-73.955716</td>\n",
       "      <td>3.830174e+03</td>\n",
       "    </tr>\n",
       "    <tr>\n",
       "      <th>std</th>\n",
       "      <td>0.50142</td>\n",
       "      <td>1.115018</td>\n",
       "      <td>0.638535</td>\n",
       "      <td>1.262746e+05</td>\n",
       "      <td>1.177912</td>\n",
       "      <td>2.206687e+04</td>\n",
       "    </tr>\n",
       "    <tr>\n",
       "      <th>min</th>\n",
       "      <td>0.00000</td>\n",
       "      <td>0.000000</td>\n",
       "      <td>0.000000</td>\n",
       "      <td>6.811957e+06</td>\n",
       "      <td>-118.271000</td>\n",
       "      <td>4.300000e+01</td>\n",
       "    </tr>\n",
       "    <tr>\n",
       "      <th>25%</th>\n",
       "      <td>1.00000</td>\n",
       "      <td>1.000000</td>\n",
       "      <td>40.728300</td>\n",
       "      <td>6.915888e+06</td>\n",
       "      <td>-73.991700</td>\n",
       "      <td>2.500000e+03</td>\n",
       "    </tr>\n",
       "    <tr>\n",
       "      <th>50%</th>\n",
       "      <td>1.00000</td>\n",
       "      <td>1.000000</td>\n",
       "      <td>40.751800</td>\n",
       "      <td>7.021070e+06</td>\n",
       "      <td>-73.977900</td>\n",
       "      <td>3.150000e+03</td>\n",
       "    </tr>\n",
       "    <tr>\n",
       "      <th>75%</th>\n",
       "      <td>1.00000</td>\n",
       "      <td>2.000000</td>\n",
       "      <td>40.774300</td>\n",
       "      <td>7.128733e+06</td>\n",
       "      <td>-73.954800</td>\n",
       "      <td>4.100000e+03</td>\n",
       "    </tr>\n",
       "    <tr>\n",
       "      <th>max</th>\n",
       "      <td>10.00000</td>\n",
       "      <td>8.000000</td>\n",
       "      <td>44.883500</td>\n",
       "      <td>7.753784e+06</td>\n",
       "      <td>0.000000</td>\n",
       "      <td>4.490000e+06</td>\n",
       "    </tr>\n",
       "  </tbody>\n",
       "</table>\n",
       "</div>"
      ],
      "text/plain": [
       "         bathrooms      bedrooms      latitude    listing_id     longitude  \\\n",
       "count  49352.00000  49352.000000  49352.000000  4.935200e+04  49352.000000   \n",
       "mean       1.21218      1.541640     40.741545  7.024055e+06    -73.955716   \n",
       "std        0.50142      1.115018      0.638535  1.262746e+05      1.177912   \n",
       "min        0.00000      0.000000      0.000000  6.811957e+06   -118.271000   \n",
       "25%        1.00000      1.000000     40.728300  6.915888e+06    -73.991700   \n",
       "50%        1.00000      1.000000     40.751800  7.021070e+06    -73.977900   \n",
       "75%        1.00000      2.000000     40.774300  7.128733e+06    -73.954800   \n",
       "max       10.00000      8.000000     44.883500  7.753784e+06      0.000000   \n",
       "\n",
       "              price  \n",
       "count  4.935200e+04  \n",
       "mean   3.830174e+03  \n",
       "std    2.206687e+04  \n",
       "min    4.300000e+01  \n",
       "25%    2.500000e+03  \n",
       "50%    3.150000e+03  \n",
       "75%    4.100000e+03  \n",
       "max    4.490000e+06  "
      ]
     },
     "execution_count": 3,
     "metadata": {},
     "output_type": "execute_result"
    }
   ],
   "source": [
    "rent_db.describe()"
   ]
  },
  {
   "cell_type": "code",
   "execution_count": 4,
   "metadata": {
    "collapsed": false
   },
   "outputs": [
    {
     "data": {
      "text/plain": [
       "<matplotlib.axes._subplots.AxesSubplot at 0x12b383588>"
      ]
     },
     "execution_count": 4,
     "metadata": {},
     "output_type": "execute_result"
    },
    {
     "data": {
      "image/png": "[encoded data removed]",
      "text/plain": [
       "<matplotlib.figure.Figure at 0x10f317898>"
      ]
     },
     "metadata": {},
     "output_type": "display_data"
    }
   ],
   "source": [
    "rent_db.boxplot(column='price')"
   ]
  },
  {
   "cell_type": "markdown",
   "metadata": {},
   "source": [
    "Clearly, we have some crazy outliers here. I need to throw these outliers out, as I don't think they'll be useful to the analysis."
   ]
  },
  {
   "cell_type": "code",
   "execution_count": 5,
   "metadata": {
    "collapsed": false
   },
   "outputs": [
    {
     "data": {
      "text/plain": [
       "<matplotlib.axes._subplots.AxesSubplot at 0x1310897f0>"
      ]
     },
     "execution_count": 5,
     "metadata": {},
     "output_type": "execute_result"
    },
    {
     "data": {
      "image/png": "[encoded data removed]",
      "text/plain": [
       "<matplotlib.figure.Figure at 0x12ea1fcf8>"
      ]
     },
     "metadata": {},
     "output_type": "display_data"
    }
   ],
   "source": [
    "rent_db.boxplot(column='price', by='bedrooms')"
   ]
  },
  {
   "cell_type": "code",
   "execution_count": 6,
   "metadata": {
    "collapsed": false
   },
   "outputs": [
    {
     "data": {
      "text/html": [
       "<div>\n",
       "<table border=\"1\" class=\"dataframe\">\n",
       "  <thead>\n",
       "    <tr style=\"text-align: right;\">\n",
       "      <th></th>\n",
       "      <th>bathrooms</th>\n",
       "      <th>bedrooms</th>\n",
       "      <th>building_id</th>\n",
       "      <th>created</th>\n",
       "      <th>description</th>\n",
       "      <th>display_address</th>\n",
       "      <th>features</th>\n",
       "      <th>interest_level</th>\n",
       "      <th>latitude</th>\n",
       "      <th>listing_id</th>\n",
       "      <th>longitude</th>\n",
       "      <th>manager_id</th>\n",
       "      <th>photos</th>\n",
       "      <th>price</th>\n",
       "      <th>street_address</th>\n",
       "    </tr>\n",
       "  </thead>\n",
       "  <tbody>\n",
       "    <tr>\n",
       "      <th>32611</th>\n",
       "      <td>1.0</td>\n",
       "      <td>2</td>\n",
       "      <td>cd25bbea2af848ebe9821da820b725da</td>\n",
       "      <td>2016-06-24 05:02:11</td>\n",
       "      <td></td>\n",
       "      <td>Hudson Street</td>\n",
       "      <td>[Doorman, Elevator, Cats Allowed, Dogs Allowed...</td>\n",
       "      <td>low</td>\n",
       "      <td>40.7299</td>\n",
       "      <td>7208764</td>\n",
       "      <td>-74.0071</td>\n",
       "      <td>d1737922fe92ccb0dc37ba85589e6415</td>\n",
       "      <td>[]</td>\n",
       "      <td>4490000</td>\n",
       "      <td>421 Hudson Street</td>\n",
       "    </tr>\n",
       "    <tr>\n",
       "      <th>12168</th>\n",
       "      <td>1.0</td>\n",
       "      <td>2</td>\n",
       "      <td>5d3525a5085445e7fcd64a53aac3cb0a</td>\n",
       "      <td>2016-06-24 05:02:58</td>\n",
       "      <td></td>\n",
       "      <td>West 116th Street</td>\n",
       "      <td>[Doorman, Elevator, Cats Allowed, Dogs Allowed...</td>\n",
       "      <td>low</td>\n",
       "      <td>40.8011</td>\n",
       "      <td>7208794</td>\n",
       "      <td>-73.9480</td>\n",
       "      <td>d1737922fe92ccb0dc37ba85589e6415</td>\n",
       "      <td>[]</td>\n",
       "      <td>1150000</td>\n",
       "      <td>40 West 116th Street</td>\n",
       "    </tr>\n",
       "    <tr>\n",
       "      <th>55437</th>\n",
       "      <td>1.0</td>\n",
       "      <td>1</td>\n",
       "      <td>37385c8a58176b529964083315c28e32</td>\n",
       "      <td>2016-05-14 05:21:28</td>\n",
       "      <td></td>\n",
       "      <td>West 57th Street</td>\n",
       "      <td>[Doorman, Cats Allowed, Dogs Allowed]</td>\n",
       "      <td>low</td>\n",
       "      <td>40.7676</td>\n",
       "      <td>7013217</td>\n",
       "      <td>-73.9844</td>\n",
       "      <td>8f5a9c893f6d602f4953fcc0b8e6e9b4</td>\n",
       "      <td>[]</td>\n",
       "      <td>1070000</td>\n",
       "      <td>333 West 57th Street</td>\n",
       "    </tr>\n",
       "    <tr>\n",
       "      <th>57803</th>\n",
       "      <td>1.0</td>\n",
       "      <td>1</td>\n",
       "      <td>37385c8a58176b529964083315c28e32</td>\n",
       "      <td>2016-05-19 02:37:06</td>\n",
       "      <td>This 1 Bedroom apartment is located on a prime...</td>\n",
       "      <td>West 57th Street</td>\n",
       "      <td>[Doorman, Elevator, Pre-War, Dogs Allowed, Cat...</td>\n",
       "      <td>low</td>\n",
       "      <td>40.7676</td>\n",
       "      <td>7036279</td>\n",
       "      <td>-73.9844</td>\n",
       "      <td>18133bc914e6faf6f8cc1bf29d66fc0d</td>\n",
       "      <td>[https://photos.renthop.com/2/7036279_924b52f0...</td>\n",
       "      <td>1070000</td>\n",
       "      <td>333 West 57th Street</td>\n",
       "    </tr>\n",
       "    <tr>\n",
       "      <th>123877</th>\n",
       "      <td>0.0</td>\n",
       "      <td>0</td>\n",
       "      <td>b9c72643feb2652536a898a5f13d2543</td>\n",
       "      <td>2016-04-12 02:11:10</td>\n",
       "      <td>Originally built in 1862, this extraordinary l...</td>\n",
       "      <td>Duane Street</td>\n",
       "      <td>[Elevator, Pre-War, Terrace, Dogs Allowed, Cat...</td>\n",
       "      <td>low</td>\n",
       "      <td>40.7161</td>\n",
       "      <td>6857401</td>\n",
       "      <td>-74.0080</td>\n",
       "      <td>d98acd4fa3c463bd468603bd873cc54c</td>\n",
       "      <td>[https://photos.renthop.com/2/6857401_a4a4c2f2...</td>\n",
       "      <td>135000</td>\n",
       "      <td>144 Duane Street</td>\n",
       "    </tr>\n",
       "    <tr>\n",
       "      <th>4620</th>\n",
       "      <td>1.0</td>\n",
       "      <td>0</td>\n",
       "      <td>c0d27c9422c375c651baa7b61e4a9dca</td>\n",
       "      <td>2016-06-07 17:35:10</td>\n",
       "      <td>The BEST DEAL!!!!!\\r\\rBeautiful Studio in a ni...</td>\n",
       "      <td>Van Horn St and 57th ave</td>\n",
       "      <td>[Elevator, Laundry In Building, Balcony]</td>\n",
       "      <td>high</td>\n",
       "      <td>40.7323</td>\n",
       "      <td>7122037</td>\n",
       "      <td>-73.8761</td>\n",
       "      <td>3d7ef07518d7564ab1c55f6fa7c80527</td>\n",
       "      <td>[https://photos.renthop.com/2/7122037_531f0877...</td>\n",
       "      <td>111111</td>\n",
       "      <td>57-25 Van Horn St</td>\n",
       "    </tr>\n",
       "    <tr>\n",
       "      <th>91709</th>\n",
       "      <td>6.0</td>\n",
       "      <td>6</td>\n",
       "      <td>d20bce0bc08b2731f726067a1e501162</td>\n",
       "      <td>2016-04-16 02:22:15</td>\n",
       "      <td>MANSION IN THE SKY!!! This six-bedroom full-fl...</td>\n",
       "      <td>230 West 56th Street</td>\n",
       "      <td>[Doorman, Elevator, Furnished, Laundry in Unit...</td>\n",
       "      <td>low</td>\n",
       "      <td>40.7654</td>\n",
       "      <td>6881666</td>\n",
       "      <td>-73.9822</td>\n",
       "      <td>37ffeac28297e956deecd7b31940c6e7</td>\n",
       "      <td>[https://photos.renthop.com/2/6881666_bedcd181...</td>\n",
       "      <td>100000</td>\n",
       "      <td>230 West 56th Street</td>\n",
       "    </tr>\n",
       "    <tr>\n",
       "      <th>54148</th>\n",
       "      <td>3.0</td>\n",
       "      <td>3</td>\n",
       "      <td>e69036ae9c8d47cbe57701d12af4dc6e</td>\n",
       "      <td>2016-05-03 02:20:32</td>\n",
       "      <td>The Towers of Waldorf Astoria Hotel offer eleg...</td>\n",
       "      <td>East 50th Street</td>\n",
       "      <td>[Doorman, Elevator, Pre-War, Dogs Allowed, Cat...</td>\n",
       "      <td>low</td>\n",
       "      <td>40.7565</td>\n",
       "      <td>6955433</td>\n",
       "      <td>-73.9726</td>\n",
       "      <td>161a1a797a1e57f6ba979447a0eadf94</td>\n",
       "      <td>[https://photos.renthop.com/2/6955433_2109e252...</td>\n",
       "      <td>90000</td>\n",
       "      <td>100 East 50th Street</td>\n",
       "    </tr>\n",
       "    <tr>\n",
       "      <th>116586</th>\n",
       "      <td>5.0</td>\n",
       "      <td>4</td>\n",
       "      <td>b9c72643feb2652536a898a5f13d2543</td>\n",
       "      <td>2016-04-02 02:26:43</td>\n",
       "      <td>144 DUANE STREET is a luxury rental building w...</td>\n",
       "      <td>144 Duane Street</td>\n",
       "      <td>[Fireplace, Elevator, Pre-War, Terrace, Laundr...</td>\n",
       "      <td>low</td>\n",
       "      <td>40.7161</td>\n",
       "      <td>6813319</td>\n",
       "      <td>-74.0080</td>\n",
       "      <td>bc0a62f2e200eadf5f74037100af8f21</td>\n",
       "      <td>[https://photos.renthop.com/2/6813319_bc0e18ca...</td>\n",
       "      <td>85000</td>\n",
       "      <td>144 Duane Street</td>\n",
       "    </tr>\n",
       "    <tr>\n",
       "      <th>96905</th>\n",
       "      <td>3.0</td>\n",
       "      <td>3</td>\n",
       "      <td>e69036ae9c8d47cbe57701d12af4dc6e</td>\n",
       "      <td>2016-04-04 02:10:12</td>\n",
       "      <td>The Towers of Waldorf Astoria Hotel offer eleg...</td>\n",
       "      <td>East 50th Street</td>\n",
       "      <td>[Doorman, Elevator, Furnished, Pre-War, Dogs A...</td>\n",
       "      <td>low</td>\n",
       "      <td>40.7565</td>\n",
       "      <td>6820053</td>\n",
       "      <td>-73.9726</td>\n",
       "      <td>c23e16813063cb363bdd2904bd20d2d0</td>\n",
       "      <td>[https://photos.renthop.com/2/6820053_1feb8e2a...</td>\n",
       "      <td>80000</td>\n",
       "      <td>100 East 50th Street</td>\n",
       "    </tr>\n",
       "    <tr>\n",
       "      <th>84566</th>\n",
       "      <td>7.0</td>\n",
       "      <td>5</td>\n",
       "      <td>0</td>\n",
       "      <td>2016-04-07 17:06:29</td>\n",
       "      <td>Extraordinary in every way. This single family...</td>\n",
       "      <td>West 9th St- High Class Townhome</td>\n",
       "      <td>[]</td>\n",
       "      <td>low</td>\n",
       "      <td>40.7335</td>\n",
       "      <td>6840943</td>\n",
       "      <td>-73.9974</td>\n",
       "      <td>e6472c7237327dd3903b3d6f6a94515a</td>\n",
       "      <td>[https://photos.renthop.com/2/6840943_7f4b82cf...</td>\n",
       "      <td>60000</td>\n",
       "      <td>47th West 9th St</td>\n",
       "    </tr>\n",
       "    <tr>\n",
       "      <th>514</th>\n",
       "      <td>1.0</td>\n",
       "      <td>3</td>\n",
       "      <td>a58c1c98fb50163bdc8abe3137caaffe</td>\n",
       "      <td>2016-06-29 05:48:21</td>\n",
       "      <td>TERRIFIC?LARGE?THREE?BEDROOM?RIGHT?ON?SECOND?A...</td>\n",
       "      <td>2nd Ave.</td>\n",
       "      <td>[Hardwood Floors]</td>\n",
       "      <td>low</td>\n",
       "      <td>40.7296</td>\n",
       "      <td>7232177</td>\n",
       "      <td>-73.9872</td>\n",
       "      <td>d2bce61e0e0079ebdc8c281e415e045b</td>\n",
       "      <td>[https://photos.renthop.com/2/7232177_cbe30a21...</td>\n",
       "      <td>58020</td>\n",
       "      <td>151 2nd Ave.</td>\n",
       "    </tr>\n",
       "    <tr>\n",
       "      <th>60250</th>\n",
       "      <td>4.0</td>\n",
       "      <td>4</td>\n",
       "      <td>33a3edc450389cb22003e9b62cba0214</td>\n",
       "      <td>2016-05-14 02:18:40</td>\n",
       "      <td>The New Crown Jewel of Manhattan, The Baccarat...</td>\n",
       "      <td>West 53rd Street</td>\n",
       "      <td>[Doorman, Elevator, Dogs Allowed, Cats Allowed]</td>\n",
       "      <td>low</td>\n",
       "      <td>40.7608</td>\n",
       "      <td>7009946</td>\n",
       "      <td>-73.9774</td>\n",
       "      <td>1ecd9c2982bf73c3108f806f4ee89098</td>\n",
       "      <td>[https://photos.renthop.com/2/7009946_94c69dca...</td>\n",
       "      <td>55000</td>\n",
       "      <td>20 West 53rd Street</td>\n",
       "    </tr>\n",
       "    <tr>\n",
       "      <th>118212</th>\n",
       "      <td>0.0</td>\n",
       "      <td>0</td>\n",
       "      <td>072d115f2d5a82b17becdcddc5f10a7b</td>\n",
       "      <td>2016-04-06 07:35:33</td>\n",
       "      <td>Coldwell Banker Reliable Commercial Di...</td>\n",
       "      <td>7712-20 New Utrecht Avenue</td>\n",
       "      <td>[]</td>\n",
       "      <td>low</td>\n",
       "      <td>40.6138</td>\n",
       "      <td>6833526</td>\n",
       "      <td>-74.0008</td>\n",
       "      <td>b56c446ca494f23d03e066617f69e2f5</td>\n",
       "      <td>[https://photos.renthop.com/2/6833526_7f5bf8ac...</td>\n",
       "      <td>53100</td>\n",
       "      <td>7712-20 New Utrecht Avenue</td>\n",
       "    </tr>\n",
       "    <tr>\n",
       "      <th>89759</th>\n",
       "      <td>1.0</td>\n",
       "      <td>0</td>\n",
       "      <td>01cb79b2d06a9844231c42b3f05eb0c2</td>\n",
       "      <td>2016-04-12 06:06:58</td>\n",
       "      <td>Prime East Village Retail Location Perfect For...</td>\n",
       "      <td>2nd Ave</td>\n",
       "      <td>[]</td>\n",
       "      <td>low</td>\n",
       "      <td>40.7294</td>\n",
       "      <td>6861797</td>\n",
       "      <td>-73.9867</td>\n",
       "      <td>64c4a5d775d613d9ffd24bc6a97f859e</td>\n",
       "      <td>[https://photos.renthop.com/2/6861797_bd87fa84...</td>\n",
       "      <td>50614</td>\n",
       "      <td>152 2nd Ave</td>\n",
       "    </tr>\n",
       "    <tr>\n",
       "      <th>30763</th>\n",
       "      <td>2.0</td>\n",
       "      <td>2</td>\n",
       "      <td>12082d380a96a874260ea67b3d15ea93</td>\n",
       "      <td>2016-06-10 05:28:10</td>\n",
       "      <td>&lt;p&gt;&lt;a  website_redacted</td>\n",
       "      <td>East 65th Street</td>\n",
       "      <td>[Swimming Pool, Roof Deck, Doorman, Elevator, ...</td>\n",
       "      <td>low</td>\n",
       "      <td>40.7651</td>\n",
       "      <td>7137136</td>\n",
       "      <td>-73.9636</td>\n",
       "      <td>782b04129d661ae064fe013aeb297ace</td>\n",
       "      <td>[https://photos.renthop.com/2/7137136_789d5f15...</td>\n",
       "      <td>50550</td>\n",
       "      <td>210 East 65th Street</td>\n",
       "    </tr>\n",
       "    <tr>\n",
       "      <th>122319</th>\n",
       "      <td>4.5</td>\n",
       "      <td>5</td>\n",
       "      <td>ab2d28a86c3a6908b806d8a1824eeb56</td>\n",
       "      <td>2016-04-21 03:28:11</td>\n",
       "      <td>This unique property combines the belo...</td>\n",
       "      <td>Washington St</td>\n",
       "      <td>[]</td>\n",
       "      <td>low</td>\n",
       "      <td>40.7243</td>\n",
       "      <td>6905555</td>\n",
       "      <td>-74.0103</td>\n",
       "      <td>b209e2c4384a64cc307c26759ee0c651</td>\n",
       "      <td>[https://photos.renthop.com/2/6905555_69b89eb8...</td>\n",
       "      <td>50000</td>\n",
       "      <td>456 Washington St</td>\n",
       "    </tr>\n",
       "    <tr>\n",
       "      <th>22997</th>\n",
       "      <td>4.5</td>\n",
       "      <td>5</td>\n",
       "      <td>ab2d28a86c3a6908b806d8a1824eeb56</td>\n",
       "      <td>2016-06-12 02:25:18</td>\n",
       "      <td>5 Bedroom / 4.5 Bathroom apartment with two pr...</td>\n",
       "      <td>Washington Street</td>\n",
       "      <td>[Roof Deck, Doorman, Elevator, Fitness Center,...</td>\n",
       "      <td>low</td>\n",
       "      <td>40.7243</td>\n",
       "      <td>7145103</td>\n",
       "      <td>-74.0103</td>\n",
       "      <td>7650567c7ba11f54a266cbd078f1bdc1</td>\n",
       "      <td>[https://photos.renthop.com/2/7145103_f9c99a8f...</td>\n",
       "      <td>50000</td>\n",
       "      <td>456 Washington Street</td>\n",
       "    </tr>\n",
       "    <tr>\n",
       "      <th>57976</th>\n",
       "      <td>4.0</td>\n",
       "      <td>5</td>\n",
       "      <td>ab2d28a86c3a6908b806d8a1824eeb56</td>\n",
       "      <td>2016-05-24 01:46:20</td>\n",
       "      <td></td>\n",
       "      <td>Washington Street</td>\n",
       "      <td>[Doorman, Fitness Center, Elevator, Cats Allow...</td>\n",
       "      <td>low</td>\n",
       "      <td>40.7243</td>\n",
       "      <td>7057163</td>\n",
       "      <td>-74.0103</td>\n",
       "      <td>b7de4cb395920136663132057fa89d84</td>\n",
       "      <td>[]</td>\n",
       "      <td>50000</td>\n",
       "      <td>456 Washington Street</td>\n",
       "    </tr>\n",
       "    <tr>\n",
       "      <th>56508</th>\n",
       "      <td>5.0</td>\n",
       "      <td>4</td>\n",
       "      <td>faa3b5d0d2bfbe54fbf4d4d15f7de59f</td>\n",
       "      <td>2016-05-25 02:43:04</td>\n",
       "      <td>Sitting in Mid Town East with a mix of Tribeca...</td>\n",
       "      <td>E 51 Street</td>\n",
       "      <td>[Fireplace, Terrace, Dishwasher, Hardwood Floo...</td>\n",
       "      <td>low</td>\n",
       "      <td>40.7548</td>\n",
       "      <td>7063011</td>\n",
       "      <td>-73.9659</td>\n",
       "      <td>678c7c255c4cf0115d2200d0b6b97804</td>\n",
       "      <td>[https://photos.renthop.com/2/7063011_2faef27e...</td>\n",
       "      <td>48500</td>\n",
       "      <td>351 E 51 Street</td>\n",
       "    </tr>\n",
       "  </tbody>\n",
       "</table>\n",
       "</div>"
      ],
      "text/plain": [
       "        bathrooms  bedrooms                       building_id  \\\n",
       "32611         1.0         2  cd25bbea2af848ebe9821da820b725da   \n",
       "12168         1.0         2  5d3525a5085445e7fcd64a53aac3cb0a   \n",
       "55437         1.0         1  37385c8a58176b529964083315c28e32   \n",
       "57803         1.0         1  37385c8a58176b529964083315c28e32   \n",
       "123877        0.0         0  b9c72643feb2652536a898a5f13d2543   \n",
       "4620          1.0         0  c0d27c9422c375c651baa7b61e4a9dca   \n",
       "91709         6.0         6  d20bce0bc08b2731f726067a1e501162   \n",
       "54148         3.0         3  e69036ae9c8d47cbe57701d12af4dc6e   \n",
       "116586        5.0         4  b9c72643feb2652536a898a5f13d2543   \n",
       "96905         3.0         3  e69036ae9c8d47cbe57701d12af4dc6e   \n",
       "84566         7.0         5                                 0   \n",
       "514           1.0         3  a58c1c98fb50163bdc8abe3137caaffe   \n",
       "60250         4.0         4  33a3edc450389cb22003e9b62cba0214   \n",
       "118212        0.0         0  072d115f2d5a82b17becdcddc5f10a7b   \n",
       "89759         1.0         0  01cb79b2d06a9844231c42b3f05eb0c2   \n",
       "30763         2.0         2  12082d380a96a874260ea67b3d15ea93   \n",
       "122319        4.5         5  ab2d28a86c3a6908b806d8a1824eeb56   \n",
       "22997         4.5         5  ab2d28a86c3a6908b806d8a1824eeb56   \n",
       "57976         4.0         5  ab2d28a86c3a6908b806d8a1824eeb56   \n",
       "56508         5.0         4  faa3b5d0d2bfbe54fbf4d4d15f7de59f   \n",
       "\n",
       "                    created  \\\n",
       "32611   2016-06-24 05:02:11   \n",
       "12168   2016-06-24 05:02:58   \n",
       "55437   2016-05-14 05:21:28   \n",
       "57803   2016-05-19 02:37:06   \n",
       "123877  2016-04-12 02:11:10   \n",
       "4620    2016-06-07 17:35:10   \n",
       "91709   2016-04-16 02:22:15   \n",
       "54148   2016-05-03 02:20:32   \n",
       "116586  2016-04-02 02:26:43   \n",
       "96905   2016-04-04 02:10:12   \n",
       "84566   2016-04-07 17:06:29   \n",
       "514     2016-06-29 05:48:21   \n",
       "60250   2016-05-14 02:18:40   \n",
       "118212  2016-04-06 07:35:33   \n",
       "89759   2016-04-12 06:06:58   \n",
       "30763   2016-06-10 05:28:10   \n",
       "122319  2016-04-21 03:28:11   \n",
       "22997   2016-06-12 02:25:18   \n",
       "57976   2016-05-24 01:46:20   \n",
       "56508   2016-05-25 02:43:04   \n",
       "\n",
       "                                              description  \\\n",
       "32611                                                       \n",
       "12168                                                       \n",
       "55437                                                       \n",
       "57803   This 1 Bedroom apartment is located on a prime...   \n",
       "123877  Originally built in 1862, this extraordinary l...   \n",
       "4620    The BEST DEAL!!!!!\\r\\rBeautiful Studio in a ni...   \n",
       "91709   MANSION IN THE SKY!!! This six-bedroom full-fl...   \n",
       "54148   The Towers of Waldorf Astoria Hotel offer eleg...   \n",
       "116586  144 DUANE STREET is a luxury rental building w...   \n",
       "96905   The Towers of Waldorf Astoria Hotel offer eleg...   \n",
       "84566   Extraordinary in every way. This single family...   \n",
       "514     TERRIFIC?LARGE?THREE?BEDROOM?RIGHT?ON?SECOND?A...   \n",
       "60250   The New Crown Jewel of Manhattan, The Baccarat...   \n",
       "118212          Coldwell Banker Reliable Commercial Di...   \n",
       "89759   Prime East Village Retail Location Perfect For...   \n",
       "30763                            <p><a  website_redacted    \n",
       "122319          This unique property combines the belo...   \n",
       "22997   5 Bedroom / 4.5 Bathroom apartment with two pr...   \n",
       "57976                                                       \n",
       "56508   Sitting in Mid Town East with a mix of Tribeca...   \n",
       "\n",
       "                         display_address  \\\n",
       "32611                      Hudson Street   \n",
       "12168                  West 116th Street   \n",
       "55437                   West 57th Street   \n",
       "57803                   West 57th Street   \n",
       "123877                      Duane Street   \n",
       "4620            Van Horn St and 57th ave   \n",
       "91709               230 West 56th Street   \n",
       "54148                   East 50th Street   \n",
       "116586                  144 Duane Street   \n",
       "96905                   East 50th Street   \n",
       "84566   West 9th St- High Class Townhome   \n",
       "514                             2nd Ave.   \n",
       "60250                   West 53rd Street   \n",
       "118212        7712-20 New Utrecht Avenue   \n",
       "89759                            2nd Ave   \n",
       "30763                   East 65th Street   \n",
       "122319                     Washington St   \n",
       "22997                  Washington Street   \n",
       "57976                  Washington Street   \n",
       "56508                        E 51 Street   \n",
       "\n",
       "                                                 features interest_level  \\\n",
       "32611   [Doorman, Elevator, Cats Allowed, Dogs Allowed...            low   \n",
       "12168   [Doorman, Elevator, Cats Allowed, Dogs Allowed...            low   \n",
       "55437               [Doorman, Cats Allowed, Dogs Allowed]            low   \n",
       "57803   [Doorman, Elevator, Pre-War, Dogs Allowed, Cat...            low   \n",
       "123877  [Elevator, Pre-War, Terrace, Dogs Allowed, Cat...            low   \n",
       "4620             [Elevator, Laundry In Building, Balcony]           high   \n",
       "91709   [Doorman, Elevator, Furnished, Laundry in Unit...            low   \n",
       "54148   [Doorman, Elevator, Pre-War, Dogs Allowed, Cat...            low   \n",
       "116586  [Fireplace, Elevator, Pre-War, Terrace, Laundr...            low   \n",
       "96905   [Doorman, Elevator, Furnished, Pre-War, Dogs A...            low   \n",
       "84566                                                  []            low   \n",
       "514                                     [Hardwood Floors]            low   \n",
       "60250     [Doorman, Elevator, Dogs Allowed, Cats Allowed]            low   \n",
       "118212                                                 []            low   \n",
       "89759                                                  []            low   \n",
       "30763   [Swimming Pool, Roof Deck, Doorman, Elevator, ...            low   \n",
       "122319                                                 []            low   \n",
       "22997   [Roof Deck, Doorman, Elevator, Fitness Center,...            low   \n",
       "57976   [Doorman, Fitness Center, Elevator, Cats Allow...            low   \n",
       "56508   [Fireplace, Terrace, Dishwasher, Hardwood Floo...            low   \n",
       "\n",
       "        latitude  listing_id  longitude                        manager_id  \\\n",
       "32611    40.7299     7208764   -74.0071  d1737922fe92ccb0dc37ba85589e6415   \n",
       "12168    40.8011     7208794   -73.9480  d1737922fe92ccb0dc37ba85589e6415   \n",
       "55437    40.7676     7013217   -73.9844  8f5a9c893f6d602f4953fcc0b8e6e9b4   \n",
       "57803    40.7676     7036279   -73.9844  18133bc914e6faf6f8cc1bf29d66fc0d   \n",
       "123877   40.7161     6857401   -74.0080  d98acd4fa3c463bd468603bd873cc54c   \n",
       "4620     40.7323     7122037   -73.8761  3d7ef07518d7564ab1c55f6fa7c80527   \n",
       "91709    40.7654     6881666   -73.9822  37ffeac28297e956deecd7b31940c6e7   \n",
       "54148    40.7565     6955433   -73.9726  161a1a797a1e57f6ba979447a0eadf94   \n",
       "116586   40.7161     6813319   -74.0080  bc0a62f2e200eadf5f74037100af8f21   \n",
       "96905    40.7565     6820053   -73.9726  c23e16813063cb363bdd2904bd20d2d0   \n",
       "84566    40.7335     6840943   -73.9974  e6472c7237327dd3903b3d6f6a94515a   \n",
       "514      40.7296     7232177   -73.9872  d2bce61e0e0079ebdc8c281e415e045b   \n",
       "60250    40.7608     7009946   -73.9774  1ecd9c2982bf73c3108f806f4ee89098   \n",
       "118212   40.6138     6833526   -74.0008  b56c446ca494f23d03e066617f69e2f5   \n",
       "89759    40.7294     6861797   -73.9867  64c4a5d775d613d9ffd24bc6a97f859e   \n",
       "30763    40.7651     7137136   -73.9636  782b04129d661ae064fe013aeb297ace   \n",
       "122319   40.7243     6905555   -74.0103  b209e2c4384a64cc307c26759ee0c651   \n",
       "22997    40.7243     7145103   -74.0103  7650567c7ba11f54a266cbd078f1bdc1   \n",
       "57976    40.7243     7057163   -74.0103  b7de4cb395920136663132057fa89d84   \n",
       "56508    40.7548     7063011   -73.9659  678c7c255c4cf0115d2200d0b6b97804   \n",
       "\n",
       "                                                   photos    price  \\\n",
       "32611                                                  []  4490000   \n",
       "12168                                                  []  1150000   \n",
       "55437                                                  []  1070000   \n",
       "57803   [https://photos.renthop.com/2/7036279_924b52f0...  1070000   \n",
       "123877  [https://photos.renthop.com/2/6857401_a4a4c2f2...   135000   \n",
       "4620    [https://photos.renthop.com/2/7122037_531f0877...   111111   \n",
       "91709   [https://photos.renthop.com/2/6881666_bedcd181...   100000   \n",
       "54148   [https://photos.renthop.com/2/6955433_2109e252...    90000   \n",
       "116586  [https://photos.renthop.com/2/6813319_bc0e18ca...    85000   \n",
       "96905   [https://photos.renthop.com/2/6820053_1feb8e2a...    80000   \n",
       "84566   [https://photos.renthop.com/2/6840943_7f4b82cf...    60000   \n",
       "514     [https://photos.renthop.com/2/7232177_cbe30a21...    58020   \n",
       "60250   [https://photos.renthop.com/2/7009946_94c69dca...    55000   \n",
       "118212  [https://photos.renthop.com/2/6833526_7f5bf8ac...    53100   \n",
       "89759   [https://photos.renthop.com/2/6861797_bd87fa84...    50614   \n",
       "30763   [https://photos.renthop.com/2/7137136_789d5f15...    50550   \n",
       "122319  [https://photos.renthop.com/2/6905555_69b89eb8...    50000   \n",
       "22997   [https://photos.renthop.com/2/7145103_f9c99a8f...    50000   \n",
       "57976                                                  []    50000   \n",
       "56508   [https://photos.renthop.com/2/7063011_2faef27e...    48500   \n",
       "\n",
       "                    street_address  \n",
       "32611            421 Hudson Street  \n",
       "12168         40 West 116th Street  \n",
       "55437         333 West 57th Street  \n",
       "57803         333 West 57th Street  \n",
       "123877            144 Duane Street  \n",
       "4620             57-25 Van Horn St  \n",
       "91709         230 West 56th Street  \n",
       "54148         100 East 50th Street  \n",
       "116586            144 Duane Street  \n",
       "96905         100 East 50th Street  \n",
       "84566             47th West 9th St  \n",
       "514                   151 2nd Ave.  \n",
       "60250          20 West 53rd Street  \n",
       "118212  7712-20 New Utrecht Avenue  \n",
       "89759                  152 2nd Ave  \n",
       "30763         210 East 65th Street  \n",
       "122319           456 Washington St  \n",
       "22997        456 Washington Street  \n",
       "57976        456 Washington Street  \n",
       "56508              351 E 51 Street  "
      ]
     },
     "execution_count": 6,
     "metadata": {},
     "output_type": "execute_result"
    }
   ],
   "source": [
    "rent_db.sort_values(by='price',ascending=False, inplace=True)\n",
    "rent_db.head(20)"
   ]
  },
  {
   "cell_type": "code",
   "execution_count": 7,
   "metadata": {
    "collapsed": false
   },
   "outputs": [
    {
     "data": {
      "text/html": [
       "<div>\n",
       "<table border=\"1\" class=\"dataframe\">\n",
       "  <thead>\n",
       "    <tr style=\"text-align: right;\">\n",
       "      <th></th>\n",
       "      <th>bathrooms</th>\n",
       "      <th>bedrooms</th>\n",
       "      <th>building_id</th>\n",
       "      <th>created</th>\n",
       "      <th>description</th>\n",
       "      <th>display_address</th>\n",
       "      <th>features</th>\n",
       "      <th>interest_level</th>\n",
       "      <th>latitude</th>\n",
       "      <th>listing_id</th>\n",
       "      <th>longitude</th>\n",
       "      <th>manager_id</th>\n",
       "      <th>photos</th>\n",
       "      <th>price</th>\n",
       "      <th>street_address</th>\n",
       "    </tr>\n",
       "  </thead>\n",
       "  <tbody>\n",
       "    <tr>\n",
       "      <th>123877</th>\n",
       "      <td>0.0</td>\n",
       "      <td>0</td>\n",
       "      <td>b9c72643feb2652536a898a5f13d2543</td>\n",
       "      <td>2016-04-12 02:11:10</td>\n",
       "      <td>Originally built in 1862, this extraordinary l...</td>\n",
       "      <td>Duane Street</td>\n",
       "      <td>[Elevator, Pre-War, Terrace, Dogs Allowed, Cat...</td>\n",
       "      <td>low</td>\n",
       "      <td>40.7161</td>\n",
       "      <td>6857401</td>\n",
       "      <td>-74.0080</td>\n",
       "      <td>d98acd4fa3c463bd468603bd873cc54c</td>\n",
       "      <td>[https://photos.renthop.com/2/6857401_a4a4c2f2...</td>\n",
       "      <td>135000</td>\n",
       "      <td>144 Duane Street</td>\n",
       "    </tr>\n",
       "    <tr>\n",
       "      <th>4620</th>\n",
       "      <td>1.0</td>\n",
       "      <td>0</td>\n",
       "      <td>c0d27c9422c375c651baa7b61e4a9dca</td>\n",
       "      <td>2016-06-07 17:35:10</td>\n",
       "      <td>The BEST DEAL!!!!!\\r\\rBeautiful Studio in a ni...</td>\n",
       "      <td>Van Horn St and 57th ave</td>\n",
       "      <td>[Elevator, Laundry In Building, Balcony]</td>\n",
       "      <td>high</td>\n",
       "      <td>40.7323</td>\n",
       "      <td>7122037</td>\n",
       "      <td>-73.8761</td>\n",
       "      <td>3d7ef07518d7564ab1c55f6fa7c80527</td>\n",
       "      <td>[https://photos.renthop.com/2/7122037_531f0877...</td>\n",
       "      <td>111111</td>\n",
       "      <td>57-25 Van Horn St</td>\n",
       "    </tr>\n",
       "    <tr>\n",
       "      <th>91709</th>\n",
       "      <td>6.0</td>\n",
       "      <td>6</td>\n",
       "      <td>d20bce0bc08b2731f726067a1e501162</td>\n",
       "      <td>2016-04-16 02:22:15</td>\n",
       "      <td>MANSION IN THE SKY!!! This six-bedroom full-fl...</td>\n",
       "      <td>230 West 56th Street</td>\n",
       "      <td>[Doorman, Elevator, Furnished, Laundry in Unit...</td>\n",
       "      <td>low</td>\n",
       "      <td>40.7654</td>\n",
       "      <td>6881666</td>\n",
       "      <td>-73.9822</td>\n",
       "      <td>37ffeac28297e956deecd7b31940c6e7</td>\n",
       "      <td>[https://photos.renthop.com/2/6881666_bedcd181...</td>\n",
       "      <td>100000</td>\n",
       "      <td>230 West 56th Street</td>\n",
       "    </tr>\n",
       "    <tr>\n",
       "      <th>54148</th>\n",
       "      <td>3.0</td>\n",
       "      <td>3</td>\n",
       "      <td>e69036ae9c8d47cbe57701d12af4dc6e</td>\n",
       "      <td>2016-05-03 02:20:32</td>\n",
       "      <td>The Towers of Waldorf Astoria Hotel offer eleg...</td>\n",
       "      <td>East 50th Street</td>\n",
       "      <td>[Doorman, Elevator, Pre-War, Dogs Allowed, Cat...</td>\n",
       "      <td>low</td>\n",
       "      <td>40.7565</td>\n",
       "      <td>6955433</td>\n",
       "      <td>-73.9726</td>\n",
       "      <td>161a1a797a1e57f6ba979447a0eadf94</td>\n",
       "      <td>[https://photos.renthop.com/2/6955433_2109e252...</td>\n",
       "      <td>90000</td>\n",
       "      <td>100 East 50th Street</td>\n",
       "    </tr>\n",
       "    <tr>\n",
       "      <th>116586</th>\n",
       "      <td>5.0</td>\n",
       "      <td>4</td>\n",
       "      <td>b9c72643feb2652536a898a5f13d2543</td>\n",
       "      <td>2016-04-02 02:26:43</td>\n",
       "      <td>144 DUANE STREET is a luxury rental building w...</td>\n",
       "      <td>144 Duane Street</td>\n",
       "      <td>[Fireplace, Elevator, Pre-War, Terrace, Laundr...</td>\n",
       "      <td>low</td>\n",
       "      <td>40.7161</td>\n",
       "      <td>6813319</td>\n",
       "      <td>-74.0080</td>\n",
       "      <td>bc0a62f2e200eadf5f74037100af8f21</td>\n",
       "      <td>[https://photos.renthop.com/2/6813319_bc0e18ca...</td>\n",
       "      <td>85000</td>\n",
       "      <td>144 Duane Street</td>\n",
       "    </tr>\n",
       "  </tbody>\n",
       "</table>\n",
       "</div>"
      ],
      "text/plain": [
       "        bathrooms  bedrooms                       building_id  \\\n",
       "123877        0.0         0  b9c72643feb2652536a898a5f13d2543   \n",
       "4620          1.0         0  c0d27c9422c375c651baa7b61e4a9dca   \n",
       "91709         6.0         6  d20bce0bc08b2731f726067a1e501162   \n",
       "54148         3.0         3  e69036ae9c8d47cbe57701d12af4dc6e   \n",
       "116586        5.0         4  b9c72643feb2652536a898a5f13d2543   \n",
       "\n",
       "                    created  \\\n",
       "123877  2016-04-12 02:11:10   \n",
       "4620    2016-06-07 17:35:10   \n",
       "91709   2016-04-16 02:22:15   \n",
       "54148   2016-05-03 02:20:32   \n",
       "116586  2016-04-02 02:26:43   \n",
       "\n",
       "                                              description  \\\n",
       "123877  Originally built in 1862, this extraordinary l...   \n",
       "4620    The BEST DEAL!!!!!\\r\\rBeautiful Studio in a ni...   \n",
       "91709   MANSION IN THE SKY!!! This six-bedroom full-fl...   \n",
       "54148   The Towers of Waldorf Astoria Hotel offer eleg...   \n",
       "116586  144 DUANE STREET is a luxury rental building w...   \n",
       "\n",
       "                 display_address  \\\n",
       "123877              Duane Street   \n",
       "4620    Van Horn St and 57th ave   \n",
       "91709       230 West 56th Street   \n",
       "54148           East 50th Street   \n",
       "116586          144 Duane Street   \n",
       "\n",
       "                                                 features interest_level  \\\n",
       "123877  [Elevator, Pre-War, Terrace, Dogs Allowed, Cat...            low   \n",
       "4620             [Elevator, Laundry In Building, Balcony]           high   \n",
       "91709   [Doorman, Elevator, Furnished, Laundry in Unit...            low   \n",
       "54148   [Doorman, Elevator, Pre-War, Dogs Allowed, Cat...            low   \n",
       "116586  [Fireplace, Elevator, Pre-War, Terrace, Laundr...            low   \n",
       "\n",
       "        latitude  listing_id  longitude                        manager_id  \\\n",
       "123877   40.7161     6857401   -74.0080  d98acd4fa3c463bd468603bd873cc54c   \n",
       "4620     40.7323     7122037   -73.8761  3d7ef07518d7564ab1c55f6fa7c80527   \n",
       "91709    40.7654     6881666   -73.9822  37ffeac28297e956deecd7b31940c6e7   \n",
       "54148    40.7565     6955433   -73.9726  161a1a797a1e57f6ba979447a0eadf94   \n",
       "116586   40.7161     6813319   -74.0080  bc0a62f2e200eadf5f74037100af8f21   \n",
       "\n",
       "                                                   photos   price  \\\n",
       "123877  [https://photos.renthop.com/2/6857401_a4a4c2f2...  135000   \n",
       "4620    [https://photos.renthop.com/2/7122037_531f0877...  111111   \n",
       "91709   [https://photos.renthop.com/2/6881666_bedcd181...  100000   \n",
       "54148   [https://photos.renthop.com/2/6955433_2109e252...   90000   \n",
       "116586  [https://photos.renthop.com/2/6813319_bc0e18ca...   85000   \n",
       "\n",
       "              street_address  \n",
       "123877      144 Duane Street  \n",
       "4620       57-25 Van Horn St  \n",
       "91709   230 West 56th Street  \n",
       "54148   100 East 50th Street  \n",
       "116586      144 Duane Street  "
      ]
     },
     "execution_count": 7,
     "metadata": {},
     "output_type": "execute_result"
    }
   ],
   "source": [
    "rent_db2 = rent_db[rent_db.price < 1000000]\n",
    "rent_db2.head()"
   ]
  },
  {
   "cell_type": "code",
   "execution_count": 8,
   "metadata": {
    "collapsed": false
   },
   "outputs": [
    {
     "data": {
      "text/plain": [
       "<matplotlib.axes._subplots.AxesSubplot at 0x12e9c9780>"
      ]
     },
     "execution_count": 8,
     "metadata": {},
     "output_type": "execute_result"
    },
    {
     "data": {
      "image/png": "[encoded data removed]",
      "text/plain": [
       "<matplotlib.figure.Figure at 0x12e670828>"
      ]
     },
     "metadata": {},
     "output_type": "display_data"
    }
   ],
   "source": [
    "rent_db2.boxplot(column='price')"
   ]
  },
  {
   "cell_type": "code",
   "execution_count": 9,
   "metadata": {
    "collapsed": false
   },
   "outputs": [
    {
     "data": {
      "text/plain": [
       "<matplotlib.axes._subplots.AxesSubplot at 0x12eb68b38>"
      ]
     },
     "execution_count": 9,
     "metadata": {},
     "output_type": "execute_result"
    },
    {
     "data": {
      "image/png": "[encoded data removed]",
      "text/plain": [
       "<matplotlib.figure.Figure at 0x12e12ba20>"
      ]
     },
     "metadata": {},
     "output_type": "display_data"
    }
   ],
   "source": [
    "rent_db3 = rent_db2[rent_db2.price < 7000]\n",
    "rent_db3.boxplot(column='price')"
   ]
  },
  {
   "cell_type": "code",
   "execution_count": 10,
   "metadata": {
    "collapsed": false
   },
   "outputs": [
    {
     "data": {
      "text/plain": [
       "<matplotlib.axes._subplots.AxesSubplot at 0x12e36a908>"
      ]
     },
     "execution_count": 10,
     "metadata": {},
     "output_type": "execute_result"
    },
    {
     "data": {
      "image/png": "[encoded data removed]",
      "text/plain": [
       "<matplotlib.figure.Figure at 0x12e114f60>"
      ]
     },
     "metadata": {},
     "output_type": "display_data"
    }
   ],
   "source": [
    "rent_db3.price.hist(bins=50)"
   ]
  },
  {
   "cell_type": "code",
   "execution_count": 11,
   "metadata": {
    "collapsed": false
   },
   "outputs": [
    {
     "data": {
      "text/html": [
       "<div>\n",
       "<table border=\"1\" class=\"dataframe\">\n",
       "  <thead>\n",
       "    <tr style=\"text-align: right;\">\n",
       "      <th></th>\n",
       "      <th>bathrooms</th>\n",
       "      <th>bedrooms</th>\n",
       "      <th>latitude</th>\n",
       "      <th>listing_id</th>\n",
       "      <th>longitude</th>\n",
       "      <th>price</th>\n",
       "    </tr>\n",
       "  </thead>\n",
       "  <tbody>\n",
       "    <tr>\n",
       "      <th>count</th>\n",
       "      <td>46989.000000</td>\n",
       "      <td>46989.000000</td>\n",
       "      <td>46989.000000</td>\n",
       "      <td>4.698900e+04</td>\n",
       "      <td>46989.000000</td>\n",
       "      <td>46989.000000</td>\n",
       "    </tr>\n",
       "    <tr>\n",
       "      <th>mean</th>\n",
       "      <td>1.150365</td>\n",
       "      <td>1.469259</td>\n",
       "      <td>40.742466</td>\n",
       "      <td>7.023732e+06</td>\n",
       "      <td>-73.957306</td>\n",
       "      <td>3302.378535</td>\n",
       "    </tr>\n",
       "    <tr>\n",
       "      <th>std</th>\n",
       "      <td>0.387096</td>\n",
       "      <td>1.066536</td>\n",
       "      <td>0.597636</td>\n",
       "      <td>1.262478e+05</td>\n",
       "      <td>1.102895</td>\n",
       "      <td>1173.460677</td>\n",
       "    </tr>\n",
       "    <tr>\n",
       "      <th>min</th>\n",
       "      <td>0.000000</td>\n",
       "      <td>0.000000</td>\n",
       "      <td>0.000000</td>\n",
       "      <td>6.811957e+06</td>\n",
       "      <td>-118.271000</td>\n",
       "      <td>43.000000</td>\n",
       "    </tr>\n",
       "    <tr>\n",
       "      <th>25%</th>\n",
       "      <td>1.000000</td>\n",
       "      <td>1.000000</td>\n",
       "      <td>40.727900</td>\n",
       "      <td>6.915612e+06</td>\n",
       "      <td>-73.991700</td>\n",
       "      <td>2450.000000</td>\n",
       "    </tr>\n",
       "    <tr>\n",
       "      <th>50%</th>\n",
       "      <td>1.000000</td>\n",
       "      <td>1.000000</td>\n",
       "      <td>40.751600</td>\n",
       "      <td>7.020232e+06</td>\n",
       "      <td>-73.977800</td>\n",
       "      <td>3065.000000</td>\n",
       "    </tr>\n",
       "    <tr>\n",
       "      <th>75%</th>\n",
       "      <td>1.000000</td>\n",
       "      <td>2.000000</td>\n",
       "      <td>40.773900</td>\n",
       "      <td>7.128340e+06</td>\n",
       "      <td>-73.954400</td>\n",
       "      <td>3900.000000</td>\n",
       "    </tr>\n",
       "    <tr>\n",
       "      <th>max</th>\n",
       "      <td>10.000000</td>\n",
       "      <td>8.000000</td>\n",
       "      <td>44.603800</td>\n",
       "      <td>7.753784e+06</td>\n",
       "      <td>0.000000</td>\n",
       "      <td>6999.000000</td>\n",
       "    </tr>\n",
       "  </tbody>\n",
       "</table>\n",
       "</div>"
      ],
      "text/plain": [
       "          bathrooms      bedrooms      latitude    listing_id     longitude  \\\n",
       "count  46989.000000  46989.000000  46989.000000  4.698900e+04  46989.000000   \n",
       "mean       1.150365      1.469259     40.742466  7.023732e+06    -73.957306   \n",
       "std        0.387096      1.066536      0.597636  1.262478e+05      1.102895   \n",
       "min        0.000000      0.000000      0.000000  6.811957e+06   -118.271000   \n",
       "25%        1.000000      1.000000     40.727900  6.915612e+06    -73.991700   \n",
       "50%        1.000000      1.000000     40.751600  7.020232e+06    -73.977800   \n",
       "75%        1.000000      2.000000     40.773900  7.128340e+06    -73.954400   \n",
       "max       10.000000      8.000000     44.603800  7.753784e+06      0.000000   \n",
       "\n",
       "              price  \n",
       "count  46989.000000  \n",
       "mean    3302.378535  \n",
       "std     1173.460677  \n",
       "min       43.000000  \n",
       "25%     2450.000000  \n",
       "50%     3065.000000  \n",
       "75%     3900.000000  \n",
       "max     6999.000000  "
      ]
     },
     "execution_count": 11,
     "metadata": {},
     "output_type": "execute_result"
    }
   ],
   "source": [
    "rent_db3.describe()"
   ]
  },
  {
   "cell_type": "markdown",
   "metadata": {},
   "source": [
    "Well, after some slicing and dicing on price, aka some trial and error, I found my cutoff for price ($7000). By cutting out all of the listings that are more than $7000 per month, I am down to 46,989 rows from the ~49k at start. The histogram of price is more or less normally distributed. I'll move forward with this data set, as I perform my analysis. "
   ]
  },
  {
   "cell_type": "code",
   "execution_count": 12,
   "metadata": {
    "collapsed": false
   },
   "outputs": [
    {
     "data": {
      "text/plain": [
       "<matplotlib.axes._subplots.AxesSubplot at 0x12e3ba898>"
      ]
     },
     "execution_count": 12,
     "metadata": {},
     "output_type": "execute_result"
    },
    {
     "data": {
      "image/png": "[encoded data removed]",
      "text/plain": [
       "<matplotlib.figure.Figure at 0x12e406668>"
      ]
     },
     "metadata": {},
     "output_type": "display_data"
    }
   ],
   "source": [
    "rent_db3.boxplot(column='price', by='bedrooms')"
   ]
  },
  {
   "cell_type": "markdown",
   "metadata": {},
   "source": [
    "Not surprisingly, this plot shows how the median / mean price of apartments goes up with the amount of bedrooms within"
   ]
  },
  {
   "cell_type": "markdown",
   "metadata": {
    "collapsed": false
   },
   "source": [
    "### I want to do some work with the geo data, so I'm going to work on plotting the latitude longitude columns to see where these places are. Good practice, plus I think it'l look cool. (NYC)"
   ]
  },
  {
   "cell_type": "code",
   "execution_count": 13,
   "metadata": {
    "collapsed": false
   },
   "outputs": [
    {
     "data": {
      "text/plain": [
       "Index(['bathrooms', 'bedrooms', 'building_id', 'created', 'description',\n",
       "       'display_address', 'features', 'interest_level', 'latitude',\n",
       "       'listing_id', 'longitude', 'manager_id', 'photos', 'price',\n",
       "       'street_address'],\n",
       "      dtype='object')"
      ]
     },
     "execution_count": 13,
     "metadata": {},
     "output_type": "execute_result"
    }
   ],
   "source": [
    "rent_db.columns"
   ]
  },
  {
   "cell_type": "code",
   "execution_count": 14,
   "metadata": {
    "collapsed": true
   },
   "outputs": [],
   "source": [
    "geo_db = rent_db3[['latitude','longitude', 'interest_level']].copy()"
   ]
  },
  {
   "cell_type": "code",
   "execution_count": 15,
   "metadata": {
    "collapsed": false
   },
   "outputs": [
    {
     "data": {
      "text/html": [
       "<div>\n",
       "<table border=\"1\" class=\"dataframe\">\n",
       "  <thead>\n",
       "    <tr style=\"text-align: right;\">\n",
       "      <th></th>\n",
       "      <th>latitude</th>\n",
       "      <th>longitude</th>\n",
       "      <th>interest_level</th>\n",
       "    </tr>\n",
       "  </thead>\n",
       "  <tbody>\n",
       "    <tr>\n",
       "      <th>73465</th>\n",
       "      <td>40.7450</td>\n",
       "      <td>-73.9863</td>\n",
       "      <td>low</td>\n",
       "    </tr>\n",
       "    <tr>\n",
       "      <th>27216</th>\n",
       "      <td>40.7436</td>\n",
       "      <td>-73.9727</td>\n",
       "      <td>low</td>\n",
       "    </tr>\n",
       "    <tr>\n",
       "      <th>45555</th>\n",
       "      <td>40.7804</td>\n",
       "      <td>-73.9794</td>\n",
       "      <td>low</td>\n",
       "    </tr>\n",
       "    <tr>\n",
       "      <th>95670</th>\n",
       "      <td>40.7094</td>\n",
       "      <td>-74.0067</td>\n",
       "      <td>medium</td>\n",
       "    </tr>\n",
       "    <tr>\n",
       "      <th>123919</th>\n",
       "      <td>40.7094</td>\n",
       "      <td>-74.0067</td>\n",
       "      <td>low</td>\n",
       "    </tr>\n",
       "  </tbody>\n",
       "</table>\n",
       "</div>"
      ],
      "text/plain": [
       "        latitude  longitude interest_level\n",
       "73465    40.7450   -73.9863            low\n",
       "27216    40.7436   -73.9727            low\n",
       "45555    40.7804   -73.9794            low\n",
       "95670    40.7094   -74.0067         medium\n",
       "123919   40.7094   -74.0067            low"
      ]
     },
     "execution_count": 15,
     "metadata": {},
     "output_type": "execute_result"
    }
   ],
   "source": [
    "geo_db.head()"
   ]
  },
  {
   "cell_type": "code",
   "execution_count": 16,
   "metadata": {
    "collapsed": false
   },
   "outputs": [
    {
     "data": {
      "text/html": [
       "<div>\n",
       "<table border=\"1\" class=\"dataframe\">\n",
       "  <thead>\n",
       "    <tr style=\"text-align: right;\">\n",
       "      <th></th>\n",
       "      <th>latitude</th>\n",
       "      <th>longitude</th>\n",
       "    </tr>\n",
       "  </thead>\n",
       "  <tbody>\n",
       "    <tr>\n",
       "      <th>count</th>\n",
       "      <td>46989.000000</td>\n",
       "      <td>46989.000000</td>\n",
       "    </tr>\n",
       "    <tr>\n",
       "      <th>mean</th>\n",
       "      <td>40.742466</td>\n",
       "      <td>-73.957306</td>\n",
       "    </tr>\n",
       "    <tr>\n",
       "      <th>std</th>\n",
       "      <td>0.597636</td>\n",
       "      <td>1.102895</td>\n",
       "    </tr>\n",
       "    <tr>\n",
       "      <th>min</th>\n",
       "      <td>0.000000</td>\n",
       "      <td>-118.271000</td>\n",
       "    </tr>\n",
       "    <tr>\n",
       "      <th>25%</th>\n",
       "      <td>40.727900</td>\n",
       "      <td>-73.991700</td>\n",
       "    </tr>\n",
       "    <tr>\n",
       "      <th>50%</th>\n",
       "      <td>40.751600</td>\n",
       "      <td>-73.977800</td>\n",
       "    </tr>\n",
       "    <tr>\n",
       "      <th>75%</th>\n",
       "      <td>40.773900</td>\n",
       "      <td>-73.954400</td>\n",
       "    </tr>\n",
       "    <tr>\n",
       "      <th>max</th>\n",
       "      <td>44.603800</td>\n",
       "      <td>0.000000</td>\n",
       "    </tr>\n",
       "  </tbody>\n",
       "</table>\n",
       "</div>"
      ],
      "text/plain": [
       "           latitude     longitude\n",
       "count  46989.000000  46989.000000\n",
       "mean      40.742466    -73.957306\n",
       "std        0.597636      1.102895\n",
       "min        0.000000   -118.271000\n",
       "25%       40.727900    -73.991700\n",
       "50%       40.751600    -73.977800\n",
       "75%       40.773900    -73.954400\n",
       "max       44.603800      0.000000"
      ]
     },
     "execution_count": 16,
     "metadata": {},
     "output_type": "execute_result"
    }
   ],
   "source": [
    "geo_db.describe()"
   ]
  },
  {
   "cell_type": "markdown",
   "metadata": {},
   "source": [
    "### After looking at a couple of examples, let's try using Basemap, and plotting on top of that. Afterward, maybe we can make an even fancier map with either Bokeh or datashader."
   ]
  },
  {
   "cell_type": "code",
   "execution_count": 17,
   "metadata": {
    "collapsed": false
   },
   "outputs": [
    {
     "data": {
      "text/plain": [
       "latitude          float64\n",
       "longitude         float64\n",
       "interest_level     object\n",
       "dtype: object"
      ]
     },
     "execution_count": 17,
     "metadata": {},
     "output_type": "execute_result"
    }
   ],
   "source": [
    "geo_db.dtypes"
   ]
  },
  {
   "cell_type": "code",
   "execution_count": 18,
   "metadata": {
    "collapsed": true
   },
   "outputs": [],
   "source": [
    "def convert_int_lvl(txt_lvl):\n",
    "    if txt_lvl == 'high':\n",
    "        int_lvl = 2\n",
    "    elif txt_lvl == 'medium':\n",
    "        int_lvl = 1\n",
    "    elif txt_lvl == 'low':\n",
    "        int_lvl = 0\n",
    "    return int_lvl"
   ]
  },
  {
   "cell_type": "code",
   "execution_count": 19,
   "metadata": {
    "collapsed": false
   },
   "outputs": [],
   "source": [
    "geo_db['interest_level'] = geo_db['interest_level'].apply(convert_int_lvl)"
   ]
  },
  {
   "cell_type": "code",
   "execution_count": 20,
   "metadata": {
    "collapsed": false
   },
   "outputs": [
    {
     "data": {
      "text/plain": [
       "latitude          float64\n",
       "longitude         float64\n",
       "interest_level      int64\n",
       "dtype: object"
      ]
     },
     "execution_count": 20,
     "metadata": {},
     "output_type": "execute_result"
    }
   ],
   "source": [
    "geo_db.dtypes"
   ]
  },
  {
   "cell_type": "code",
   "execution_count": 21,
   "metadata": {
    "collapsed": false
   },
   "outputs": [
    {
     "data": {
      "text/html": [
       "<div>\n",
       "<table border=\"1\" class=\"dataframe\">\n",
       "  <thead>\n",
       "    <tr style=\"text-align: right;\">\n",
       "      <th></th>\n",
       "      <th>latitude</th>\n",
       "      <th>longitude</th>\n",
       "      <th>interest_level</th>\n",
       "    </tr>\n",
       "  </thead>\n",
       "  <tbody>\n",
       "    <tr>\n",
       "      <th>73465</th>\n",
       "      <td>40.7450</td>\n",
       "      <td>-73.9863</td>\n",
       "      <td>0</td>\n",
       "    </tr>\n",
       "    <tr>\n",
       "      <th>27216</th>\n",
       "      <td>40.7436</td>\n",
       "      <td>-73.9727</td>\n",
       "      <td>0</td>\n",
       "    </tr>\n",
       "    <tr>\n",
       "      <th>45555</th>\n",
       "      <td>40.7804</td>\n",
       "      <td>-73.9794</td>\n",
       "      <td>0</td>\n",
       "    </tr>\n",
       "    <tr>\n",
       "      <th>95670</th>\n",
       "      <td>40.7094</td>\n",
       "      <td>-74.0067</td>\n",
       "      <td>1</td>\n",
       "    </tr>\n",
       "    <tr>\n",
       "      <th>123919</th>\n",
       "      <td>40.7094</td>\n",
       "      <td>-74.0067</td>\n",
       "      <td>0</td>\n",
       "    </tr>\n",
       "  </tbody>\n",
       "</table>\n",
       "</div>"
      ],
      "text/plain": [
       "        latitude  longitude  interest_level\n",
       "73465    40.7450   -73.9863               0\n",
       "27216    40.7436   -73.9727               0\n",
       "45555    40.7804   -73.9794               0\n",
       "95670    40.7094   -74.0067               1\n",
       "123919   40.7094   -74.0067               0"
      ]
     },
     "execution_count": 21,
     "metadata": {},
     "output_type": "execute_result"
    }
   ],
   "source": [
    "geo_db.head()"
   ]
  },
  {
   "cell_type": "markdown",
   "metadata": {},
   "source": [
    "### This data is uses latitude and longitude, but I want to try to plot the points using datashader, which is built on bokeh. Bokeh uses google web mercator projections, so I have to convert my data to that format. Found a tutorial on how to do this using pyproj, so let's give it a go! "
   ]
  },
  {
   "cell_type": "code",
   "execution_count": 22,
   "metadata": {
    "collapsed": false
   },
   "outputs": [],
   "source": [
    "from pyproj import Proj, transform\n",
    "\n",
    "inProj = Proj(init='epsg:4326')\n",
    "outProj = Proj(init='epsg:3857')\n",
    "geo_db['x'], geo_db['y'] = transform(inProj, outProj, list(geo_db['latitude']), list(geo_db['longitude']))"
   ]
  },
  {
   "cell_type": "code",
   "execution_count": 23,
   "metadata": {
    "collapsed": false
   },
   "outputs": [
    {
     "data": {
      "text/html": [
       "<div>\n",
       "<table border=\"1\" class=\"dataframe\">\n",
       "  <thead>\n",
       "    <tr style=\"text-align: right;\">\n",
       "      <th></th>\n",
       "      <th>latitude</th>\n",
       "      <th>longitude</th>\n",
       "      <th>interest_level</th>\n",
       "      <th>x</th>\n",
       "      <th>y</th>\n",
       "    </tr>\n",
       "  </thead>\n",
       "  <tbody>\n",
       "    <tr>\n",
       "      <th>73465</th>\n",
       "      <td>40.7450</td>\n",
       "      <td>-73.9863</td>\n",
       "      <td>0</td>\n",
       "      <td>4.535713e+06</td>\n",
       "      <td>-1.251001e+07</td>\n",
       "    </tr>\n",
       "    <tr>\n",
       "      <th>27216</th>\n",
       "      <td>40.7436</td>\n",
       "      <td>-73.9727</td>\n",
       "      <td>0</td>\n",
       "      <td>4.535557e+06</td>\n",
       "      <td>-1.250453e+07</td>\n",
       "    </tr>\n",
       "    <tr>\n",
       "      <th>45555</th>\n",
       "      <td>40.7804</td>\n",
       "      <td>-73.9794</td>\n",
       "      <td>0</td>\n",
       "      <td>4.539653e+06</td>\n",
       "      <td>-1.250723e+07</td>\n",
       "    </tr>\n",
       "    <tr>\n",
       "      <th>95670</th>\n",
       "      <td>40.7094</td>\n",
       "      <td>-74.0067</td>\n",
       "      <td>1</td>\n",
       "      <td>4.531750e+06</td>\n",
       "      <td>-1.251825e+07</td>\n",
       "    </tr>\n",
       "    <tr>\n",
       "      <th>123919</th>\n",
       "      <td>40.7094</td>\n",
       "      <td>-74.0067</td>\n",
       "      <td>0</td>\n",
       "      <td>4.531750e+06</td>\n",
       "      <td>-1.251825e+07</td>\n",
       "    </tr>\n",
       "  </tbody>\n",
       "</table>\n",
       "</div>"
      ],
      "text/plain": [
       "        latitude  longitude  interest_level             x             y\n",
       "73465    40.7450   -73.9863               0  4.535713e+06 -1.251001e+07\n",
       "27216    40.7436   -73.9727               0  4.535557e+06 -1.250453e+07\n",
       "45555    40.7804   -73.9794               0  4.539653e+06 -1.250723e+07\n",
       "95670    40.7094   -74.0067               1  4.531750e+06 -1.251825e+07\n",
       "123919   40.7094   -74.0067               0  4.531750e+06 -1.251825e+07"
      ]
     },
     "execution_count": 23,
     "metadata": {},
     "output_type": "execute_result"
    }
   ],
   "source": [
    "geo_db.head()"
   ]
  },
  {
   "cell_type": "markdown",
   "metadata": {},
   "source": [
    "### Success!! I figured out how to convert the columns in one (well 3) lines of code. #high5, dinner time! Now to use datashader to plot all the apartment locations on a map of NYC. "
   ]
  },
  {
   "cell_type": "code",
   "execution_count": 24,
   "metadata": {
    "collapsed": false
   },
   "outputs": [
    {
     "data": {
      "text/plain": [
       "latitude          0\n",
       "longitude         0\n",
       "interest_level    0\n",
       "x                 0\n",
       "y                 0\n",
       "dtype: int64"
      ]
     },
     "execution_count": 24,
     "metadata": {},
     "output_type": "execute_result"
    }
   ],
   "source": [
    "geo_db.isnull().sum()"
   ]
  },
  {
   "cell_type": "code",
   "execution_count": 25,
   "metadata": {
    "collapsed": false
   },
   "outputs": [
    {
     "name": "stderr",
     "output_type": "stream",
     "text": [
      "/Users/charlierock/anaconda/envs/py35/lib/python3.5/site-packages/datashader/core.py:94: RuntimeWarning: divide by zero encountered in true_divide\n",
      "  return self.inverse_mapper((px - t)/s)\n",
      "/Users/charlierock/anaconda/envs/py35/lib/python3.5/site-packages/datashader/core.py:94: RuntimeWarning: invalid value encountered in true_divide\n",
      "  return self.inverse_mapper((px - t)/s)\n",
      "/Users/charlierock/anaconda/envs/py35/lib/python3.5/site-packages/datashader/core.py:94: RuntimeWarning: divide by zero encountered in true_divide\n",
      "  return self.inverse_mapper((px - t)/s)\n",
      "/Users/charlierock/anaconda/envs/py35/lib/python3.5/site-packages/datashader/core.py:94: RuntimeWarning: invalid value encountered in true_divide\n",
      "  return self.inverse_mapper((px - t)/s)\n"
     ]
    }
   ],
   "source": [
    "import datashader as ds\n",
    "import datashader.transfer_functions as tf\n",
    "from datashader.colors import Greys9\n",
    "Greys9_r = list(reversed(Greys9))[:-2]\n",
    "\n",
    "cvs = ds.Canvas(plot_width=600, plot_height=600)\n",
    "agg = cvs.points(geo_db, 'x', 'y', ds.count('interest_level'))\n",
    "img = tf.shade(agg, cmap=Greys9_r, how='log')"
   ]
  },
  {
   "cell_type": "markdown",
   "metadata": {
    "collapsed": true
   },
   "source": [
    "### Well, I ran out of time to submit for the kaggle competition, and I didn't get a chance to put much time into this project. I had fun doing some (really) basic exploratory work here, and I guess that's good practice. Once I ran into the issue with datashader, I decided to just call it, and move on to another project for now. "
   ]
  },
  {
   "cell_type": "code",
   "execution_count": null,
   "metadata": {
    "collapsed": true
   },
   "outputs": [],
   "source": []
  }
 ],
 "metadata": {
  "anaconda-cloud": {},
  "kernelspec": {
   "display_name": "Python [py35]",
   "language": "python",
   "name": "Python [py35]"
  },
  "language_info": {
   "codemirror_mode": {
    "name": "ipython",
    "version": 3
   },
   "file_extension": ".py",
   "mimetype": "text/x-python",
   "name": "python",
   "nbconvert_exporter": "python",
   "pygments_lexer": "ipython3",
   "version": "3.5.2"
  }
 },
 "nbformat": 4,
 "nbformat_minor": 2
}
