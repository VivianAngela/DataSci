{
 "cells": [
  {
   "cell_type": "markdown",
   "metadata": {},
   "source": [
    "## Now that I have figured out how to install XGBoost as well as run it cleanly, this notebook will be a cleaned-up version of the previous notebook. I'm going to take out all of the exploratory stuff and go straight to the heart of the matter. I'm also going to clean up the imports, test and train data frames as well as the null columns using the train data set. Go line by line and make sure everything is straightforward and decently commented. \n",
    "\n",
    "## Well, after running into yet more problems with xgboost and how it has handled this dataset, I found a more relevant kernel on kaggle that has a clean way of creating the model. This notebook will combine the successful aspects of my earlier efforts with that kernel in hopes of at least generating a submission.. Cross your fingers!"
   ]
  },
  {
   "cell_type": "code",
   "execution_count": 1,
   "metadata": {
    "collapsed": false
   },
   "outputs": [],
   "source": [
    "#The usual imports..\n",
    "%matplotlib inline\n",
    "import pandas as pd\n",
    "import numpy as np\n",
    "import matplotlib.pyplot as plt\n",
    "import seaborn as sns           # Makes prettier plots\n",
    "from sklearn import model_selection, preprocessing\n",
    "import xgboost as xgb\n",
    "import time                     # Using time to check how long it takes to train model"
   ]
  },
  {
   "cell_type": "code",
   "execution_count": 2,
   "metadata": {
    "collapsed": false
   },
   "outputs": [],
   "source": [
    "train_df = pd.read_csv('./data/train.csv', parse_dates=['timestamp'])\n",
    "test_df = pd.read_csv('./data/test.csv', parse_dates=['timestamp'])"
   ]
  },
  {
   "cell_type": "code",
   "execution_count": 3,
   "metadata": {
    "collapsed": false
   },
   "outputs": [
    {
     "name": "stdout",
     "output_type": "stream",
     "text": [
      "(30471, 292)\n",
      "(7662, 291)\n",
      "Index(['id', 'timestamp', 'full_sq', 'life_sq', 'floor', 'max_floor',\n",
      "       'material', 'build_year', 'num_room', 'kitch_sq',\n",
      "       ...\n",
      "       'cafe_count_5000_price_1500', 'cafe_count_5000_price_2500',\n",
      "       'cafe_count_5000_price_4000', 'cafe_count_5000_price_high',\n",
      "       'big_church_count_5000', 'church_count_5000', 'mosque_count_5000',\n",
      "       'leisure_count_5000', 'sport_count_5000', 'market_count_5000'],\n",
      "      dtype='object', length=291)\n",
      "Index(['id', 'timestamp', 'full_sq', 'life_sq', 'floor', 'max_floor',\n",
      "       'material', 'build_year', 'num_room', 'kitch_sq',\n",
      "       ...\n",
      "       'cafe_count_5000_price_2500', 'cafe_count_5000_price_4000',\n",
      "       'cafe_count_5000_price_high', 'big_church_count_5000',\n",
      "       'church_count_5000', 'mosque_count_5000', 'leisure_count_5000',\n",
      "       'sport_count_5000', 'market_count_5000', 'price_doc'],\n",
      "      dtype='object', length=292)\n"
     ]
    }
   ],
   "source": [
    "print(train_df.shape)\n",
    "print(test_df.shape)\n",
    "print(test_df.columns)\n",
    "print(train_df.columns)"
   ]
  },
  {
   "cell_type": "code",
   "execution_count": 4,
   "metadata": {
    "collapsed": false,
    "scrolled": true
   },
   "outputs": [
    {
     "data": {
      "text/plain": [
       "id                                           0\n",
       "timestamp                                    0\n",
       "full_sq                                      0\n",
       "life_sq                                   6383\n",
       "floor                                      167\n",
       "max_floor                                 9572\n",
       "material                                  9572\n",
       "build_year                               13605\n",
       "num_room                                  9572\n",
       "kitch_sq                                  9572\n",
       "state                                    13559\n",
       "product_type                                 0\n",
       "sub_area                                     0\n",
       "area_m                                       0\n",
       "raion_popul                                  0\n",
       "green_zone_part                              0\n",
       "indust_part                                  0\n",
       "children_preschool                           0\n",
       "preschool_quota                           6688\n",
       "preschool_education_centers_raion            0\n",
       "children_school                              0\n",
       "school_quota                              6685\n",
       "school_education_centers_raion               0\n",
       "school_education_centers_top_20_raion        0\n",
       "hospital_beds_raion                      14441\n",
       "healthcare_centers_raion                     0\n",
       "university_top_20_raion                      0\n",
       "sport_objects_raion                          0\n",
       "additional_education_raion                   0\n",
       "culture_objects_top_25                       0\n",
       "                                         ...  \n",
       "big_church_count_3000                        0\n",
       "church_count_3000                            0\n",
       "mosque_count_3000                            0\n",
       "leisure_count_3000                           0\n",
       "sport_count_3000                             0\n",
       "market_count_3000                            0\n",
       "green_part_5000                              0\n",
       "prom_part_5000                             178\n",
       "office_count_5000                            0\n",
       "office_sqm_5000                              0\n",
       "trc_count_5000                               0\n",
       "trc_sqm_5000                                 0\n",
       "cafe_count_5000                              0\n",
       "cafe_sum_5000_min_price_avg                297\n",
       "cafe_sum_5000_max_price_avg                297\n",
       "cafe_avg_price_5000                        297\n",
       "cafe_count_5000_na_price                     0\n",
       "cafe_count_5000_price_500                    0\n",
       "cafe_count_5000_price_1000                   0\n",
       "cafe_count_5000_price_1500                   0\n",
       "cafe_count_5000_price_2500                   0\n",
       "cafe_count_5000_price_4000                   0\n",
       "cafe_count_5000_price_high                   0\n",
       "big_church_count_5000                        0\n",
       "church_count_5000                            0\n",
       "mosque_count_5000                            0\n",
       "leisure_count_5000                           0\n",
       "sport_count_5000                             0\n",
       "market_count_5000                            0\n",
       "price_doc                                    0\n",
       "Length: 292, dtype: int64"
      ]
     },
     "execution_count": 4,
     "metadata": {},
     "output_type": "execute_result"
    }
   ],
   "source": [
    "train_df.isnull().sum()"
   ]
  },
  {
   "cell_type": "code",
   "execution_count": 5,
   "metadata": {
    "collapsed": false
   },
   "outputs": [
    {
     "data": {
      "text/plain": [
       "id                                       0\n",
       "timestamp                                0\n",
       "full_sq                                  0\n",
       "life_sq                                  0\n",
       "floor                                    0\n",
       "max_floor                                0\n",
       "material                                 0\n",
       "build_year                               0\n",
       "num_room                                 0\n",
       "kitch_sq                                 0\n",
       "state                                    0\n",
       "product_type                             0\n",
       "sub_area                                 0\n",
       "area_m                                   0\n",
       "raion_popul                              0\n",
       "green_zone_part                          0\n",
       "indust_part                              0\n",
       "children_preschool                       0\n",
       "preschool_quota                          0\n",
       "preschool_education_centers_raion        0\n",
       "children_school                          0\n",
       "school_quota                             0\n",
       "school_education_centers_raion           0\n",
       "school_education_centers_top_20_raion    0\n",
       "hospital_beds_raion                      0\n",
       "healthcare_centers_raion                 0\n",
       "university_top_20_raion                  0\n",
       "sport_objects_raion                      0\n",
       "additional_education_raion               0\n",
       "culture_objects_top_25                   0\n",
       "                                        ..\n",
       "big_church_count_3000                    0\n",
       "church_count_3000                        0\n",
       "mosque_count_3000                        0\n",
       "leisure_count_3000                       0\n",
       "sport_count_3000                         0\n",
       "market_count_3000                        0\n",
       "green_part_5000                          0\n",
       "prom_part_5000                           0\n",
       "office_count_5000                        0\n",
       "office_sqm_5000                          0\n",
       "trc_count_5000                           0\n",
       "trc_sqm_5000                             0\n",
       "cafe_count_5000                          0\n",
       "cafe_sum_5000_min_price_avg              0\n",
       "cafe_sum_5000_max_price_avg              0\n",
       "cafe_avg_price_5000                      0\n",
       "cafe_count_5000_na_price                 0\n",
       "cafe_count_5000_price_500                0\n",
       "cafe_count_5000_price_1000               0\n",
       "cafe_count_5000_price_1500               0\n",
       "cafe_count_5000_price_2500               0\n",
       "cafe_count_5000_price_4000               0\n",
       "cafe_count_5000_price_high               0\n",
       "big_church_count_5000                    0\n",
       "church_count_5000                        0\n",
       "mosque_count_5000                        0\n",
       "leisure_count_5000                       0\n",
       "sport_count_5000                         0\n",
       "market_count_5000                        0\n",
       "price_doc                                0\n",
       "Length: 292, dtype: int64"
      ]
     },
     "execution_count": 5,
     "metadata": {},
     "output_type": "execute_result"
    }
   ],
   "source": [
    "train_df = train_df.fillna(train_df.mean())\n",
    "train_df.isnull().sum()"
   ]
  },
  {
   "cell_type": "code",
   "execution_count": 6,
   "metadata": {
    "collapsed": false
   },
   "outputs": [
    {
     "data": {
      "text/plain": [
       "Investment       19448\n",
       "OwnerOccupier    11023\n",
       "Name: product_type, dtype: int64"
      ]
     },
     "execution_count": 6,
     "metadata": {},
     "output_type": "execute_result"
    }
   ],
   "source": [
    "#test_df[test_df.isnull()].dtypes\n",
    "train_df['product_type'].value_counts()"
   ]
  },
  {
   "cell_type": "code",
   "execution_count": 7,
   "metadata": {
    "collapsed": true
   },
   "outputs": [],
   "source": [
    "# We see that there is roughly an even split between investment and owneroccupier in the training data.\n",
    "# I'll fill the test data frame missing values with \"Investment\" and move forward\n",
    "test_df['product_type'].fillna('Investment', inplace=True)"
   ]
  },
  {
   "cell_type": "code",
   "execution_count": 8,
   "metadata": {
    "collapsed": false
   },
   "outputs": [
    {
     "data": {
      "text/plain": [
       "id                                       0\n",
       "timestamp                                0\n",
       "full_sq                                  0\n",
       "life_sq                                  0\n",
       "floor                                    0\n",
       "max_floor                                0\n",
       "material                                 0\n",
       "build_year                               0\n",
       "num_room                                 0\n",
       "kitch_sq                                 0\n",
       "state                                    0\n",
       "product_type                             0\n",
       "sub_area                                 0\n",
       "area_m                                   0\n",
       "raion_popul                              0\n",
       "green_zone_part                          0\n",
       "indust_part                              0\n",
       "children_preschool                       0\n",
       "preschool_quota                          0\n",
       "preschool_education_centers_raion        0\n",
       "children_school                          0\n",
       "school_quota                             0\n",
       "school_education_centers_raion           0\n",
       "school_education_centers_top_20_raion    0\n",
       "hospital_beds_raion                      0\n",
       "healthcare_centers_raion                 0\n",
       "university_top_20_raion                  0\n",
       "sport_objects_raion                      0\n",
       "additional_education_raion               0\n",
       "culture_objects_top_25                   0\n",
       "                                        ..\n",
       "cafe_count_3000_price_high               0\n",
       "big_church_count_3000                    0\n",
       "church_count_3000                        0\n",
       "mosque_count_3000                        0\n",
       "leisure_count_3000                       0\n",
       "sport_count_3000                         0\n",
       "market_count_3000                        0\n",
       "green_part_5000                          0\n",
       "prom_part_5000                           0\n",
       "office_count_5000                        0\n",
       "office_sqm_5000                          0\n",
       "trc_count_5000                           0\n",
       "trc_sqm_5000                             0\n",
       "cafe_count_5000                          0\n",
       "cafe_sum_5000_min_price_avg              0\n",
       "cafe_sum_5000_max_price_avg              0\n",
       "cafe_avg_price_5000                      0\n",
       "cafe_count_5000_na_price                 0\n",
       "cafe_count_5000_price_500                0\n",
       "cafe_count_5000_price_1000               0\n",
       "cafe_count_5000_price_1500               0\n",
       "cafe_count_5000_price_2500               0\n",
       "cafe_count_5000_price_4000               0\n",
       "cafe_count_5000_price_high               0\n",
       "big_church_count_5000                    0\n",
       "church_count_5000                        0\n",
       "mosque_count_5000                        0\n",
       "leisure_count_5000                       0\n",
       "sport_count_5000                         0\n",
       "market_count_5000                        0\n",
       "Length: 291, dtype: int64"
      ]
     },
     "execution_count": 8,
     "metadata": {},
     "output_type": "execute_result"
    }
   ],
   "source": [
    "for col in test_df.columns:\n",
    "    if test_df[col].isnull().sum() != 0:\n",
    "        test_df[col] = test_df[col].fillna(train_df[col].mean())\n",
    "test_df.isnull().sum()"
   ]
  },
  {
   "cell_type": "markdown",
   "metadata": {},
   "source": [
    "### Well, it looks like I took care of the null values in the test dataframe. All I had to do was sort out the product_type column, it seems. I'll take it! "
   ]
  },
  {
   "cell_type": "code",
   "execution_count": 9,
   "metadata": {
    "collapsed": false
   },
   "outputs": [],
   "source": [
    "#Further cleaning of the data sets, and setting up some variables for later use. \n",
    "target = 'price_doc'\n",
    "IDcol = 'id'\n",
    "timestamp = 'timestamp'\n",
    "y_train = train_df[target]\n",
    "X_train = train_df.drop([IDcol, timestamp, target], axis=1)\n",
    "X_test = test_df.drop([IDcol, timestamp], axis=1)"
   ]
  },
  {
   "cell_type": "code",
   "execution_count": 10,
   "metadata": {
    "collapsed": false
   },
   "outputs": [],
   "source": [
    "# This method of encoding categorical data seems to be much cleaner than my previous method of one-hot encoding..\n",
    "for c in X_train.columns:\n",
    "    if X_train[c].dtype == 'object':\n",
    "        lbl = preprocessing.LabelEncoder()\n",
    "        lbl.fit(list(X_train[c].values))\n",
    "        X_train[c] = lbl.transform(list(X_train[c].values))\n",
    "for c in X_test.columns:\n",
    "    if X_test[c].dtype == 'object':\n",
    "        lbl = preprocessing.LabelEncoder()\n",
    "        lbl.fit(list(X_test[c].values))\n",
    "        X_test[c] = lbl.transform(list(X_test[c].values))"
   ]
  },
  {
   "cell_type": "code",
   "execution_count": 11,
   "metadata": {
    "collapsed": false
   },
   "outputs": [],
   "source": [
    "# Set up the parameter dictionary for xgboost\n",
    "params = {\n",
    "    'eta': 0.05,\n",
    "    'objective': 'reg:linear',\n",
    "    'max_depth': 5,\n",
    "    'eval_metric': 'rmse',\n",
    "    'updater': 'grow_gpu',\n",
    "    'silent': 1,\n",
    "    'subsample':0.7,\n",
    "    'colsample_bytree':0.7\n",
    "}\n",
    "# Create the data matrices for XGBoost\n",
    "dtrain = xgb.DMatrix(X_train, y_train)\n",
    "dtest =xgb.DMatrix(X_test)"
   ]
  },
  {
   "cell_type": "markdown",
   "metadata": {},
   "source": [
    "### Well, so far, so good. This new kernel involves the use of the cv method from xgboost. I'm going to incorporate that (mostly since it creates another cool chart), and see how it goes. "
   ]
  },
  {
   "cell_type": "code",
   "execution_count": 12,
   "metadata": {
    "collapsed": false
   },
   "outputs": [
    {
     "name": "stdout",
     "output_type": "stream",
     "text": [
      "[0]\ttrain-rmse:8.22175e+06\ttest-rmse:8.22701e+06\n",
      "[50]\ttrain-rmse:2.93644e+06\ttest-rmse:3.25981e+06\n",
      "[100]\ttrain-rmse:3.84093e+06\ttest-rmse:4.1334e+06\n"
     ]
    },
    {
     "data": {
      "text/plain": [
       "<matplotlib.axes._subplots.AxesSubplot at 0x7fb833e7f320>"
      ]
     },
     "execution_count": 12,
     "metadata": {},
     "output_type": "execute_result"
    },
    {
     "data": {
      "image/png": "[encoded data removed]",
      "text/plain": [
       "<matplotlib.figure.Figure at 0x7fb83fe745f8>"
      ]
     },
     "metadata": {},
     "output_type": "display_data"
    }
   ],
   "source": [
    "cv_output = xgb.cv(params, dtrain, num_boost_round=1000, early_stopping_rounds=50, verbose_eval=50, show_stdv=False)\n",
    "cv_output[['train-rmse-mean', 'test-rmse-mean']].plot()"
   ]
  },
  {
   "cell_type": "markdown",
   "metadata": {},
   "source": [
    "### Well... It works so far! I'm extremely (Xtremely?!) excited about this. Nothing like a little Data Science-ing at 7 in the morning! Now to move on to training the model, and creating a submission. After a little parameter tuning, of course.. Oi."
   ]
  },
  {
   "cell_type": "code",
   "execution_count": 13,
   "metadata": {
    "collapsed": false
   },
   "outputs": [
    {
     "name": "stdout",
     "output_type": "stream",
     "text": [
      "Train time: 2.635956048965454 sec\n"
     ]
    }
   ],
   "source": [
    "num_round = len(cv_output)\n",
    "tmp = time.time()\n",
    "bst = xgb.train(dict(params, silent=0), dtrain, num_round)\n",
    "boost_time = time.time() - tmp\n",
    "print('Train time: %s sec' % (str(boost_time)))"
   ]
  },
  {
   "cell_type": "code",
   "execution_count": 14,
   "metadata": {
    "collapsed": false
   },
   "outputs": [
    {
     "data": {
      "text/plain": [
       "<matplotlib.axes._subplots.AxesSubplot at 0x7fb83fe746a0>"
      ]
     },
     "execution_count": 14,
     "metadata": {},
     "output_type": "execute_result"
    },
    {
     "data": {
      "image/png": "[encoded data removed]",
      "text/plain": [
       "<matplotlib.figure.Figure at 0x7fb83fbb0320>"
      ]
     },
     "metadata": {},
     "output_type": "display_data"
    }
   ],
   "source": [
    "fig, ax = plt.subplots(1, 1, figsize=(8,13))\n",
    "xgb.plot_importance(bst, max_num_features=50, height=0.5, ax=ax)"
   ]
  },
  {
   "cell_type": "code",
   "execution_count": 16,
   "metadata": {
    "collapsed": false
   },
   "outputs": [
    {
     "data": {
      "text/html": [
       "<div>\n",
       "<style>\n",
       "    .dataframe thead tr:only-child th {\n",
       "        text-align: right;\n",
       "    }\n",
       "\n",
       "    .dataframe thead th {\n",
       "        text-align: left;\n",
       "    }\n",
       "\n",
       "    .dataframe tbody tr th {\n",
       "        vertical-align: top;\n",
       "    }\n",
       "</style>\n",
       "<table border=\"1\" class=\"dataframe\">\n",
       "  <thead>\n",
       "    <tr style=\"text-align: right;\">\n",
       "      <th></th>\n",
       "      <th>id</th>\n",
       "      <th>price_doc</th>\n",
       "    </tr>\n",
       "  </thead>\n",
       "  <tbody>\n",
       "    <tr>\n",
       "      <th>0</th>\n",
       "      <td>30474</td>\n",
       "      <td>5201769.5</td>\n",
       "    </tr>\n",
       "    <tr>\n",
       "      <th>1</th>\n",
       "      <td>30475</td>\n",
       "      <td>7708331.5</td>\n",
       "    </tr>\n",
       "    <tr>\n",
       "      <th>2</th>\n",
       "      <td>30476</td>\n",
       "      <td>5365227.0</td>\n",
       "    </tr>\n",
       "    <tr>\n",
       "      <th>3</th>\n",
       "      <td>30477</td>\n",
       "      <td>5328482.5</td>\n",
       "    </tr>\n",
       "    <tr>\n",
       "      <th>4</th>\n",
       "      <td>30478</td>\n",
       "      <td>4887486.0</td>\n",
       "    </tr>\n",
       "  </tbody>\n",
       "</table>\n",
       "</div>"
      ],
      "text/plain": [
       "      id  price_doc\n",
       "0  30474  5201769.5\n",
       "1  30475  7708331.5\n",
       "2  30476  5365227.0\n",
       "3  30477  5328482.5\n",
       "4  30478  4887486.0"
      ]
     },
     "execution_count": 16,
     "metadata": {},
     "output_type": "execute_result"
    }
   ],
   "source": [
    "test_id = test_df['id'].astype('int32') # grab the id column from the test set\n",
    "preds = bst.predict(dtest)\n",
    "output = pd.DataFrame({'id':test_id, 'price_doc': preds})\n",
    "output.head()"
   ]
  },
  {
   "cell_type": "code",
   "execution_count": 18,
   "metadata": {
    "collapsed": false
   },
   "outputs": [
    {
     "data": {
      "text/plain": [
       "id             int32\n",
       "price_doc    float32\n",
       "dtype: object"
      ]
     },
     "execution_count": 18,
     "metadata": {},
     "output_type": "execute_result"
    }
   ],
   "source": [
    "output.dtypes"
   ]
  },
  {
   "cell_type": "code",
   "execution_count": 19,
   "metadata": {
    "collapsed": false
   },
   "outputs": [
    {
     "data": {
      "text/plain": [
       "-6785298.5"
      ]
     },
     "execution_count": 19,
     "metadata": {},
     "output_type": "execute_result"
    }
   ],
   "source": [
    "preds.min()"
   ]
  },
  {
   "cell_type": "markdown",
   "metadata": {},
   "source": [
    "### Ah ha, well apparently, my model will return negative values. I'm not sure how or why that's possible, but it is. I'm going to be super lazy and just take the absolute value. "
   ]
  },
  {
   "cell_type": "code",
   "execution_count": 20,
   "metadata": {
    "collapsed": true
   },
   "outputs": [],
   "source": [
    "output = output.abs()"
   ]
  },
  {
   "cell_type": "code",
   "execution_count": 21,
   "metadata": {
    "collapsed": false
   },
   "outputs": [
    {
     "data": {
      "text/html": [
       "<div>\n",
       "<style>\n",
       "    .dataframe thead tr:only-child th {\n",
       "        text-align: right;\n",
       "    }\n",
       "\n",
       "    .dataframe thead th {\n",
       "        text-align: left;\n",
       "    }\n",
       "\n",
       "    .dataframe tbody tr th {\n",
       "        vertical-align: top;\n",
       "    }\n",
       "</style>\n",
       "<table border=\"1\" class=\"dataframe\">\n",
       "  <thead>\n",
       "    <tr style=\"text-align: right;\">\n",
       "      <th></th>\n",
       "      <th>id</th>\n",
       "      <th>price_doc</th>\n",
       "    </tr>\n",
       "  </thead>\n",
       "  <tbody>\n",
       "    <tr>\n",
       "      <th>count</th>\n",
       "      <td>7662.000000</td>\n",
       "      <td>7.662000e+03</td>\n",
       "    </tr>\n",
       "    <tr>\n",
       "      <th>mean</th>\n",
       "      <td>34304.500000</td>\n",
       "      <td>7.100008e+06</td>\n",
       "    </tr>\n",
       "    <tr>\n",
       "      <th>std</th>\n",
       "      <td>2211.973214</td>\n",
       "      <td>3.478223e+06</td>\n",
       "    </tr>\n",
       "    <tr>\n",
       "      <th>min</th>\n",
       "      <td>30474.000000</td>\n",
       "      <td>1.209260e+05</td>\n",
       "    </tr>\n",
       "    <tr>\n",
       "      <th>25%</th>\n",
       "      <td>32389.250000</td>\n",
       "      <td>5.151784e+06</td>\n",
       "    </tr>\n",
       "    <tr>\n",
       "      <th>50%</th>\n",
       "      <td>34304.500000</td>\n",
       "      <td>6.253415e+06</td>\n",
       "    </tr>\n",
       "    <tr>\n",
       "      <th>75%</th>\n",
       "      <td>36219.750000</td>\n",
       "      <td>7.983087e+06</td>\n",
       "    </tr>\n",
       "    <tr>\n",
       "      <th>max</th>\n",
       "      <td>38135.000000</td>\n",
       "      <td>5.254649e+07</td>\n",
       "    </tr>\n",
       "  </tbody>\n",
       "</table>\n",
       "</div>"
      ],
      "text/plain": [
       "                 id     price_doc\n",
       "count   7662.000000  7.662000e+03\n",
       "mean   34304.500000  7.100008e+06\n",
       "std     2211.973214  3.478223e+06\n",
       "min    30474.000000  1.209260e+05\n",
       "25%    32389.250000  5.151784e+06\n",
       "50%    34304.500000  6.253415e+06\n",
       "75%    36219.750000  7.983087e+06\n",
       "max    38135.000000  5.254649e+07"
      ]
     },
     "execution_count": 21,
     "metadata": {},
     "output_type": "execute_result"
    }
   ],
   "source": [
    "output.describe()"
   ]
  },
  {
   "cell_type": "code",
   "execution_count": null,
   "metadata": {
    "collapsed": true
   },
   "outputs": [],
   "source": [
    "output['price_doc'][1]"
   ]
  },
  {
   "cell_type": "code",
   "execution_count": 22,
   "metadata": {
    "collapsed": true
   },
   "outputs": [],
   "source": [
    "output.to_csv('CN_XGB_submit.csv', index=False)"
   ]
  },
  {
   "cell_type": "markdown",
   "metadata": {},
   "source": [
    "# I finally finished this silly, silly project! It took a few weeks (one week in earnest), but I defintely learned a lot along the way. Not only about how to work with XGBoost, but how to learn a new prediction model by searching the internet for tips, tricks, and examples. I don't even care if my model is really crappy. I'm just glad it's done! "
   ]
  },
  {
   "cell_type": "code",
   "execution_count": null,
   "metadata": {
    "collapsed": true
   },
   "outputs": [],
   "source": []
  }
 ],
 "metadata": {
  "anaconda-cloud": {},
  "kernelspec": {
   "display_name": "py36",
   "language": "python",
   "name": "py36"
  },
  "language_info": {
   "codemirror_mode": {
    "name": "ipython",
    "version": 3
   },
   "file_extension": ".py",
   "mimetype": "text/x-python",
   "name": "python",
   "nbconvert_exporter": "python",
   "pygments_lexer": "ipython3",
   "version": "3.6.0"
  }
 },
 "nbformat": 4,
 "nbformat_minor": 2
}
