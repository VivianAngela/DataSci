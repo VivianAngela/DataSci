{
 "cells": [
  {
   "cell_type": "markdown",
   "metadata": {},
   "source": [
    "## 5. Linear Regression with PyTorch\n",
    "\n",
    "### 1. About Linear Regression\n",
    "#### 1.1 Simple Linear Regression Basics\n",
    "* Allows us to understand the relationship between two continuous variables\n",
    "* Example\n",
    "    * x: independent variable\n",
    "        * weight\n",
    "    * y: dependent variable\n",
    "        * height\n",
    "* $y=\\alpha x+\\beta$"
   ]
  },
  {
   "cell_type": "markdown",
   "metadata": {},
   "source": [
    "#### 1.2 Example of Simple Linear Regression"
   ]
  },
  {
   "cell_type": "code",
   "execution_count": 3,
   "metadata": {
    "collapsed": false
   },
   "outputs": [
    {
     "data": {
      "image/png": "[encoded data removed]",
      "text/plain": [
       "<matplotlib.figure.Figure at 0x1059a3b70>"
      ]
     },
     "metadata": {},
     "output_type": "display_data"
    }
   ],
   "source": [
    "%matplotlib inline\n",
    "import numpy as np\n",
    "import matplotlib.pyplot as plt\n",
    "\n",
    "np.random.seed(1)\n",
    "n = 50\n",
    "x = np.random.randn(n)\n",
    "y = x*np.random.randn(n)\n",
    "\n",
    "colors = np.random.randn(n)\n",
    "plt.plot(np.unique(x), np.poly1d(np.polyfit(x,y,1))(np.unique(x)))\n",
    "\n",
    "plt.scatter(x,y,c=colors, alpha=0.5)\n",
    "plt.show()"
   ]
  },
  {
   "cell_type": "markdown",
   "metadata": {},
   "source": [
    "#### 1.3 Aim of Linear Regression\n",
    "* Minimize the distance between the points and the line ($y=\\alpha x+\\beta$)\n",
    "* Adjusting\n",
    "    * Coefficient: $\\alpha$\n",
    "    * Bias / Intercept: $\\beta$"
   ]
  },
  {
   "cell_type": "markdown",
   "metadata": {},
   "source": [
    "### 2. Building a Linear Regression Model with PyTorch"
   ]
  },
  {
   "cell_type": "markdown",
   "metadata": {
    "collapsed": true
   },
   "source": [
    "#### 2.1 Example\n",
    "* Coefficient: $\\alpha$\n",
    "* Bias / Intercept: $\\beta$\n",
    "* Equation: $y=2x+1$"
   ]
  },
  {
   "cell_type": "markdown",
   "metadata": {},
   "source": [
    "#### 2.2 Building a Toy Dataset"
   ]
  },
  {
   "cell_type": "code",
   "execution_count": 4,
   "metadata": {
    "collapsed": true
   },
   "outputs": [],
   "source": [
    "x_values = [i for i in range(11)]"
   ]
  },
  {
   "cell_type": "code",
   "execution_count": 5,
   "metadata": {
    "collapsed": false
   },
   "outputs": [
    {
     "data": {
      "text/plain": [
       "[0, 1, 2, 3, 4, 5, 6, 7, 8, 9, 10]"
      ]
     },
     "execution_count": 5,
     "metadata": {},
     "output_type": "execute_result"
    }
   ],
   "source": [
    "x_values"
   ]
  },
  {
   "cell_type": "code",
   "execution_count": 6,
   "metadata": {
    "collapsed": false
   },
   "outputs": [
    {
     "data": {
      "text/plain": [
       "(11,)"
      ]
     },
     "execution_count": 6,
     "metadata": {},
     "output_type": "execute_result"
    }
   ],
   "source": [
    "# Convert to numpy\n",
    "x_train = np.array(x_values, dtype=np.float32)\n",
    "x_train.shape"
   ]
  },
  {
   "cell_type": "code",
   "execution_count": 7,
   "metadata": {
    "collapsed": false
   },
   "outputs": [
    {
     "data": {
      "text/plain": [
       "(11, 1)"
      ]
     },
     "execution_count": 7,
     "metadata": {},
     "output_type": "execute_result"
    }
   ],
   "source": [
    "# IMPORTANT - 2D REQUIRED\n",
    "x_train = x_train.reshape(-1, 1)\n",
    "x_train.shape"
   ]
  },
  {
   "cell_type": "markdown",
   "metadata": {},
   "source": [
    "$y=2x+1$"
   ]
  },
  {
   "cell_type": "code",
   "execution_count": 10,
   "metadata": {
    "collapsed": false
   },
   "outputs": [
    {
     "data": {
      "text/plain": [
       "[1, 3, 5, 7, 9, 11, 13, 15, 17, 19, 21]"
      ]
     },
     "execution_count": 10,
     "metadata": {},
     "output_type": "execute_result"
    }
   ],
   "source": [
    "y_values = [2 * i + 1 for i in x_values]   # list comprehensions - cool.\n",
    "y_values"
   ]
  },
  {
   "cell_type": "code",
   "execution_count": 11,
   "metadata": {
    "collapsed": false
   },
   "outputs": [
    {
     "data": {
      "text/plain": [
       "(11, 1)"
      ]
     },
     "execution_count": 11,
     "metadata": {},
     "output_type": "execute_result"
    }
   ],
   "source": [
    "#Note the above was returned as a list, due to the list comp. We need it to be a numpy array, same as x_values\n",
    "y_train = np.array(y_values, dtype=np.float32)\n",
    "y_train = y_train.reshape(-1, 1)\n",
    "y_train.shape"
   ]
  },
  {
   "cell_type": "markdown",
   "metadata": {},
   "source": [
    "#### 2.3 Building the Model"
   ]
  },
  {
   "cell_type": "markdown",
   "metadata": {},
   "source": [
    "#### Critical Imports"
   ]
  },
  {
   "cell_type": "code",
   "execution_count": 13,
   "metadata": {
    "collapsed": false
   },
   "outputs": [],
   "source": [
    "import torch\n",
    "import torch.nn as nn\n",
    "from torch.autograd import Variable"
   ]
  },
  {
   "cell_type": "markdown",
   "metadata": {},
   "source": [
    "#### Create Model\n",
    "\n",
    "1. Linear Model\n",
    "    * True Equation: $y=2x+1$\n",
    "2. Forward\n",
    "    * Example\n",
    "        * Input $x=1$\n",
    "        * Output $\\hat y=?$"
   ]
  },
  {
   "cell_type": "code",
   "execution_count": 18,
   "metadata": {
    "collapsed": true
   },
   "outputs": [],
   "source": [
    "# Create a class for our model, in this case Linear Regression. This is the method we'll use for all models\n",
    "\n",
    "class LinearRegressionModel(nn.Module):  #pass in nn.Module will be how every model is created.\n",
    "    def __init__(self, input_size, output_size):\n",
    "        super(LinearRegressionModel, self).__init__()\n",
    "        self.Linear = nn.Linear(input_dim, output_dim)\n",
    "        \n",
    "    def forward(self, x):        #forward is also a standard function for every model\n",
    "        out = self.Linear(x)\n",
    "        return out"
   ]
  },
  {
   "cell_type": "markdown",
   "metadata": {},
   "source": [
    "#### Instantiate Model Class\n",
    "\n",
    "* input: [0,1,2,3,4,5,6,7,8,9,10]\n",
    "* output: [1,3,5,7,9,11,13,15,17,19,21]"
   ]
  },
  {
   "cell_type": "code",
   "execution_count": 19,
   "metadata": {
    "collapsed": false
   },
   "outputs": [],
   "source": [
    "input_dim = 1\n",
    "output_dim = 1\n",
    "\n",
    "model = LinearRegressionModel(input_dim, output_dim)"
   ]
  },
  {
   "cell_type": "markdown",
   "metadata": {},
   "source": [
    "#### Instantiate Loss Class\n",
    "* MSE Loss: Mean Squared Error\n",
    "* $MSE=\\frac 1n \\sum_{i=0}^n (\\hat y_i -y_i)$\n",
    "* $\\hat y$: prediction\n",
    "* $y$: true value"
   ]
  },
  {
   "cell_type": "code",
   "execution_count": 20,
   "metadata": {
    "collapsed": true
   },
   "outputs": [],
   "source": [
    "criterion = nn.MSELoss()  #\"criterion\" is a commonly used term in PyTorch"
   ]
  },
  {
   "cell_type": "markdown",
   "metadata": {},
   "source": [
    "#### Instantiate Optimizer Class\n",
    "* Simplified Equation\n",
    "    * $\\theta = \\theta - \\eta \\cdot \\nabla_\\theta$\n",
    "        * $\\theta$: Parameters (our variables)\n",
    "        * $\\eta$: Learning Rate\n",
    "        * $\\nabla_\\theta$: Our Parameters' Gradients\n",
    "* Even Simpler Equation\n",
    "    * parameters = parameters - learning rate * parameters' gradients\n",
    "        * parameters: $\\alpha$ and $\\beta$ in $y=\\alpha x + \\beta$\n",
    "        * desired parameters: $\\alpha =2$ and $\\beta = 1$ i.e. $y=2x+1$"
   ]
  },
  {
   "cell_type": "code",
   "execution_count": 22,
   "metadata": {
    "collapsed": true
   },
   "outputs": [],
   "source": [
    "learning_rate = 0.01\n",
    "\n",
    "optimizer = torch.optim.SGD(model.parameters(), lr=learning_rate)"
   ]
  },
  {
   "cell_type": "markdown",
   "metadata": {},
   "source": [
    "#### Train Model\n",
    "* 1 epoch: going through entire x_train data once.\n",
    "    * 100 epochs\n",
    "        * 100x mapping x_train = [0,1,2,3,4,5,6,7,8,9,10]\n",
    "    * Process\n",
    "        1. Convert inputs/labels to variables\n",
    "        - Clear gradient buffets (buffers?)\n",
    "        - Get output given inputs\n",
    "        - Get loss\n",
    "        - Get gradients w.r.t. parameters\n",
    "        - Update parameters using gradients\n",
    "            * parameters = parameters - learning rate * parameters' gradients\n",
    "        - REPEAT"
   ]
  },
  {
   "cell_type": "code",
   "execution_count": 23,
   "metadata": {
    "collapsed": true
   },
   "outputs": [],
   "source": [
    "epochs = 100"
   ]
  },
  {
   "cell_type": "code",
   "execution_count": 24,
   "metadata": {
    "collapsed": false
   },
   "outputs": [
    {
     "name": "stdout",
     "output_type": "stream",
     "text": [
      "epoch 1, loss 265.86517333984375\n",
      "epoch 2, loss 21.690467834472656\n",
      "epoch 3, loss 1.773850917816162\n",
      "epoch 4, loss 0.14926375448703766\n",
      "epoch 5, loss 0.016700292006134987\n",
      "epoch 6, loss 0.005837008822709322\n",
      "epoch 7, loss 0.004900985397398472\n",
      "epoch 8, loss 0.004775174427777529\n",
      "epoch 9, loss 0.00471606245264411\n",
      "epoch 10, loss 0.004662927705794573\n",
      "epoch 11, loss 0.004610832314938307\n",
      "epoch 12, loss 0.004559353459626436\n",
      "epoch 13, loss 0.004508403595536947\n",
      "epoch 14, loss 0.0044580791145563126\n",
      "epoch 15, loss 0.004408308304846287\n",
      "epoch 16, loss 0.00435905484482646\n",
      "epoch 17, loss 0.0043103923089802265\n",
      "epoch 18, loss 0.004262238275259733\n",
      "epoch 19, loss 0.0042146616615355015\n",
      "epoch 20, loss 0.0041675809770822525\n",
      "epoch 21, loss 0.004121062811464071\n",
      "epoch 22, loss 0.004075036849826574\n",
      "epoch 23, loss 0.004029542673379183\n",
      "epoch 24, loss 0.003984521608799696\n",
      "epoch 25, loss 0.003940045367926359\n",
      "epoch 26, loss 0.003896050387993455\n",
      "epoch 27, loss 0.003852531313896179\n",
      "epoch 28, loss 0.003809513757005334\n",
      "epoch 29, loss 0.0037669783923774958\n",
      "epoch 30, loss 0.0037249100860208273\n",
      "epoch 31, loss 0.0036833276972174644\n",
      "epoch 32, loss 0.003642197698354721\n",
      "epoch 33, loss 0.003601506119593978\n",
      "epoch 34, loss 0.0035612948704510927\n",
      "epoch 35, loss 0.003521527163684368\n",
      "epoch 36, loss 0.0034821920562535524\n",
      "epoch 37, loss 0.003443310968577862\n",
      "epoch 38, loss 0.003404878079891205\n",
      "epoch 39, loss 0.003366851946339011\n",
      "epoch 40, loss 0.003329270286485553\n",
      "epoch 41, loss 0.0032920993398875\n",
      "epoch 42, loss 0.0032553309574723244\n",
      "epoch 43, loss 0.003218963975086808\n",
      "epoch 44, loss 0.0031830111984163523\n",
      "epoch 45, loss 0.0031474577262997627\n",
      "epoch 46, loss 0.0031123219523578882\n",
      "epoch 47, loss 0.0030775757040828466\n",
      "epoch 48, loss 0.0030431998893618584\n",
      "epoch 49, loss 0.0030092077795416117\n",
      "epoch 50, loss 0.002975630108267069\n",
      "epoch 51, loss 0.0029423909727483988\n",
      "epoch 52, loss 0.002909527625888586\n",
      "epoch 53, loss 0.0028770514763891697\n",
      "epoch 54, loss 0.002844919916242361\n",
      "epoch 55, loss 0.0028131583239883184\n",
      "epoch 56, loss 0.002781733637675643\n",
      "epoch 57, loss 0.002750672632828355\n",
      "epoch 58, loss 0.002719937125220895\n",
      "epoch 59, loss 0.0026895885821431875\n",
      "epoch 60, loss 0.0026595555245876312\n",
      "epoch 61, loss 0.0026298491284251213\n",
      "epoch 62, loss 0.0026004917453974485\n",
      "epoch 63, loss 0.0025714582297950983\n",
      "epoch 64, loss 0.002542743692174554\n",
      "epoch 65, loss 0.0025143420789390802\n",
      "epoch 66, loss 0.0024862491991370916\n",
      "epoch 67, loss 0.0024584855418652296\n",
      "epoch 68, loss 0.002431022934615612\n",
      "epoch 69, loss 0.002403886988759041\n",
      "epoch 70, loss 0.00237704417668283\n",
      "epoch 71, loss 0.002350497292354703\n",
      "epoch 72, loss 0.002324226312339306\n",
      "epoch 73, loss 0.0022983020171523094\n",
      "epoch 74, loss 0.0022726086899638176\n",
      "epoch 75, loss 0.0022472499404102564\n",
      "epoch 76, loss 0.0022221726831048727\n",
      "epoch 77, loss 0.0021973324473947287\n",
      "epoch 78, loss 0.0021728056017309427\n",
      "epoch 79, loss 0.0021485299803316593\n",
      "epoch 80, loss 0.002124542137607932\n",
      "epoch 81, loss 0.0021008269395679235\n",
      "epoch 82, loss 0.0020773562137037516\n",
      "epoch 83, loss 0.0020541667472571135\n",
      "epoch 84, loss 0.002031217096373439\n",
      "epoch 85, loss 0.002008535899221897\n",
      "epoch 86, loss 0.0019861094187945127\n",
      "epoch 87, loss 0.0019639269448816776\n",
      "epoch 88, loss 0.0019420012831687927\n",
      "epoch 89, loss 0.0019203085685148835\n",
      "epoch 90, loss 0.0018988705705851316\n",
      "epoch 91, loss 0.001877669943496585\n",
      "epoch 92, loss 0.0018566898070275784\n",
      "epoch 93, loss 0.0018359803361818194\n",
      "epoch 94, loss 0.0018154601566493511\n",
      "epoch 95, loss 0.0017951932968571782\n",
      "epoch 96, loss 0.0017751394771039486\n",
      "epoch 97, loss 0.0017553218640387058\n",
      "epoch 98, loss 0.0017357115866616368\n",
      "epoch 99, loss 0.0017163295997306705\n",
      "epoch 100, loss 0.0016971486620604992\n"
     ]
    }
   ],
   "source": [
    "for epoch in range(epochs):\n",
    "    epoch += 1\n",
    "    # Convert numpy array to torch Variable\n",
    "    inputs = Variable(torch.from_numpy(x_train))\n",
    "    labels = Variable(torch.from_numpy(y_train))\n",
    "    \n",
    "    # Clear gradients w.r.t parameters\n",
    "    optimizer.zero_grad()\n",
    "    \n",
    "    # Forward to get output\n",
    "    outputs = model(inputs)\n",
    "    \n",
    "    # Calculate Loss\n",
    "    loss = criterion(outputs, labels)\n",
    "    \n",
    "    # Getting gradients w.r.t. parameters\n",
    "    loss.backward()\n",
    "    \n",
    "    # Updating parametsrs\n",
    "    optimizer.step()\n",
    "    \n",
    "    print('epoch {}, loss {}'.format(epoch, loss.data[0]))"
   ]
  },
  {
   "cell_type": "markdown",
   "metadata": {},
   "source": [
    "#### Compare Data"
   ]
  },
  {
   "cell_type": "code",
   "execution_count": 25,
   "metadata": {
    "collapsed": false
   },
   "outputs": [
    {
     "data": {
      "text/plain": [
       "array([[  1.07663405],\n",
       "       [  3.06559801],\n",
       "       [  5.05456209],\n",
       "       [  7.0435257 ],\n",
       "       [  9.03248978],\n",
       "       [ 11.02145386],\n",
       "       [ 13.01041794],\n",
       "       [ 14.99938202],\n",
       "       [ 16.9883461 ],\n",
       "       [ 18.97730827],\n",
       "       [ 20.96627235]], dtype=float32)"
      ]
     },
     "execution_count": 25,
     "metadata": {},
     "output_type": "execute_result"
    }
   ],
   "source": [
    "# Purely inference\n",
    "predicted = model(Variable(torch.from_numpy(x_train))).data.numpy()\n",
    "predicted"
   ]
  },
  {
   "cell_type": "code",
   "execution_count": 27,
   "metadata": {
    "collapsed": false
   },
   "outputs": [
    {
     "data": {
      "text/plain": [
       "array([[  1.],\n",
       "       [  3.],\n",
       "       [  5.],\n",
       "       [  7.],\n",
       "       [  9.],\n",
       "       [ 11.],\n",
       "       [ 13.],\n",
       "       [ 15.],\n",
       "       [ 17.],\n",
       "       [ 19.],\n",
       "       [ 21.]], dtype=float32)"
      ]
     },
     "execution_count": 27,
     "metadata": {},
     "output_type": "execute_result"
    }
   ],
   "source": [
    "# y = 2x+1\n",
    "y_train"
   ]
  },
  {
   "cell_type": "markdown",
   "metadata": {},
   "source": [
    "#### Plot Graph"
   ]
  },
  {
   "cell_type": "code",
   "execution_count": 29,
   "metadata": {
    "collapsed": false
   },
   "outputs": [
    {
     "data": {
      "image/png": "[encoded data removed]",
      "text/plain": [
       "<matplotlib.figure.Figure at 0x10f705588>"
      ]
     },
     "metadata": {},
     "output_type": "display_data"
    }
   ],
   "source": [
    "# Clear figure\n",
    "plt.clf()\n",
    "\n",
    "# Get Predictions\n",
    "predicted = model(Variable(torch.from_numpy(x_train))).data.numpy()\n",
    "\n",
    "# Plot true data\n",
    "plt.plot(x_train, y_train, 'go', label='True Data', alpha=0.5)\n",
    "\n",
    "# Plot predictions\n",
    "plt.plot(x_train, predicted, '--', label='Predictions', alpha=0.5)\n",
    "\n",
    "# Legend and plot\n",
    "plt.legend(loc='best')\n",
    "plt.show()"
   ]
  },
  {
   "cell_type": "markdown",
   "metadata": {},
   "source": [
    "#### Save the Model"
   ]
  },
  {
   "cell_type": "code",
   "execution_count": 30,
   "metadata": {
    "collapsed": true
   },
   "outputs": [],
   "source": [
    "save_model = False # I don't wish to actually save this particular model, but it's good practice to save the parameters after running a model\n",
    "if save_model:\n",
    "    # Saves only parameters, namely alpha & beta\n",
    "    torch.save(model.state_dict(), 'awesome_model.pkl')    "
   ]
  },
  {
   "cell_type": "markdown",
   "metadata": {},
   "source": [
    "#### Load Previously Saved Model"
   ]
  },
  {
   "cell_type": "code",
   "execution_count": 31,
   "metadata": {
    "collapsed": true
   },
   "outputs": [],
   "source": [
    "load_model = False # See above\n",
    "if load_model:\n",
    "    model.load_state_dict(torch.load('awesome_model.pkl'))"
   ]
  },
  {
   "cell_type": "code",
   "execution_count": null,
   "metadata": {
    "collapsed": true
   },
   "outputs": [],
   "source": []
  }
 ],
 "metadata": {
  "anaconda-cloud": {},
  "kernelspec": {
   "display_name": "Python [py35]",
   "language": "python",
   "name": "Python [py35]"
  },
  "language_info": {
   "codemirror_mode": {
    "name": "ipython",
    "version": 3
   },
   "file_extension": ".py",
   "mimetype": "text/x-python",
   "name": "python",
   "nbconvert_exporter": "python",
   "pygments_lexer": "ipython3",
   "version": "3.6.2"
  }
 },
 "nbformat": 4,
 "nbformat_minor": 2
}
