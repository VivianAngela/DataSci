{
 "cells": [
  {
   "cell_type": "markdown",
   "metadata": {},
   "source": [
    "# 7. Logistic Regression with PyTorc\n",
    "## 1. About Logistic Regression"
   ]
  },
  {
   "cell_type": "markdown",
   "metadata": {},
   "source": [
    "### 1.1 Logistic Regression Basics\n",
    "#### Classification Algorithm\n",
    "* Example: Spam vs. not Spam\n",
    "    * Input: Bunch of Words\n",
    "    * Output: Probability of Spam or Not\n",
    "\n",
    "#### Basic Comparison to Linear Reg.\n",
    "* **Linear Regression**\n",
    "    * Output: numeric value given inputs\n",
    "* **Logistic Regression**\n",
    "    * Output: probability [0,1] given input belonging to class\n",
    "    \n",
    "#### Input / Output Comparison\n",
    "* **Linear Regression: Multiplication**\n",
    "    * Input: [1]\n",
    "        * Output: 2\n",
    "    * Input: [2]\n",
    "        * Output: 4\n",
    "    * Trying to model the relationship $y=2x$\n",
    "* **Logistic Regression: Spam Classifier**\n",
    "    * Input: \"Sign up to get 1 million dollarz tonight!\"\n",
    "        * Output: probability p = 0.8\n",
    "    * Input: \"Receipt for your recent purchase from Amazon\"\n",
    "        * Ouput: probability p = 0.3\n",
    "    * **p: Probability it is spam**"
   ]
  },
  {
   "cell_type": "markdown",
   "metadata": {},
   "source": [
    "### 1.2 Problems with Linear Regression\n",
    "* Example\n",
    "    * Fever\n",
    "    * **Input**: Temperature\n",
    "    * **Output**: fever or no fever\n",
    "* Remember\n",
    "    * **Linear Regression**: minimize error between data points and line."
   ]
  },
  {
   "cell_type": "code",
   "execution_count": 1,
   "metadata": {},
   "outputs": [
    {
     "data": {
      "image/png": "[encoded data removed]",
      "text/plain": [
       "<matplotlib.figure.Figure at 0x1123e7c88>"
      ]
     },
     "metadata": {},
     "output_type": "display_data"
    }
   ],
   "source": [
    "import numpy as np\n",
    "import matplotlib.pyplot as plt\n",
    "\n",
    "x = [1, 5, 10, 10, 25, 50, 70, 75, 100,]\n",
    "y = [0, 0, 0, 0, 0, 1, 1, 1, 1]\n",
    "\n",
    "colors = np.random.rand(len(x))\n",
    "plt.plot(np.unique(x), np.poly1d(np.polyfit(x, y, 1))(np.unique(x)))\n",
    "plt.ylabel('Fever')\n",
    "plt.xlabel('Temperature')\n",
    "\n",
    "plt.scatter(x, y, c=colors, alpha=0.5)\n",
    "plt.show()"
   ]
  },
  {
   "cell_type": "markdown",
   "metadata": {},
   "source": [
    "Not very useful when the output is discrete!"
   ]
  },
  {
   "cell_type": "markdown",
   "metadata": {},
   "source": [
    "#### Linear Regression Problem 1\n",
    "Fever value can go negative (below 0) and positive (above 1)"
   ]
  },
  {
   "cell_type": "code",
   "execution_count": 2,
   "metadata": {},
   "outputs": [
    {
     "data": {
      "image/png": "[encoded data removed]",
      "text/plain": [
       "<matplotlib.figure.Figure at 0x10ed4ff28>"
      ]
     },
     "metadata": {},
     "output_type": "display_data"
    }
   ],
   "source": [
    "x = [1, 5, 10, 10, 25, 50, 70, 75, 300,]\n",
    "y = [0, 0, 0, 0, 0, 1, 1, 1, 1]\n",
    "\n",
    "colors = np.random.rand(len(x))\n",
    "plt.plot(np.unique(x), np.poly1d(np.polyfit(x, y, 1))(np.unique(x)))\n",
    "plt.ylabel('Fever')\n",
    "plt.xlabel('Temperature')\n",
    "\n",
    "plt.scatter(x, y, c=colors, alpha=0.5)\n",
    "plt.show()"
   ]
  },
  {
   "cell_type": "markdown",
   "metadata": {},
   "source": [
    "#### Linear Regression problem 2\n",
    "Fever points not predicted with outliers"
   ]
  },
  {
   "cell_type": "markdown",
   "metadata": {},
   "source": [
    "### 1.3 Logistic Regression In-depth\n",
    "\n",
    "**Predicting Probability**\n",
    "* Linear Regression doesn't work\n",
    "* Instead of predicting direct values: **predict probability**"
   ]
  },
  {
   "cell_type": "markdown",
   "metadata": {},
   "source": [
    "There's an graphic used in the lecture that I won't be able to recreate. Just refer to the lecture on Logistic Regression if you need to see it again. "
   ]
  },
  {
   "cell_type": "markdown",
   "metadata": {},
   "source": [
    "**Logistic Function**\n",
    "* Two-class logistic regression\n",
    "* $y=Ax+b$\n",
    "* $g(y)=Ax+b$\n",
    "* $g(y)=\\frac{1}{1+e^{-y}}=\\frac{1}{1+e^{-(Ax+b)}}$\n",
    "* g(y) = Estimated probability that y=1 given x\n",
    "\n",
    "**Softmax Function** g()\n",
    "* multi-class logistic regression\n",
    "* Generalization of Logistic Function"
   ]
  },
  {
   "cell_type": "markdown",
   "metadata": {},
   "source": [
    "**Cross Entropy Function D()**\n",
    "* $D(S,L) = LlogS-(1-L)log(1-S)$\n",
    "    * If L=0 (label)\n",
    "        * $D(S,0) = -log(1-S)$\n",
    "            * $-log(1-S)$: less positive if $S\\to 0$\n",
    "            * $-log(1-S)$: more positive if $S\\to 1$ (BIGGER LOSS)\n",
    "    * If L=1 (label)\n",
    "        * $D(S,1) = logS$\n",
    "            * $logS$: less negative if $L\\to 1$\n",
    "            * $logS$: more negative if $L\\to 0$ (BIGGER LOSS)"
   ]
  },
  {
   "cell_type": "code",
   "execution_count": 3,
   "metadata": {},
   "outputs": [
    {
     "name": "stdout",
     "output_type": "stream",
     "text": [
      "1.0000050000287824e-05\n",
      "11.51292546497478\n",
      "-1.0000050000287824e-05\n",
      "-11.512925464970229\n"
     ]
    }
   ],
   "source": [
    "# Example of the above cross-entropy function using numbers\n",
    "\n",
    "import math\n",
    "print(-math.log(1-0.00001))\n",
    "print(-math.log(1-0.99999))\n",
    "\n",
    "print(math.log(0.99999))\n",
    "print(math.log(0.00001))"
   ]
  },
  {
   "cell_type": "markdown",
   "metadata": {},
   "source": [
    "**Cross Entropy Loss L**\n",
    "* Goal: Minimizing Cross Entropy Loss\n",
    "* $L = \\frac1N \\sum_i{D(g(Ax+b), L_i)}$"
   ]
  },
  {
   "cell_type": "markdown",
   "metadata": {},
   "source": [
    "## 2. Building a Logistic Regression Model with PyTorch\n",
    "\n",
    "Here he has a graphic illustrating logistic regression with softmax and cross entropy as it would be applied to the MNIST dataset. (Nice, good and familiar)"
   ]
  },
  {
   "cell_type": "markdown",
   "metadata": {},
   "source": [
    "**Steps**\n",
    "* Step 1. Load the dataset\n",
    "* Step 2. Make dataset iterable\n",
    "* Step 3. Create model class\n",
    "* Step 4. Instantiate model class\n",
    "* Step 5. Instantiate loss class\n",
    "* Step 6. Instantiate optimizer class\n",
    "* Step 7. Train the model"
   ]
  },
  {
   "cell_type": "markdown",
   "metadata": {},
   "source": [
    "### Step 1a: Load the MNIST training Dataset"
   ]
  },
  {
   "cell_type": "markdown",
   "metadata": {},
   "source": [
    "**Images from 0 to 9**"
   ]
  },
  {
   "cell_type": "code",
   "execution_count": 5,
   "metadata": {},
   "outputs": [],
   "source": [
    "import torch\n",
    "import torch.nn as nn\n",
    "import torchvision.transforms as transforms\n",
    "import torchvision.datasets as dsets\n",
    "from torch.autograd import Variable"
   ]
  },
  {
   "cell_type": "code",
   "execution_count": 6,
   "metadata": {},
   "outputs": [
    {
     "name": "stdout",
     "output_type": "stream",
     "text": [
      "Downloading http://yann.lecun.com/exdb/mnist/train-images-idx3-ubyte.gz\n",
      "Downloading http://yann.lecun.com/exdb/mnist/train-labels-idx1-ubyte.gz\n",
      "Downloading http://yann.lecun.com/exdb/mnist/t10k-images-idx3-ubyte.gz\n",
      "Downloading http://yann.lecun.com/exdb/mnist/t10k-labels-idx1-ubyte.gz\n",
      "Processing...\n",
      "Done!\n"
     ]
    }
   ],
   "source": [
    "train_dataset = dsets.MNIST(root=\"./data\",\n",
    "                            train=True,\n",
    "                            transform=transforms.ToTensor(), \n",
    "                            download=True)"
   ]
  },
  {
   "cell_type": "code",
   "execution_count": 7,
   "metadata": {},
   "outputs": [
    {
     "data": {
      "text/plain": [
       "60000"
      ]
     },
     "execution_count": 7,
     "metadata": {},
     "output_type": "execute_result"
    }
   ],
   "source": [
    "len(train_dataset)"
   ]
  },
  {
   "cell_type": "code",
   "execution_count": 8,
   "metadata": {},
   "outputs": [
    {
     "data": {
      "text/plain": [
       "(\n",
       " (0 ,.,.) = \n",
       " \n",
       " Columns 0 to 8 \n",
       "    0.0000  0.0000  0.0000  0.0000  0.0000  0.0000  0.0000  0.0000  0.0000\n",
       "   0.0000  0.0000  0.0000  0.0000  0.0000  0.0000  0.0000  0.0000  0.0000\n",
       "   0.0000  0.0000  0.0000  0.0000  0.0000  0.0000  0.0000  0.0000  0.0000\n",
       "   0.0000  0.0000  0.0000  0.0000  0.0000  0.0000  0.0000  0.0000  0.0000\n",
       "   0.0000  0.0000  0.0000  0.0000  0.0000  0.0000  0.0000  0.0000  0.0000\n",
       "   0.0000  0.0000  0.0000  0.0000  0.0000  0.0000  0.0000  0.0000  0.0000\n",
       "   0.0000  0.0000  0.0000  0.0000  0.0000  0.0000  0.0000  0.0000  0.1176\n",
       "   0.0000  0.0000  0.0000  0.0000  0.0000  0.0000  0.0000  0.1922  0.9333\n",
       "   0.0000  0.0000  0.0000  0.0000  0.0000  0.0000  0.0000  0.0706  0.8588\n",
       "   0.0000  0.0000  0.0000  0.0000  0.0000  0.0000  0.0000  0.0000  0.3137\n",
       "   0.0000  0.0000  0.0000  0.0000  0.0000  0.0000  0.0000  0.0000  0.0000\n",
       "   0.0000  0.0000  0.0000  0.0000  0.0000  0.0000  0.0000  0.0000  0.0000\n",
       "   0.0000  0.0000  0.0000  0.0000  0.0000  0.0000  0.0000  0.0000  0.0000\n",
       "   0.0000  0.0000  0.0000  0.0000  0.0000  0.0000  0.0000  0.0000  0.0000\n",
       "   0.0000  0.0000  0.0000  0.0000  0.0000  0.0000  0.0000  0.0000  0.0000\n",
       "   0.0000  0.0000  0.0000  0.0000  0.0000  0.0000  0.0000  0.0000  0.0000\n",
       "   0.0000  0.0000  0.0000  0.0000  0.0000  0.0000  0.0000  0.0000  0.0000\n",
       "   0.0000  0.0000  0.0000  0.0000  0.0000  0.0000  0.0000  0.0000  0.0000\n",
       "   0.0000  0.0000  0.0000  0.0000  0.0000  0.0000  0.0000  0.0000  0.0000\n",
       "   0.0000  0.0000  0.0000  0.0000  0.0000  0.0000  0.0000  0.0000  0.0000\n",
       "   0.0000  0.0000  0.0000  0.0000  0.0000  0.0000  0.0000  0.0000  0.0000\n",
       "   0.0000  0.0000  0.0000  0.0000  0.0000  0.0000  0.0000  0.0000  0.0902\n",
       "   0.0000  0.0000  0.0000  0.0000  0.0000  0.0000  0.0706  0.6706  0.8588\n",
       "   0.0000  0.0000  0.0000  0.0000  0.2157  0.6745  0.8863  0.9922  0.9922\n",
       "   0.0000  0.0000  0.0000  0.0000  0.5333  0.9922  0.9922  0.9922  0.8314\n",
       "   0.0000  0.0000  0.0000  0.0000  0.0000  0.0000  0.0000  0.0000  0.0000\n",
       "   0.0000  0.0000  0.0000  0.0000  0.0000  0.0000  0.0000  0.0000  0.0000\n",
       "   0.0000  0.0000  0.0000  0.0000  0.0000  0.0000  0.0000  0.0000  0.0000\n",
       " \n",
       " Columns 9 to 17 \n",
       "    0.0000  0.0000  0.0000  0.0000  0.0000  0.0000  0.0000  0.0000  0.0000\n",
       "   0.0000  0.0000  0.0000  0.0000  0.0000  0.0000  0.0000  0.0000  0.0000\n",
       "   0.0000  0.0000  0.0000  0.0000  0.0000  0.0000  0.0000  0.0000  0.0000\n",
       "   0.0000  0.0000  0.0000  0.0000  0.0000  0.0000  0.0000  0.0000  0.0000\n",
       "   0.0000  0.0000  0.0000  0.0000  0.0000  0.0000  0.0000  0.0000  0.0000\n",
       "   0.0000  0.0000  0.0000  0.0118  0.0706  0.0706  0.0706  0.4941  0.5333\n",
       "   0.1412  0.3686  0.6039  0.6667  0.9922  0.9922  0.9922  0.9922  0.9922\n",
       "   0.9922  0.9922  0.9922  0.9922  0.9922  0.9922  0.9922  0.9922  0.9843\n",
       "   0.9922  0.9922  0.9922  0.9922  0.9922  0.7765  0.7137  0.9686  0.9451\n",
       "   0.6118  0.4196  0.9922  0.9922  0.8039  0.0431  0.0000  0.1686  0.6039\n",
       "   0.0549  0.0039  0.6039  0.9922  0.3529  0.0000  0.0000  0.0000  0.0000\n",
       "   0.0000  0.0000  0.5451  0.9922  0.7451  0.0078  0.0000  0.0000  0.0000\n",
       "   0.0000  0.0000  0.0431  0.7451  0.9922  0.2745  0.0000  0.0000  0.0000\n",
       "   0.0000  0.0000  0.0000  0.1373  0.9451  0.8824  0.6275  0.4235  0.0039\n",
       "   0.0000  0.0000  0.0000  0.0000  0.3176  0.9412  0.9922  0.9922  0.4667\n",
       "   0.0000  0.0000  0.0000  0.0000  0.0000  0.1765  0.7294  0.9922  0.9922\n",
       "   0.0000  0.0000  0.0000  0.0000  0.0000  0.0000  0.0627  0.3647  0.9882\n",
       "   0.0000  0.0000  0.0000  0.0000  0.0000  0.0000  0.0000  0.0000  0.9765\n",
       "   0.0000  0.0000  0.0000  0.0000  0.0000  0.1804  0.5098  0.7176  0.9922\n",
       "   0.0000  0.0000  0.0000  0.1529  0.5804  0.8980  0.9922  0.9922  0.9922\n",
       "   0.0000  0.0941  0.4471  0.8667  0.9922  0.9922  0.9922  0.9922  0.7882\n",
       "   0.2588  0.8353  0.9922  0.9922  0.9922  0.9922  0.7765  0.3176  0.0078\n",
       "   0.9922  0.9922  0.9922  0.9922  0.7647  0.3137  0.0353  0.0000  0.0000\n",
       "   0.9922  0.9922  0.9569  0.5216  0.0431  0.0000  0.0000  0.0000  0.0000\n",
       "   0.5294  0.5176  0.0627  0.0000  0.0000  0.0000  0.0000  0.0000  0.0000\n",
       "   0.0000  0.0000  0.0000  0.0000  0.0000  0.0000  0.0000  0.0000  0.0000\n",
       "   0.0000  0.0000  0.0000  0.0000  0.0000  0.0000  0.0000  0.0000  0.0000\n",
       "   0.0000  0.0000  0.0000  0.0000  0.0000  0.0000  0.0000  0.0000  0.0000\n",
       " \n",
       " Columns 18 to 26 \n",
       "    0.0000  0.0000  0.0000  0.0000  0.0000  0.0000  0.0000  0.0000  0.0000\n",
       "   0.0000  0.0000  0.0000  0.0000  0.0000  0.0000  0.0000  0.0000  0.0000\n",
       "   0.0000  0.0000  0.0000  0.0000  0.0000  0.0000  0.0000  0.0000  0.0000\n",
       "   0.0000  0.0000  0.0000  0.0000  0.0000  0.0000  0.0000  0.0000  0.0000\n",
       "   0.0000  0.0000  0.0000  0.0000  0.0000  0.0000  0.0000  0.0000  0.0000\n",
       "   0.6863  0.1020  0.6510  1.0000  0.9686  0.4980  0.0000  0.0000  0.0000\n",
       "   0.8824  0.6745  0.9922  0.9490  0.7647  0.2510  0.0000  0.0000  0.0000\n",
       "   0.3647  0.3216  0.3216  0.2196  0.1529  0.0000  0.0000  0.0000  0.0000\n",
       "   0.0000  0.0000  0.0000  0.0000  0.0000  0.0000  0.0000  0.0000  0.0000\n",
       "   0.0000  0.0000  0.0000  0.0000  0.0000  0.0000  0.0000  0.0000  0.0000\n",
       "   0.0000  0.0000  0.0000  0.0000  0.0000  0.0000  0.0000  0.0000  0.0000\n",
       "   0.0000  0.0000  0.0000  0.0000  0.0000  0.0000  0.0000  0.0000  0.0000\n",
       "   0.0000  0.0000  0.0000  0.0000  0.0000  0.0000  0.0000  0.0000  0.0000\n",
       "   0.0000  0.0000  0.0000  0.0000  0.0000  0.0000  0.0000  0.0000  0.0000\n",
       "   0.0980  0.0000  0.0000  0.0000  0.0000  0.0000  0.0000  0.0000  0.0000\n",
       "   0.5882  0.1059  0.0000  0.0000  0.0000  0.0000  0.0000  0.0000  0.0000\n",
       "   0.9922  0.7333  0.0000  0.0000  0.0000  0.0000  0.0000  0.0000  0.0000\n",
       "   0.9922  0.9765  0.2510  0.0000  0.0000  0.0000  0.0000  0.0000  0.0000\n",
       "   0.9922  0.8118  0.0078  0.0000  0.0000  0.0000  0.0000  0.0000  0.0000\n",
       "   0.9804  0.7137  0.0000  0.0000  0.0000  0.0000  0.0000  0.0000  0.0000\n",
       "   0.3059  0.0000  0.0000  0.0000  0.0000  0.0000  0.0000  0.0000  0.0000\n",
       "   0.0000  0.0000  0.0000  0.0000  0.0000  0.0000  0.0000  0.0000  0.0000\n",
       "   0.0000  0.0000  0.0000  0.0000  0.0000  0.0000  0.0000  0.0000  0.0000\n",
       "   0.0000  0.0000  0.0000  0.0000  0.0000  0.0000  0.0000  0.0000  0.0000\n",
       "   0.0000  0.0000  0.0000  0.0000  0.0000  0.0000  0.0000  0.0000  0.0000\n",
       "   0.0000  0.0000  0.0000  0.0000  0.0000  0.0000  0.0000  0.0000  0.0000\n",
       "   0.0000  0.0000  0.0000  0.0000  0.0000  0.0000  0.0000  0.0000  0.0000\n",
       "   0.0000  0.0000  0.0000  0.0000  0.0000  0.0000  0.0000  0.0000  0.0000\n",
       " \n",
       " Columns 27 to 27 \n",
       "    0.0000\n",
       "   0.0000\n",
       "   0.0000\n",
       "   0.0000\n",
       "   0.0000\n",
       "   0.0000\n",
       "   0.0000\n",
       "   0.0000\n",
       "   0.0000\n",
       "   0.0000\n",
       "   0.0000\n",
       "   0.0000\n",
       "   0.0000\n",
       "   0.0000\n",
       "   0.0000\n",
       "   0.0000\n",
       "   0.0000\n",
       "   0.0000\n",
       "   0.0000\n",
       "   0.0000\n",
       "   0.0000\n",
       "   0.0000\n",
       "   0.0000\n",
       "   0.0000\n",
       "   0.0000\n",
       "   0.0000\n",
       "   0.0000\n",
       "   0.0000\n",
       " [torch.FloatTensor of size 1x28x28], 5)"
      ]
     },
     "execution_count": 8,
     "metadata": {},
     "output_type": "execute_result"
    }
   ],
   "source": [
    "train_dataset[0]"
   ]
  },
  {
   "cell_type": "code",
   "execution_count": 10,
   "metadata": {},
   "outputs": [
    {
     "data": {
      "text/plain": [
       "tuple"
      ]
     },
     "execution_count": 10,
     "metadata": {},
     "output_type": "execute_result"
    }
   ],
   "source": [
    "type(train_dataset[0])"
   ]
  },
  {
   "cell_type": "code",
   "execution_count": 11,
   "metadata": {},
   "outputs": [
    {
     "data": {
      "text/plain": [
       "torch.Size([1, 28, 28])"
      ]
     },
     "execution_count": 11,
     "metadata": {},
     "output_type": "execute_result"
    }
   ],
   "source": [
    "#Input Matrix\n",
    "train_dataset[0][0].size()"
   ]
  },
  {
   "cell_type": "code",
   "execution_count": 12,
   "metadata": {},
   "outputs": [
    {
     "data": {
      "text/plain": [
       "5"
      ]
     },
     "execution_count": 12,
     "metadata": {},
     "output_type": "execute_result"
    }
   ],
   "source": [
    "# Label\n",
    "train_dataset[0][1]"
   ]
  },
  {
   "cell_type": "markdown",
   "metadata": {},
   "source": [
    "Basically, the dataset consists of two-tuples where the first element is a tensor of the pixel data (1x28x28) and the second element is the label (i.e. what number is written in the pixel data)"
   ]
  },
  {
   "cell_type": "markdown",
   "metadata": {},
   "source": [
    "**Displaying MNIST**"
   ]
  },
  {
   "cell_type": "code",
   "execution_count": 13,
   "metadata": {
    "collapsed": true
   },
   "outputs": [],
   "source": [
    "%matplotlib inline"
   ]
  },
  {
   "cell_type": "code",
   "execution_count": 14,
   "metadata": {},
   "outputs": [
    {
     "data": {
      "text/plain": [
       "(1, 28, 28)"
      ]
     },
     "execution_count": 14,
     "metadata": {},
     "output_type": "execute_result"
    }
   ],
   "source": [
    "train_dataset[0][0].numpy().shape #invoking the .numpy() method converts the tensor to a numpy array."
   ]
  },
  {
   "cell_type": "code",
   "execution_count": 15,
   "metadata": {
    "collapsed": true
   },
   "outputs": [],
   "source": [
    "show_img = train_dataset[0][0].numpy().reshape(28,28)"
   ]
  },
  {
   "cell_type": "code",
   "execution_count": 16,
   "metadata": {},
   "outputs": [
    {
     "data": {
      "text/plain": [
       "<matplotlib.image.AxesImage at 0x1125116d8>"
      ]
     },
     "execution_count": 16,
     "metadata": {},
     "output_type": "execute_result"
    },
    {
     "data": {
      "image/png": "[encoded data removed]",
      "text/plain": [
       "<matplotlib.figure.Figure at 0x11271c240>"
      ]
     },
     "metadata": {},
     "output_type": "display_data"
    }
   ],
   "source": [
    "plt.imshow(show_img, cmap='gray')"
   ]
  },
  {
   "cell_type": "code",
   "execution_count": 17,
   "metadata": {},
   "outputs": [
    {
     "data": {
      "text/plain": [
       "5"
      ]
     },
     "execution_count": 17,
     "metadata": {},
     "output_type": "execute_result"
    }
   ],
   "source": [
    "# The label for the above image\n",
    "train_dataset[0][1]"
   ]
  },
  {
   "cell_type": "code",
   "execution_count": 18,
   "metadata": {
    "collapsed": true
   },
   "outputs": [],
   "source": [
    "show_img = train_dataset[1][0].numpy().reshape(28,28)"
   ]
  },
  {
   "cell_type": "code",
   "execution_count": 19,
   "metadata": {},
   "outputs": [
    {
     "data": {
      "text/plain": [
       "<matplotlib.image.AxesImage at 0x1125ac2b0>"
      ]
     },
     "execution_count": 19,
     "metadata": {},
     "output_type": "execute_result"
    },
    {
     "data": {
      "image/png": "[encoded data removed]",
      "text/plain": [
       "<matplotlib.figure.Figure at 0x112715860>"
      ]
     },
     "metadata": {},
     "output_type": "display_data"
    }
   ],
   "source": [
    "plt.imshow(show_img, cmap='gray')"
   ]
  },
  {
   "cell_type": "code",
   "execution_count": 20,
   "metadata": {},
   "outputs": [
    {
     "data": {
      "text/plain": [
       "0"
      ]
     },
     "execution_count": 20,
     "metadata": {},
     "output_type": "execute_result"
    }
   ],
   "source": [
    "train_dataset[1][1]"
   ]
  },
  {
   "cell_type": "markdown",
   "metadata": {},
   "source": [
    "### Step 1b: Load the MNIST Test Dataset\n",
    "* Show our algorithm works beyond data we trained on (Generalizes well)\n",
    "* Out-of-sample (prevent overfitting)"
   ]
  },
  {
   "cell_type": "code",
   "execution_count": 21,
   "metadata": {
    "collapsed": true
   },
   "outputs": [],
   "source": [
    "test_dataset = dsets.MNIST(root='./data',\n",
    "                           train=False,\n",
    "                           transform=transforms.ToTensor())"
   ]
  },
  {
   "cell_type": "code",
   "execution_count": 22,
   "metadata": {},
   "outputs": [
    {
     "data": {
      "text/plain": [
       "10000"
      ]
     },
     "execution_count": 22,
     "metadata": {},
     "output_type": "execute_result"
    }
   ],
   "source": [
    "len(test_dataset)"
   ]
  },
  {
   "cell_type": "code",
   "execution_count": 23,
   "metadata": {},
   "outputs": [
    {
     "data": {
      "text/plain": [
       "tuple"
      ]
     },
     "execution_count": 23,
     "metadata": {},
     "output_type": "execute_result"
    }
   ],
   "source": [
    "type(test_dataset[0])"
   ]
  },
  {
   "cell_type": "code",
   "execution_count": 24,
   "metadata": {},
   "outputs": [
    {
     "data": {
      "text/plain": [
       "torch.Size([1, 28, 28])"
      ]
     },
     "execution_count": 24,
     "metadata": {},
     "output_type": "execute_result"
    }
   ],
   "source": [
    "#image matrix\n",
    "test_dataset[0][0].size()"
   ]
  },
  {
   "cell_type": "code",
   "execution_count": 25,
   "metadata": {},
   "outputs": [
    {
     "data": {
      "text/plain": [
       "<matplotlib.image.AxesImage at 0x11f734d30>"
      ]
     },
     "execution_count": 25,
     "metadata": {},
     "output_type": "execute_result"
    },
    {
     "data": {
      "image/png": "[encoded data removed]",
      "text/plain": [
       "<matplotlib.figure.Figure at 0x1124eacc0>"
      ]
     },
     "metadata": {},
     "output_type": "display_data"
    }
   ],
   "source": [
    "show_img = test_dataset[0][0].numpy().reshape(28,28)\n",
    "plt.imshow(show_img, cmap='gray')"
   ]
  },
  {
   "cell_type": "code",
   "execution_count": 26,
   "metadata": {},
   "outputs": [
    {
     "data": {
      "text/plain": [
       "7"
      ]
     },
     "execution_count": 26,
     "metadata": {},
     "output_type": "execute_result"
    }
   ],
   "source": [
    "# Label\n",
    "test_dataset[0][1]"
   ]
  },
  {
   "cell_type": "markdown",
   "metadata": {},
   "source": [
    "### Step 2: Make Dataset Iterable\n",
    "\n",
    "* Aim: make dataset iterable\n",
    "* **Total Data:** 60,000 \n",
    "* **mini-batch:** 100\n",
    "    * Number of examples in 1 iteration\n",
    "* **iterations:** 3000\n",
    "    * 1 iteration: 1 mini-batch forward and backward pass\n",
    "* **epochs**\n",
    "    * 1 epoch: running through the whole dataset once\n",
    "    * $epochs=iterations \\div \\frac{totaldata}{mini-batch} = 3000 \\div {60000\\over 100} = 5$"
   ]
  },
  {
   "cell_type": "code",
   "execution_count": 27,
   "metadata": {},
   "outputs": [
    {
     "data": {
      "text/plain": [
       "60000"
      ]
     },
     "execution_count": 27,
     "metadata": {},
     "output_type": "execute_result"
    }
   ],
   "source": [
    "len(train_dataset)"
   ]
  },
  {
   "cell_type": "code",
   "execution_count": 28,
   "metadata": {
    "collapsed": true
   },
   "outputs": [],
   "source": [
    "batch_size = 100"
   ]
  },
  {
   "cell_type": "code",
   "execution_count": 29,
   "metadata": {
    "collapsed": true
   },
   "outputs": [],
   "source": [
    "n_iters = 3000"
   ]
  },
  {
   "cell_type": "code",
   "execution_count": 32,
   "metadata": {},
   "outputs": [
    {
     "data": {
      "text/plain": [
       "5"
      ]
     },
     "execution_count": 32,
     "metadata": {},
     "output_type": "execute_result"
    }
   ],
   "source": [
    "num_epochs = int(n_iters / (len(train_dataset) / batch_size))\n",
    "num_epochs"
   ]
  },
  {
   "cell_type": "markdown",
   "metadata": {},
   "source": [
    "** Create Iterable Object: Training Dataset **"
   ]
  },
  {
   "cell_type": "code",
   "execution_count": 33,
   "metadata": {
    "collapsed": true
   },
   "outputs": [],
   "source": [
    "train_loader = torch.utils.data.DataLoader(dataset=train_dataset,\n",
    "                                           batch_size=batch_size,\n",
    "                                           shuffle=True)"
   ]
  },
  {
   "cell_type": "markdown",
   "metadata": {},
   "source": [
    "**Check Iterability**"
   ]
  },
  {
   "cell_type": "code",
   "execution_count": 34,
   "metadata": {},
   "outputs": [
    {
     "data": {
      "text/plain": [
       "True"
      ]
     },
     "execution_count": 34,
     "metadata": {},
     "output_type": "execute_result"
    }
   ],
   "source": [
    "import collections                       # collections is a way to check that our loader is iterable\n",
    "isinstance(train_loader, collections.Iterable) #Could I use this to check whterh my generator is iterable in fast.ai?"
   ]
  },
  {
   "cell_type": "markdown",
   "metadata": {},
   "source": [
    "**Create Iterable Object: Test Dataset**"
   ]
  },
  {
   "cell_type": "code",
   "execution_count": 35,
   "metadata": {
    "collapsed": true
   },
   "outputs": [],
   "source": [
    "test_loader = torch.utils.data.DataLoader(dataset=test_dataset,\n",
    "                                          batch_size=batch_size,\n",
    "                                          shuffle=False)"
   ]
  },
  {
   "cell_type": "markdown",
   "metadata": {},
   "source": [
    "**Check Iterability**"
   ]
  },
  {
   "cell_type": "code",
   "execution_count": 36,
   "metadata": {},
   "outputs": [
    {
     "data": {
      "text/plain": [
       "True"
      ]
     },
     "execution_count": 36,
     "metadata": {},
     "output_type": "execute_result"
    }
   ],
   "source": [
    "isinstance(test_loader, collections.Iterable)"
   ]
  },
  {
   "cell_type": "markdown",
   "metadata": {},
   "source": [
    "**Main Aim: Iterate Through Dataset**"
   ]
  },
  {
   "cell_type": "code",
   "execution_count": 37,
   "metadata": {
    "collapsed": true
   },
   "outputs": [],
   "source": [
    "img_1 = np.ones((28,28))\n",
    "img_2 = np.ones((28,28))\n",
    "lst = [img_1, img_2]"
   ]
  },
  {
   "cell_type": "code",
   "execution_count": 38,
   "metadata": {},
   "outputs": [
    {
     "name": "stdout",
     "output_type": "stream",
     "text": [
      "(28, 28)\n",
      "(28, 28)\n"
     ]
    }
   ],
   "source": [
    "# For example the below is what we're trying to do in a nutshell\n",
    "# Think of the numbers as images\n",
    "for _ in lst:\n",
    "    print(_.shape)"
   ]
  },
  {
   "cell_type": "markdown",
   "metadata": {},
   "source": [
    "### Step 3: Building the Model"
   ]
  },
  {
   "cell_type": "code",
   "execution_count": 39,
   "metadata": {
    "collapsed": true
   },
   "outputs": [],
   "source": [
    "# Exactly the same as Linear Regression! \n",
    "\n",
    "class LogisticRegressionModel(nn.Module):\n",
    "    def __init__(self, input_dim, output_dim):\n",
    "        super(LogisticRegressionModel, self,).__init__()\n",
    "        self.linear = nn.Linear(input_dim, output_dim)\n",
    "    \n",
    "    def forward(self, x):\n",
    "        out = self.linear(x)\n",
    "        return output_dim                \n",
    "# Notice that in model creation we always have just two parts, the init part and the forward part."
   ]
  },
  {
   "cell_type": "markdown",
   "metadata": {},
   "source": [
    "### Step 4: Instantiate Model Class\n",
    "\n",
    "* Input Dimension:\n",
    "    * Size of image\n",
    "    * 28 x 28 = 784\n",
    "* Output Dimension: 10\n",
    "    * 0, 1, 2, 3, 4, 5, 6, 7, 8, 9"
   ]
  },
  {
   "cell_type": "code",
   "execution_count": 40,
   "metadata": {},
   "outputs": [
    {
     "data": {
      "text/plain": [
       "torch.Size([1, 28, 28])"
      ]
     },
     "execution_count": 40,
     "metadata": {},
     "output_type": "execute_result"
    }
   ],
   "source": [
    "# Size of Images\n",
    "train_dataset[0][0].size()"
   ]
  },
  {
   "cell_type": "code",
   "execution_count": 41,
   "metadata": {
    "collapsed": true
   },
   "outputs": [],
   "source": [
    "input_dim = 28*28\n",
    "output_dim = 10\n",
    "model = LogisticRegressionModel(input_dim, output_dim)"
   ]
  },
  {
   "cell_type": "markdown",
   "metadata": {},
   "source": [
    "### Step 5: Instantiate Loss Class\n",
    "\n",
    "* **Logistic Regression:** Cross Entropy Loss\n",
    "    * _Linear Regression: MSE_"
   ]
  },
  {
   "cell_type": "code",
   "execution_count": 42,
   "metadata": {
    "collapsed": true
   },
   "outputs": [],
   "source": [
    "criterion = nn.CrossEntropyLoss()"
   ]
  },
  {
   "cell_type": "markdown",
   "metadata": {},
   "source": [
    "**What Happens in `nn.CrossEntropyLoss()`?**\n",
    "\n",
    "* Computes softmax (logistic / softmax function)\n",
    "* Computes cross entropy\n",
    "\n",
    "** Back to the image of logistic regression with the columns of logits, softmax, cross entropy **"
   ]
  },
  {
   "cell_type": "markdown",
   "metadata": {},
   "source": [
    "### Step 6: Instantiate Optimizer Class \n",
    "\n",
    "* Simplified Equation\n",
    "    * $\\theta = \\theta - \\eta \\cdot \\nabla_\\theta$\n",
    "        * $\\theta$: Parameters (our variables)\n",
    "        * $\\eta$: Learning Rate\n",
    "        * $\\nabla_\\theta$: Our Parameters' Gradients\n",
    "* Even Simpler Equation\n",
    "    * parameters = parameters - learning rate * parameters' gradients\n",
    "    * **At every iteration, we update our model's parameters**"
   ]
  },
  {
   "cell_type": "code",
   "execution_count": 43,
   "metadata": {
    "collapsed": true
   },
   "outputs": [],
   "source": [
    "learning_rate = 0.001\n",
    "\n",
    "optimizer = torch.optim.SGD(model.parameters(), lr=learning_rate)"
   ]
  },
  {
   "cell_type": "markdown",
   "metadata": {},
   "source": [
    "### Parameters In-Depth"
   ]
  },
  {
   "cell_type": "code",
   "execution_count": 45,
   "metadata": {},
   "outputs": [
    {
     "name": "stdout",
     "output_type": "stream",
     "text": [
      "<generator object Module.parameters at 0x12f430410>\n",
      "2\n",
      "torch.Size([10, 784])\n",
      "torch.Size([10])\n"
     ]
    }
   ],
   "source": [
    "#Access the model parameters\n",
    "print(model.parameters())\n",
    "print(len(list(model.parameters())))\n",
    "\n",
    "#FC 1 Parameters\n",
    "print(list(model.parameters())[0].size())\n",
    "\n",
    "#FC 1 Bias Parameters\n",
    "print(list(model.parameters())[1].size())"
   ]
  },
  {
   "cell_type": "markdown",
   "metadata": {},
   "source": [
    "** Quick Dot Product Review **\n",
    "* Example 1: **dot product**\n",
    "    * $A: (100,10)$\n",
    "    * $B: (10,1)$\n",
    "    * $A\\cdot B = (100,10)\\cdot (10,1) = (100,1)$\n",
    "* Example 2: **dot product**\n",
    "    * $A: (50, 5)$\n",
    "    * $B: (5,2)$\n",
    "    * $A \\cdot B = (50,5)\\cdot (5,2) = (5,2)$\n",
    "* Example 3: **element-wise addition**\n",
    "    * $A: (10,1)$\n",
    "    * $B: (10,1)$\n",
    "    * $A+B = (10,1)$"
   ]
  },
  {
   "cell_type": "markdown",
   "metadata": {},
   "source": [
    "So, all those times running through the MNIST dataset, it's really just matrix multiplication. Yes, that's what has been said many times, but it's all about making sure your parameter matrix shape and your input variable shape agree to produce a dot product shape that agrees with the output size you're looking for. For example, in this run through MNIST, we flatten the input matrix to 784 rows by 1 columns (28 pixels x 28 pixels). This model performs a linear regression on the data (i.e. Ax+b). The A parameter must then be of shape (10, 784) and our b parameter must be of shape (10, 1). (10, 1) makes sense since we're trying to predict whether the image is one of the ten decimal digits. "
   ]
  },
  {
   "cell_type": "markdown",
   "metadata": {},
   "source": [
    "### Step 7: Train the model\n",
    "* Process\n",
    "    1. Convert inputs/labels to variables\n",
    "    - Clear gradient buffers\n",
    "    - Get outputs given inputs\n",
    "    - Get Loss\n",
    "    - Get gradients w.r.t. parameters\n",
    "    - Update parameters using gradients\n",
    "        * parameters = parameters - learning_rate * parameters_gradients\n",
    "    - REPEAT"
   ]
  },
  {
   "cell_type": "code",
   "execution_count": 58,
   "metadata": {},
   "outputs": [
    {
     "name": "stdout",
     "output_type": "stream",
     "text": [
      "Iteration: 500. Loss: 0.7010787129402161. Accuracy: 83.82\n",
      "Iteration: 1000. Loss: 0.8768433928489685. Accuracy: 84.29\n",
      "Iteration: 1500. Loss: 0.8013149499893188. Accuracy: 84.73\n",
      "Iteration: 2000. Loss: 0.8485907912254333. Accuracy: 85.04\n",
      "Iteration: 2500. Loss: 0.8088686466217041. Accuracy: 85.37\n",
      "Iteration: 3000. Loss: 0.774989902973175. Accuracy: 85.66\n"
     ]
    }
   ],
   "source": [
    "iter = 0\n",
    "for epoch in range(num_epochs):\n",
    "    for i, (images, labels) in enumerate(train_loader):\n",
    "        # Load images as Variable\n",
    "        images = Variable(images.view(-1,28*28))\n",
    "        labels = Variable(labels)\n",
    "        \n",
    "        #Clear gradients w.r.t. parameters\n",
    "        optimizer.zero_grad()\n",
    "        \n",
    "        #Forward pass to get outputs / logits\n",
    "        outputs = model(images)\n",
    "        \n",
    "        #Calculate Loss: softmax --> Cross Entropy Loss\n",
    "        loss = criterion(outputs, labels)\n",
    "        \n",
    "        #Get gradients w.r.t. parameters\n",
    "        loss.backward()\n",
    "        \n",
    "        #Update parameters\n",
    "        optimizer.step()\n",
    "        \n",
    "        iter += 1\n",
    "        if iter % 500 == 0:\n",
    "            # Calculate Accuracy\n",
    "            correct = 0 \n",
    "            total = 0\n",
    "            #Iterate through the test dataset\n",
    "            for images, labels in test_loader:\n",
    "                # Load images to Torch Variable\n",
    "                images = Variable(images.view(-1,28*28))\n",
    "                \n",
    "                # Forward pass only to get outputs/logits\n",
    "                outputs = model(images)\n",
    "                \n",
    "                # Get predictions from the maximum value\n",
    "                _, predicted = torch.max(outputs.data, 1)\n",
    "                \n",
    "                # Total number of labels\n",
    "                total += labels.size(0)\n",
    "                \n",
    "                # Total correct predictions\n",
    "                correct += (predicted == labels).sum()\n",
    "                \n",
    "            accuracy = 100 * correct / total\n",
    "            \n",
    "            # Print Loss\n",
    "            print('Iteration: {}. Loss: {}. Accuracy: {}'.format(iter, loss.data[0], accuracy))"
   ]
  },
  {
   "cell_type": "markdown",
   "metadata": {},
   "source": [
    "**Break Down Accuracy Calculation**"
   ]
  },
  {
   "cell_type": "code",
   "execution_count": 50,
   "metadata": {},
   "outputs": [
    {
     "name": "stdout",
     "output_type": "stream",
     "text": [
      "OUTPUTS\n",
      "Variable containing:\n",
      "-0.3340 -1.3567 -0.3772  ...   2.9906 -0.3085  0.9550\n",
      " 0.2736 -0.0767  1.6565  ...  -2.1192  0.4702 -1.7061\n",
      "-1.0247  2.3491  0.1740  ...  -0.2201  0.1167 -0.3475\n",
      "          ...             ⋱             ...          \n",
      "-1.9864  1.3753 -0.9592  ...   0.6558  0.2507  0.6031\n",
      " 0.8500 -1.4949  0.9357  ...  -1.2393 -0.0528 -0.7405\n",
      "-1.5771 -1.7466 -0.2801  ...   0.7490 -0.0490  2.0335\n",
      "[torch.FloatTensor of size 100x10]\n",
      "\n"
     ]
    }
   ],
   "source": [
    "iter_test = 0\n",
    "for images, labels in test_loader:\n",
    "    iter_test += 1\n",
    "    images = Variable(images.view(-1,28*28))\n",
    "    outputs = model(images)\n",
    "    if iter_test == 1:\n",
    "        print('OUTPUTS')\n",
    "        print(outputs)\n",
    "    _,predicted = torch.max(outputs.data, 1)"
   ]
  },
  {
   "cell_type": "code",
   "execution_count": 51,
   "metadata": {},
   "outputs": [
    {
     "name": "stdout",
     "output_type": "stream",
     "text": [
      "OUTPUTS\n",
      "torch.Size([100, 10])\n"
     ]
    }
   ],
   "source": [
    "iter_test = 0\n",
    "for images, labels in test_loader:\n",
    "    iter_test += 1\n",
    "    images = Variable(images.view(-1,28*28))\n",
    "    outputs = model(images)\n",
    "    if iter_test == 1:\n",
    "        print('OUTPUTS')\n",
    "        print(outputs.size())\n",
    "    _,predicted = torch.max(outputs.data, 1)"
   ]
  },
  {
   "cell_type": "code",
   "execution_count": 52,
   "metadata": {},
   "outputs": [
    {
     "name": "stdout",
     "output_type": "stream",
     "text": [
      "OUTPUTS\n",
      "Variable containing:\n",
      "-0.3340\n",
      "-1.3567\n",
      "-0.3772\n",
      "-0.2203\n",
      " 0.1277\n",
      "-0.4776\n",
      "-1.2646\n",
      " 2.9906\n",
      "-0.3085\n",
      " 0.9550\n",
      "[torch.FloatTensor of size 10]\n",
      "\n"
     ]
    }
   ],
   "source": [
    "iter_test = 0\n",
    "for images, labels in test_loader:\n",
    "    iter_test += 1\n",
    "    images = Variable(images.view(-1,28*28))\n",
    "    outputs = model(images)\n",
    "    if iter_test == 1:\n",
    "        print('OUTPUTS')\n",
    "        print(outputs[0,:])\n",
    "    _,predicted = torch.max(outputs.data, 1)"
   ]
  },
  {
   "cell_type": "code",
   "execution_count": 53,
   "metadata": {},
   "outputs": [
    {
     "name": "stdout",
     "output_type": "stream",
     "text": [
      "PREDICTION:\n",
      "torch.Size([100])\n"
     ]
    }
   ],
   "source": [
    "iter_test = 0\n",
    "for images, labels in test_loader:\n",
    "    iter_test += 1\n",
    "    images = Variable(images.view(-1,28*28))\n",
    "    outputs = model(images)\n",
    "    _,predicted = torch.max(outputs.data, 1)\n",
    "    if iter_test == 1:\n",
    "        print('PREDICTION:')\n",
    "        print(predicted.size())"
   ]
  },
  {
   "cell_type": "code",
   "execution_count": 55,
   "metadata": {},
   "outputs": [
    {
     "name": "stdout",
     "output_type": "stream",
     "text": [
      "PREDICTION:\n",
      "7\n"
     ]
    }
   ],
   "source": [
    "iter_test = 0\n",
    "for images, labels in test_loader:\n",
    "    iter_test += 1\n",
    "    images = Variable(images.view(-1,28*28))\n",
    "    outputs = model(images)\n",
    "    _,predicted = torch.max(outputs.data, 1)\n",
    "    if iter_test == 1:\n",
    "        print('PREDICTION:')\n",
    "        print(predicted[0])"
   ]
  },
  {
   "cell_type": "markdown",
   "metadata": {},
   "source": [
    "The above works, but for some reason my predicted tensor is of shape [100], not shape (100, 1) like the instructor. I wonder if this is something that changed in a newer release of PyTorch? Either way, the first indexed value in my predictions matches what the instructor got."
   ]
  },
  {
   "cell_type": "code",
   "execution_count": 56,
   "metadata": {},
   "outputs": [
    {
     "name": "stdout",
     "output_type": "stream",
     "text": [
      "PREDICTION:\n",
      "7\n",
      "LABELS SIZE:\n",
      "torch.Size([100])\n",
      "LABEL FOR IMAGE 0\n",
      "7\n"
     ]
    }
   ],
   "source": [
    "iter_test = 0\n",
    "for images, labels in test_loader:\n",
    "    iter_test += 1\n",
    "    images = Variable(images.view(-1,28*28))\n",
    "    outputs = model(images)\n",
    "    _,predicted = torch.max(outputs.data, 1)\n",
    "    if iter_test == 1:\n",
    "        print('PREDICTION:')\n",
    "        print(predicted[0])\n",
    "        \n",
    "        print('LABELS SIZE:')\n",
    "        print(labels.size())\n",
    "        \n",
    "        print('LABEL FOR IMAGE 0')\n",
    "        print(labels[0])"
   ]
  },
  {
   "cell_type": "markdown",
   "metadata": {},
   "source": [
    "Instructor then goes into an explanation of calculating accuracy. This is familiar to me, so I'm not going to reproduce that explanation here. Compare labels to predictions, find mismatches, divide by total labels, multiply by 100 and you get percent accurate. "
   ]
  },
  {
   "cell_type": "markdown",
   "metadata": {},
   "source": [
    "Last thing ** Saving the Model**"
   ]
  },
  {
   "cell_type": "code",
   "execution_count": 57,
   "metadata": {
    "collapsed": true
   },
   "outputs": [],
   "source": [
    "save_model = False\n",
    "if save_model: \n",
    "    #Saves only parameters\n",
    "    torch.save(model.state_dict(), 'awesome_model.pkl')"
   ]
  },
  {
   "cell_type": "markdown",
   "metadata": {},
   "source": [
    "Next up is moving this code over to the GPU to take advantage of the speedup"
   ]
  },
  {
   "cell_type": "code",
   "execution_count": null,
   "metadata": {
    "collapsed": true
   },
   "outputs": [],
   "source": []
  }
 ],
 "metadata": {
  "kernelspec": {
   "display_name": "Python [conda env:py35]",
   "language": "python",
   "name": "conda-env-py35-py"
  },
  "language_info": {
   "codemirror_mode": {
    "name": "ipython",
    "version": 3
   },
   "file_extension": ".py",
   "mimetype": "text/x-python",
   "name": "python",
   "nbconvert_exporter": "python",
   "pygments_lexer": "ipython3",
   "version": "3.6.2"
  }
 },
 "nbformat": 4,
 "nbformat_minor": 2
}
