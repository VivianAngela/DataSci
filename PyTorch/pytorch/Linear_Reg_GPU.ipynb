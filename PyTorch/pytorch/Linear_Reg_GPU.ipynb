{
 "cells": [
  {
   "cell_type": "markdown",
   "metadata": {},
   "source": [
    "## 3. Building a Linear Regression Model With PyTorch (GPU)"
   ]
  },
  {
   "cell_type": "markdown",
   "metadata": {},
   "source": [
    "#### CPU Summary"
   ]
  },
  {
   "cell_type": "code",
   "execution_count": 1,
   "metadata": {
    "collapsed": true
   },
   "outputs": [],
   "source": [
    "# See all the code from the Linear Regression notebook"
   ]
  },
  {
   "cell_type": "markdown",
   "metadata": {},
   "source": [
    "GPU: Only 2 things need to \"live\" on the GPU to use torch on GPU\n",
    "* model\n",
    "* variables"
   ]
  },
  {
   "cell_type": "code",
   "execution_count": 3,
   "metadata": {
    "collapsed": false
   },
   "outputs": [],
   "source": [
    "import torch\n",
    "import torch.nn as nn\n",
    "from torch.autograd import Variable\n",
    "import numpy as np\n",
    "\n",
    "# Bringing over the dataset from the CPU linear regression notebook\n",
    "x_values = [i for i in range(11)]\n",
    "x_train = np.array(x_values, dtype=np.float32)\n",
    "# IMPORTANT - 2D REQUIRED\n",
    "x_train = x_train.reshape(-1, 1)\n",
    "\n",
    "y_values = [2 * i + 1 for i in x_values] \n",
    "y_train = np.array(y_values, dtype=np.float32)\n",
    "y_train = y_train.reshape(-1, 1)"
   ]
  },
  {
   "cell_type": "code",
   "execution_count": 4,
   "metadata": {
    "collapsed": false
   },
   "outputs": [
    {
     "name": "stdout",
     "output_type": "stream",
     "text": [
      "epoch 1, loss 141.50221252441406\n",
      "epoch 2, loss 11.54433822631836\n",
      "epoch 3, loss 0.944058358669281\n",
      "epoch 4, loss 0.079399473965168\n",
      "epoch 5, loss 0.008845091797411442\n",
      "epoch 6, loss 0.0030638494063168764\n",
      "epoch 7, loss 0.0025661219842731953\n",
      "epoch 8, loss 0.002499647904187441\n",
      "epoch 9, loss 0.0024686427786946297\n",
      "epoch 10, loss 0.002440846525132656\n",
      "epoch 11, loss 0.0024135655257850885\n",
      "epoch 12, loss 0.0023866132833063602\n",
      "epoch 13, loss 0.0023599753621965647\n",
      "epoch 14, loss 0.002333606593310833\n",
      "epoch 15, loss 0.0023075712379068136\n",
      "epoch 16, loss 0.002281768713146448\n",
      "epoch 17, loss 0.0022563005331903696\n",
      "epoch 18, loss 0.0022311233915388584\n",
      "epoch 19, loss 0.002206201199442148\n",
      "epoch 20, loss 0.0021815570071339607\n",
      "epoch 21, loss 0.0021571775432676077\n",
      "epoch 22, loss 0.002133081667125225\n",
      "epoch 23, loss 0.0021092963870614767\n",
      "epoch 24, loss 0.0020857302006334066\n",
      "epoch 25, loss 0.002062438288703561\n",
      "epoch 26, loss 0.002039398765191436\n",
      "epoch 27, loss 0.0020166300237178802\n",
      "epoch 28, loss 0.001994119491428137\n",
      "epoch 29, loss 0.0019718424882739782\n",
      "epoch 30, loss 0.00194983568508178\n",
      "epoch 31, loss 0.0019280564738437533\n",
      "epoch 32, loss 0.0019065351225435734\n",
      "epoch 33, loss 0.0018852314678952098\n",
      "epoch 34, loss 0.0018641899805516005\n",
      "epoch 35, loss 0.0018433687509968877\n",
      "epoch 36, loss 0.001822787569835782\n",
      "epoch 37, loss 0.001802421291358769\n",
      "epoch 38, loss 0.0017822954105213284\n",
      "epoch 39, loss 0.0017624021274968982\n",
      "epoch 40, loss 0.001742726075462997\n",
      "epoch 41, loss 0.0017232579411938787\n",
      "epoch 42, loss 0.0017040162347257137\n",
      "epoch 43, loss 0.0016849986277520657\n",
      "epoch 44, loss 0.001666167750954628\n",
      "epoch 45, loss 0.0016475614393129945\n",
      "epoch 46, loss 0.0016291701467707753\n",
      "epoch 47, loss 0.0016109771095216274\n",
      "epoch 48, loss 0.0015929739456623793\n",
      "epoch 49, loss 0.0015751876635476947\n",
      "epoch 50, loss 0.0015575909055769444\n",
      "epoch 51, loss 0.0015402131248265505\n",
      "epoch 52, loss 0.0015230254502967\n",
      "epoch 53, loss 0.001505998196080327\n",
      "epoch 54, loss 0.0014891790924593806\n",
      "epoch 55, loss 0.001472549862228334\n",
      "epoch 56, loss 0.0014561167918145657\n",
      "epoch 57, loss 0.0014398426283150911\n",
      "epoch 58, loss 0.0014237798750400543\n",
      "epoch 59, loss 0.0014078725362196565\n",
      "epoch 60, loss 0.00139215390663594\n",
      "epoch 61, loss 0.001376610598526895\n",
      "epoch 62, loss 0.0013612271286547184\n",
      "epoch 63, loss 0.001346033881418407\n",
      "epoch 64, loss 0.0013310112990438938\n",
      "epoch 65, loss 0.0013161322567611933\n",
      "epoch 66, loss 0.001301434705965221\n",
      "epoch 67, loss 0.0012868918711319566\n",
      "epoch 68, loss 0.0012725242413580418\n",
      "epoch 69, loss 0.0012583256466314197\n",
      "epoch 70, loss 0.0012442644219845533\n",
      "epoch 71, loss 0.001230378169566393\n",
      "epoch 72, loss 0.0012166266096755862\n",
      "epoch 73, loss 0.0012030488578602672\n",
      "epoch 74, loss 0.0011896031210198998\n",
      "epoch 75, loss 0.0011763365473598242\n",
      "epoch 76, loss 0.0011631931411102414\n",
      "epoch 77, loss 0.0011502002598717809\n",
      "epoch 78, loss 0.0011373586021363735\n",
      "epoch 79, loss 0.0011246561771258712\n",
      "epoch 80, loss 0.0011120993876829743\n",
      "epoch 81, loss 0.0010996778728440404\n",
      "epoch 82, loss 0.0010873934952542186\n",
      "epoch 83, loss 0.0010752520756796002\n",
      "epoch 84, loss 0.0010632398771122098\n",
      "epoch 85, loss 0.0010513832094147801\n",
      "epoch 86, loss 0.0010396442376077175\n",
      "epoch 87, loss 0.0010280342539772391\n",
      "epoch 88, loss 0.001016555237583816\n",
      "epoch 89, loss 0.0010051962453871965\n",
      "epoch 90, loss 0.0009939746232703328\n",
      "epoch 91, loss 0.0009828630136325955\n",
      "epoch 92, loss 0.0009718966321088374\n",
      "epoch 93, loss 0.0009610375273041427\n",
      "epoch 94, loss 0.000950320390984416\n",
      "epoch 95, loss 0.0009396930690854788\n",
      "epoch 96, loss 0.0009291999158449471\n",
      "epoch 97, loss 0.000918832840397954\n",
      "epoch 98, loss 0.0009085671626962721\n",
      "epoch 99, loss 0.0008984386804513633\n",
      "epoch 100, loss 0.0008883916307240725\n"
     ]
    }
   ],
   "source": [
    "\n",
    "\n",
    "'''\n",
    "STEP 1: Create Model Class\n",
    "'''\n",
    "\n",
    "class LinearRegressionModel(nn.Module):\n",
    "    def __init__(self, input_size, output_size):\n",
    "        super(LinearRegressionModel, self).__init__()\n",
    "        self.linear = nn.Linear(input_dim, output_dim)\n",
    "        \n",
    "    def forward(self, x):\n",
    "        out = self.linear(x)\n",
    "        return out\n",
    "'''\n",
    "STEP 2: Instantiate Model Class\n",
    "'''\n",
    "input_dim = 1\n",
    "output_dim = 1\n",
    "\n",
    "model = LinearRegressionModel(input_dim, output_dim)\n",
    "\n",
    "######################\n",
    "# Code for using GPU #\n",
    "######################\n",
    "\n",
    "if torch.cuda.is_available():\n",
    "    model.cuda()\n",
    "\n",
    "'''\n",
    "STEPs 3: Instantiate Loss Class\n",
    "'''    \n",
    "\n",
    "criterion = nn.MSELoss()\n",
    "\n",
    "'''\n",
    "STEP 4: Instantiate Optimizer Class\n",
    "'''\n",
    "\n",
    "learning_rate = 0.01\n",
    "optimizer = torch.optim.SGD(model.parameters(), lr=learning_rate)\n",
    "\n",
    "'''\n",
    "STEP 5: Train the Model\n",
    "'''\n",
    "\n",
    "epochs = 100\n",
    "for epoch in range(epochs):\n",
    "    epoch += 1\n",
    "    \n",
    "    # Convert numpy array to torch variable\n",
    "    \n",
    "    #####################\n",
    "    # Use GPU for Model #\n",
    "    #####################\n",
    "    if torch.cuda.is_available():     #General good practice to use a conditional statement when sending stuff to GPU\n",
    "        inputs = Variable(torch.from_numpy(x_train).cuda())\n",
    "        labels = Variable(torch.from_numpy(y_train).cuda())\n",
    "    else:\n",
    "        inputs = Variable(torch.from_numpy(x_train))\n",
    "        labels = Variable(torch.from_numpy(y_train))\n",
    "    # Clear gradients w.r.t parameters\n",
    "    optimizer.zero_grad()\n",
    "    \n",
    "    # Forward to get output\n",
    "    outputs = model(inputs)\n",
    "    \n",
    "    # Calculate Loss\n",
    "    loss = criterion(outputs, labels)\n",
    "    \n",
    "    # Getting gradients w.r.t. parameters\n",
    "    loss.backward()\n",
    "    \n",
    "    # Updating parametsrs\n",
    "    optimizer.step()\n",
    "    \n",
    "    # Logging\n",
    "    print('epoch {}, loss {}'.format(epoch, loss.data[0]))"
   ]
  },
  {
   "cell_type": "markdown",
   "metadata": {},
   "source": [
    "### Takeaways\n",
    "The main thing to remember is that in order to make sure your model will run on the GPU vs. the CPU, two things must be sent to / exist on the GPU. The model and the Variables. Other than that, everything else can be written and run the same way as if solely using the CPU. Test the above out at home.."
   ]
  },
  {
   "cell_type": "code",
   "execution_count": 5,
   "metadata": {
    "collapsed": false
   },
   "outputs": [
    {
     "data": {
      "text/plain": [
       "<bound method Module.parameters of LinearRegressionModel (\n",
       "  (linear): Linear (1 -> 1)\n",
       ")>"
      ]
     },
     "execution_count": 5,
     "metadata": {},
     "output_type": "execute_result"
    }
   ],
   "source": [
    "model.parameters"
   ]
  },
  {
   "cell_type": "code",
   "execution_count": 6,
   "metadata": {
    "collapsed": false
   },
   "outputs": [
    {
     "data": {
      "text/plain": [
       "<generator object Module.parameters at 0x11a67e938>"
      ]
     },
     "execution_count": 6,
     "metadata": {},
     "output_type": "execute_result"
    }
   ],
   "source": [
    "model.parameters()"
   ]
  },
  {
   "cell_type": "code",
   "execution_count": 7,
   "metadata": {
    "collapsed": false
   },
   "outputs": [
    {
     "name": "stdout",
     "output_type": "stream",
     "text": [
      "<bound method Module.parameters of LinearRegressionModel (\n",
      "  (linear): Linear (1 -> 1)\n",
      ")>\n"
     ]
    }
   ],
   "source": [
    "print(model.parameters)"
   ]
  },
  {
   "cell_type": "code",
   "execution_count": 10,
   "metadata": {
    "collapsed": false
   },
   "outputs": [],
   "source": [
    "?model"
   ]
  },
  {
   "cell_type": "code",
   "execution_count": null,
   "metadata": {
    "collapsed": true
   },
   "outputs": [],
   "source": []
  }
 ],
 "metadata": {
  "kernelspec": {
   "display_name": "Python [py35]",
   "language": "python",
   "name": "Python [py35]"
  },
  "language_info": {
   "codemirror_mode": {
    "name": "ipython",
    "version": 3
   },
   "file_extension": ".py",
   "mimetype": "text/x-python",
   "name": "python",
   "nbconvert_exporter": "python",
   "pygments_lexer": "ipython3",
   "version": "3.6.2"
  }
 },
 "nbformat": 4,
 "nbformat_minor": 2
}
