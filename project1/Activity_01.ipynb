{
 "cells": [
  {
   "cell_type": "markdown",
   "metadata": {},
   "source": [
    "\"\"\" This file is for Activity 1 of the Data Science Learning Club on\n",
    "    BecomingDataSci.com. The basic aim of this activity is to load in\n",
    "    a data file, and try to learn a few basic things about it.\n",
    "\n",
    "    The data I have chosen is water usage data in my home state of CA.\n",
    "    I figured I'd try to work on something that is near and dear to my\n",
    "    heart - water conservation. \"\"\""
   ]
  },
  {
   "cell_type": "code",
   "execution_count": 1,
   "metadata": {
    "collapsed": true
   },
   "outputs": [],
   "source": [
    "#import pandas and numpy libraries\n",
    "import pandas as pd\n",
    "import numpy as np\n",
    "import sys"
   ]
  },
  {
   "cell_type": "code",
   "execution_count": 2,
   "metadata": {
    "collapsed": true
   },
   "outputs": [],
   "source": [
    "#read the .txt file into a pandas dataframe\n",
    "water_in_1990 = pd.read_table(r\"water_ca1990co.txt\")"
   ]
  },
  {
   "cell_type": "code",
   "execution_count": 3,
   "metadata": {
    "collapsed": false
   },
   "outputs": [
    {
     "name": "stdout",
     "output_type": "stream",
     "text": [
      "  state  year agency  scode  area  po-total  ps-popgw  ps-popsw  ps-popto  \\\n",
      "0    CA  1990   USGS      6     1   1279.18    109.37   1142.44   1251.81   \n",
      "1    CA  1990   USGS      6     3      1.11      0.35      0.25      0.60   \n",
      "2    CA  1990   USGS      6     5     30.04      3.54     19.61     23.15   \n",
      "3    CA  1990   USGS      6     7    182.12     77.92     44.80    122.72   \n",
      "4    CA  1990   USGS      6     9     32.00      0.91     10.71     11.62   \n",
      "\n",
      "   ps-wgwfr    ...     to-swsal  to-swtot  to-frtot  to-satot  to-total  \\\n",
      "0     23.83    ...          0.0    200.20    237.83      0.00    237.83   \n",
      "1      0.09    ...          0.0      9.03     27.25      0.00     27.25   \n",
      "2      0.36    ...          0.0     24.00     26.37      0.00     26.37   \n",
      "3     30.32    ...          0.0    518.66    860.02      0.01    860.03   \n",
      "4      0.09    ...          0.0     11.91     13.57      0.00     13.57   \n",
      "\n",
      "   to-recww  to-cufr  to-cusal  to-cuse  to-convy  \n",
      "0      2.03    51.79      0.18    51.97      0.00  \n",
      "1      0.00    13.63      0.00    13.63      0.00  \n",
      "2      0.18    12.45      0.00    12.45      0.00  \n",
      "3      0.00   584.62      0.01   584.63    162.75  \n",
      "4      0.04     6.36      0.00     6.36      0.00  \n",
      "\n",
      "[5 rows x 163 columns]\n",
      "There are 58 rows and 163 columns\n",
      "<class 'pandas.core.frame.DataFrame'>\n",
      "RangeIndex: 58 entries, 0 to 57\n",
      "Columns: 163 entries, state to to-convy\n",
      "dtypes: float64(158), int64(3), object(2)\n",
      "memory usage: 73.9+ KB\n",
      "None\n"
     ]
    }
   ],
   "source": [
    "#now to glean some info about the data frame (rows, cols, head, etc.)\n",
    "print(water_in_1990.head())\n",
    "dimensions = water_in_1990.shape\n",
    "rows = dimensions[0]\n",
    "cols = dimensions[1]\n",
    "print(\"There are %d rows and %d columns\" % (rows, cols))\n",
    "print(water_in_1990.info())"
   ]
  },
  {
   "cell_type": "code",
   "execution_count": 4,
   "metadata": {
    "collapsed": false
   },
   "outputs": [
    {
     "name": "stdout",
     "output_type": "stream",
     "text": [
      "state            CA\n",
      "year           1990\n",
      "agency         USGS\n",
      "scode             6\n",
      "area             37\n",
      "po-total    8863.11\n",
      "ps-popgw    4322.47\n",
      "ps-popsw    4099.65\n",
      "ps-popto    8422.12\n",
      "ps-wgwfr     844.65\n",
      "ps-wswfr      715.6\n",
      "ps-wtofr    1560.25\n",
      "ps-wgwsa          0\n",
      "ps-wswsa          0\n",
      "ps-wsato          0\n",
      "ps-total    1560.25\n",
      "ps-loss       36.84\n",
      "ps-deliv    1523.41\n",
      "ps-prcap     185.26\n",
      "ps-facil        233\n",
      "ps-facdb        124\n",
      "co-wgwfr       1.63\n",
      "co-wswfr          0\n",
      "co-wtotl       1.63\n",
      "co-psdel     237.26\n",
      "co-total     238.89\n",
      "co-cuse        3.74\n",
      "do-sspop     440.99\n",
      "do-ssgwf         21\n",
      "do-ssswf       9.27\n",
      "             ...   \n",
      "ir-flood      15.02\n",
      "ir-irrig      44.19\n",
      "ir-convy       2.65\n",
      "ir-cuse       80.22\n",
      "hy-total    2247.58\n",
      "hy-power    1163.11\n",
      "hy-facil         19\n",
      "hy-facdb         19\n",
      "ww-facpu         41\n",
      "ww-facot         18\n",
      "ww-facil         59\n",
      "ww-retrn     979.27\n",
      "ww-facdb     979.27\n",
      "ww-recww      73.15\n",
      "re-evap       23.19\n",
      "re-area        4.75\n",
      "to-gwfr      963.85\n",
      "to-gwsal      68.55\n",
      "to-gwtot     1032.4\n",
      "to-swfr      792.47\n",
      "to-swsal    2348.25\n",
      "to-swtot    3140.72\n",
      "to-frtot    1756.32\n",
      "to-satot     2416.8\n",
      "to-total    4173.12\n",
      "to-recww      20.18\n",
      "to-cufr      433.98\n",
      "to-cusal       59.1\n",
      "to-cuse      493.08\n",
      "to-convy       2.65\n",
      "Name: 18, dtype: object\n"
     ]
    }
   ],
   "source": [
    "#pandas .loc[] method allows you to select a row from your dataframe, using\n",
    "#the row index number. (0-len(rows))\n",
    "row19 = water_in_1990.loc[18]\n",
    "print(row19)"
   ]
  },
  {
   "cell_type": "code",
   "execution_count": 5,
   "metadata": {
    "collapsed": false
   },
   "outputs": [
    {
     "name": "stdout",
     "output_type": "stream",
     "text": [
      "state            CA\n",
      "year           1990\n",
      "agency         USGS\n",
      "scode             6\n",
      "area             37\n",
      "po-total    8863.11\n",
      "ps-popgw    4322.47\n",
      "ps-popsw    4099.65\n",
      "ps-popto    8422.12\n",
      "ps-wgwfr     844.65\n",
      "ps-wswfr      715.6\n",
      "ps-wtofr    1560.25\n",
      "ps-wgwsa          0\n",
      "ps-wswsa          0\n",
      "ps-wsato          0\n",
      "ps-total    1560.25\n",
      "ps-loss       36.84\n",
      "ps-deliv    1523.41\n",
      "ps-prcap     185.26\n",
      "ps-facil        233\n",
      "ps-facdb        124\n",
      "co-wgwfr       1.63\n",
      "co-wswfr          0\n",
      "co-wtotl       1.63\n",
      "co-psdel     237.26\n",
      "co-total     238.89\n",
      "co-cuse        3.74\n",
      "do-sspop     440.99\n",
      "do-ssgwf         21\n",
      "do-ssswf       9.27\n",
      "             ...   \n",
      "ir-flood      15.02\n",
      "ir-irrig      44.19\n",
      "ir-convy       2.65\n",
      "ir-cuse       80.22\n",
      "hy-total    2247.58\n",
      "hy-power    1163.11\n",
      "hy-facil         19\n",
      "hy-facdb         19\n",
      "ww-facpu         41\n",
      "ww-facot         18\n",
      "ww-facil         59\n",
      "ww-retrn     979.27\n",
      "ww-facdb     979.27\n",
      "ww-recww      73.15\n",
      "re-evap       23.19\n",
      "re-area        4.75\n",
      "to-gwfr      963.85\n",
      "to-gwsal      68.55\n",
      "to-gwtot     1032.4\n",
      "to-swfr      792.47\n",
      "to-swsal    2348.25\n",
      "to-swtot    3140.72\n",
      "to-frtot    1756.32\n",
      "to-satot     2416.8\n",
      "to-total    4173.12\n",
      "to-recww      20.18\n",
      "to-cufr      433.98\n",
      "to-cusal       59.1\n",
      "to-cuse      493.08\n",
      "to-convy       2.65\n",
      "Name: 18, dtype: object\n",
      "['state', 'year', 'agency', 'scode', 'area', 'po-total', 'ps-popgw', 'ps-popsw', 'ps-popto', 'ps-wgwfr', 'ps-wswfr', 'ps-wtofr', 'ps-wgwsa', 'ps-wswsa', 'ps-wsato', 'ps-total', 'ps-loss', 'ps-deliv', 'ps-prcap', 'ps-facil', 'ps-facdb', 'co-wgwfr', 'co-wswfr', 'co-wtotl', 'co-psdel', 'co-total', 'co-cuse', 'do-sspop', 'do-ssgwf', 'do-ssswf', 'do-sstot', 'do-sspcp', 'do-pspop', 'do-psdel', 'do-pspcp', 'do-total', 'do-cuse', 'in-wgwfr', 'in-wgwsa', 'in-wgwto', 'in-wswfr', 'in-wswsa', 'in-wswto', 'in-wtofr', 'in-wtosa', 'in-wtotl', 'in-recww', 'in-psdel', 'in-total', 'in-cufr', 'in-cusal', 'in-cuse', 'in-facil', 'in-facdb', 'pt-wgwfr', 'pt-wswfr', 'pt-wswsa', 'pt-wswto', 'pt-frtot', 'pt-wtotl', 'pt-psdel', 'pt-total', 'pt-cufr', 'pt-cusal', 'pt-cuse', 'pt-power', 'pt-facil', 'pt-facdb', 'pf-wgwfr', 'pf-wswfr', 'pf-wswsa', 'pf-wswto', 'pf-frtot', 'pf-wtotl', 'pf-psdel', 'pf-total', 'pf-cufr', 'pf-cusal', 'pf-cuse', 'pf-power', 'pf-facil', 'pf-facdb', 'pg-wgwfr', 'pg-wgwsa', 'pg-wtotl', 'pg-cufr', 'pg-cusal', 'pg-power', 'pg-facil', 'pg-facdb', 'pn-wgwfr', 'pn-wswfr', 'pn-wswsa', 'pn-wswto', 'pn-frtot', 'pn-wtotl', 'pn-psdel', 'pn-total', 'pn-cufr', 'pn-cusal', 'pn-cuse', 'pn-power', 'pn-facil', 'pn-facdb', 'mi-wgwfr', 'mi-wgwsa', 'mi-gwtot', 'mi-wswfr', 'mi-wswsa', 'mi-swtot', 'mi-frtot', 'mi-satot', 'mi-total', 'mi-cufr', 'mi-cusal', 'mi-cuse', 'ls-gwtot', 'ls-swtot', 'ls-total', 'ls-cuse', 'la-gwtot', 'la-swtot', 'la-total', 'la-cuse', 'lv-gwtot', 'lv-swtot', 'lv-total', 'lv-cuse', 'ir-wgwfr', 'ir-wswfr', 'ir-recww', 'ir-frtot', 'ir-spray', 'ir-flood', 'ir-irrig', 'ir-convy', 'ir-cuse', 'hy-total', 'hy-power', 'hy-facil', 'hy-facdb', 'ww-facpu', 'ww-facot', 'ww-facil', 'ww-retrn', 'ww-facdb', 'ww-recww', 're-evap', 're-area', 'to-gwfr', 'to-gwsal', 'to-gwtot', 'to-swfr', 'to-swsal', 'to-swtot', 'to-frtot', 'to-satot', 'to-total', 'to-recww', 'to-cufr', 'to-cusal', 'to-cuse', 'to-convy']\n"
     ]
    }
   ],
   "source": [
    "print(row19)\n",
    "\"\"\" with 163 columns in this dataset, it's a bit unweildy, I'll need to\n",
    "    do some work to tease out the data I'm looking for. Water usage by\n",
    "    county, that is. Let's see what all the column names are\"\"\"\n",
    "#Putting all the column names into a list\n",
    "col_names = water_in_1990.columns.tolist()\n",
    "print(col_names)"
   ]
  },
  {
   "cell_type": "markdown",
   "metadata": {},
   "source": [
    " Wow - so, there are a lot of column names that don't make much sense\n",
    "    I'm going to go back to the source to see if I can find some kind of\n",
    "    legend. Stay tuned! "
   ]
  },
  {
   "cell_type": "code",
   "execution_count": null,
   "metadata": {
    "collapsed": true
   },
   "outputs": [],
   "source": []
  }
 ],
 "metadata": {
  "kernelspec": {
   "display_name": "Python [py35]",
   "language": "python",
   "name": "Python [py35]"
  },
  "language_info": {
   "codemirror_mode": {
    "name": "ipython",
    "version": 3
   },
   "file_extension": ".py",
   "mimetype": "text/x-python",
   "name": "python",
   "nbconvert_exporter": "python",
   "pygments_lexer": "ipython3",
   "version": "3.5.2"
  }
 },
 "nbformat": 4,
 "nbformat_minor": 0
}
